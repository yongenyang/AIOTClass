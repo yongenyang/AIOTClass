{
 "cells": [
  {
   "cell_type": "code",
   "execution_count": 9,
   "id": "cee6fab2",
   "metadata": {},
   "outputs": [
    {
     "name": "stdout",
     "output_type": "stream",
     "text": [
      " * Serving Flask app '__main__'\n",
      " * Debug mode: off\n"
     ]
    },
    {
     "name": "stderr",
     "output_type": "stream",
     "text": [
      "WARNING: This is a development server. Do not use it in a production deployment. Use a production WSGI server instead.\n",
      " * Running on http://127.0.0.1:5050\n",
      "Press CTRL+C to quit\n",
      "127.0.0.1 - - [13/Jul/2023 09:44:49] \"GET /user/ID=Admin&message=admin%20test%20message HTTP/1.1\" 200 -\n"
     ]
    },
    {
     "name": "stdout",
     "output_type": "stream",
     "text": [
      "{'Admin': 'admin test message'}\n"
     ]
    }
   ],
   "source": [
    "from flask import Flask,request\n",
    "app=Flask(__name__)\n",
    "@app.route(\"/\",methods=['GET'])\n",
    "def anonymous():\n",
    "    print(\"Login success.\")\n",
    "    return \"Successfully logged-in. Welcome.\"\n",
    "@app.route(\"/user/ID=<userid>&message=<message>\",methods=['GET'])\n",
    "def user(userid,message):\n",
    "    UID={}\n",
    "    UID[userid]=message\n",
    "    print(UID)\n",
    "    userstring=\"Your user ID: \"+userid+\"<br>Your message: \"+message\n",
    "    return userstring\n",
    "if __name__ == \"__main__\":\n",
    "    app.run(port=5050)"
   ]
  },
  {
   "cell_type": "code",
   "execution_count": 13,
   "id": "2606d6e5",
   "metadata": {},
   "outputs": [
    {
     "name": "stdout",
     "output_type": "stream",
     "text": [
      "Collecting pymessenger\n",
      "  Downloading pymessenger-0.0.7.0.tar.gz (3.6 kB)\n",
      "  Preparing metadata (setup.py): started\n",
      "  Preparing metadata (setup.py): finished with status 'done'\n",
      "Requirement already satisfied: requests in c:\\users\\user\\anaconda3\\lib\\site-packages (from pymessenger) (2.29.0)\n",
      "Requirement already satisfied: requests-toolbelt in c:\\users\\user\\anaconda3\\lib\\site-packages (from pymessenger) (0.9.1)\n",
      "Requirement already satisfied: six in c:\\users\\user\\anaconda3\\lib\\site-packages (from pymessenger) (1.16.0)\n",
      "Requirement already satisfied: charset-normalizer<4,>=2 in c:\\users\\user\\anaconda3\\lib\\site-packages (from requests->pymessenger) (2.0.4)\n",
      "Requirement already satisfied: idna<4,>=2.5 in c:\\users\\user\\anaconda3\\lib\\site-packages (from requests->pymessenger) (3.4)\n",
      "Requirement already satisfied: urllib3<1.27,>=1.21.1 in c:\\users\\user\\anaconda3\\lib\\site-packages (from requests->pymessenger) (1.26.16)\n",
      "Requirement already satisfied: certifi>=2017.4.17 in c:\\users\\user\\anaconda3\\lib\\site-packages (from requests->pymessenger) (2023.5.7)\n",
      "Building wheels for collected packages: pymessenger\n",
      "  Building wheel for pymessenger (setup.py): started\n",
      "  Building wheel for pymessenger (setup.py): finished with status 'done'\n",
      "  Created wheel for pymessenger: filename=pymessenger-0.0.7.0-py3-none-any.whl size=5109 sha256=2582582f9197ed7990c5e47d4224e0686eafb28db6b7a2ca43256c5639ee299e\n",
      "  Stored in directory: c:\\users\\user\\appdata\\local\\pip\\cache\\wheels\\1b\\c9\\11\\271f22cfb2064757bc6c4b228f87e1ee82ad58fcbfd5badb9a\n",
      "Successfully built pymessenger\n",
      "Installing collected packages: pymessenger\n",
      "Successfully installed pymessenger-0.0.7.0\n",
      "Note: you may need to restart the kernel to use updated packages.\n"
     ]
    }
   ],
   "source": [
    "pip install pymessenger"
   ]
  },
  {
   "cell_type": "code",
   "execution_count": null,
   "id": "918715d5",
   "metadata": {},
   "outputs": [
    {
     "name": "stdout",
     "output_type": "stream",
     "text": [
      " * Serving Flask app '__main__'\n",
      " * Debug mode: off\n"
     ]
    },
    {
     "name": "stderr",
     "output_type": "stream",
     "text": [
      "WARNING: This is a development server. Do not use it in a production deployment. Use a production WSGI server instead.\n",
      " * Running on http://127.0.0.1:5050\n",
      "Press CTRL+C to quit\n",
      "127.0.0.1 - - [13/Jul/2023 10:48:36] \"GET / HTTP/1.1\" 200 -\n",
      "127.0.0.1 - - [13/Jul/2023 10:48:41] \"GET /verify HTTP/1.1\" 200 -\n"
     ]
    },
    {
     "name": "stdout",
     "output_type": "stream",
     "text": [
      "ImmutableMultiDict([])\n"
     ]
    },
    {
     "name": "stderr",
     "output_type": "stream",
     "text": [
      "127.0.0.1 - - [13/Jul/2023 10:49:00] \"GET /verify?hub.mode=subscribe&hub.challenge=396970948&hub.verify_token=2315E55 HTTP/1.1\" 200 -\n"
     ]
    },
    {
     "name": "stdout",
     "output_type": "stream",
     "text": [
      "ImmutableMultiDict([('hub.mode', 'subscribe'), ('hub.challenge', '396970948'), ('hub.verify_token', '2315E55')])\n"
     ]
    }
   ],
   "source": [
    "import os,sys\n",
    "import json\n",
    "from flask import Flask,request\n",
    "from pymessenger import Bot\n",
    "app=Flask(__name__)\n",
    "token=\"EAAJdAZBU5pFEBAJGocRaBnZCgfFqI8LJx4CGLGsihAwlO5oZBb4D5fnc5YaGZCoBUSdDSNgVC7yKmqKhyNrUPmdFSr6jIPHz5ZCY1hy3Row1q2cEJzxi0N8IaNmhLlsnIjZBp7nqsK4ZBZCGQZBSkdiPQXkK9JZCUgRRHdluSbM1TkZBLsMBdecYATE\"\n",
    "bot=Bot(token)\n",
    "num1={\"A\":\"營業時間\",\"B\":\"連絡電話\",\"C\":\"營業地址\"}\n",
    "str1=\"可以輸入以下代碼查詢資料A:營業時間,B:連絡電話,C:營業地址\"\n",
    "@app.route(\"/\",methods=['GET'])\n",
    "def test():\n",
    "    return \"Hello world\",200\n",
    "@app.route(\"/verify\",methods=['GET'])\n",
    "def verify():\n",
    "    print(request.args)\n",
    "    if (request.args.get(\"hub.mode\")==\"subscribe\" and request.args.get(\"hub.challenge\")):\n",
    "        if not(request.args.get(\"hub.verify_token\")==\"2315E55\"):\n",
    "            return \"Verification token mismatch.\", 403\n",
    "        return request.args[\"hub.challenge\"], 200\n",
    "    return \"Wrong link.\", 200\n",
    "if __name__ == \"__main__\":\n",
    "    app.run(port=5050)"
   ]
  },
  {
   "cell_type": "code",
   "execution_count": null,
   "id": "3f8b7ce2",
   "metadata": {},
   "outputs": [],
   "source": []
  }
 ],
 "metadata": {
  "kernelspec": {
   "display_name": "Python 3 (ipykernel)",
   "language": "python",
   "name": "python3"
  },
  "language_info": {
   "codemirror_mode": {
    "name": "ipython",
    "version": 3
   },
   "file_extension": ".py",
   "mimetype": "text/x-python",
   "name": "python",
   "nbconvert_exporter": "python",
   "pygments_lexer": "ipython3",
   "version": "3.11.3"
  }
 },
 "nbformat": 4,
 "nbformat_minor": 5
}
