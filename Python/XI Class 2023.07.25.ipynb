{
 "cells": [
  {
   "cell_type": "code",
   "execution_count": 1,
   "id": "97432dd1",
   "metadata": {},
   "outputs": [
    {
     "name": "stdout",
     "output_type": "stream",
     "text": [
      "Enter ounce: 10\n",
      "Gold=310 grams.\n",
      "Steak=280 grams.\n"
     ]
    }
   ],
   "source": [
    "class OunceToGram:\n",
    "    def setOunce(self,a):\n",
    "        self.ounce=a\n",
    "class Gold(OunceToGram):\n",
    "    def getGram(self):\n",
    "        return self.ounce*31\n",
    "class Steak(OunceToGram):\n",
    "    def getGram(self):\n",
    "        return self.ounce*28\n",
    "\n",
    "gold=Gold()\n",
    "steak=Steak()\n",
    "ounce=int(input(\"Enter ounce: \"))\n",
    "gold.setOunce(ounce)\n",
    "steak.setOunce(ounce)\n",
    "print(\"Gold=\"+str(gold.getGram())+\" grams.\")\n",
    "print(\"Steak=\"+str(steak.getGram())+\" grams.\")"
   ]
  },
  {
   "cell_type": "code",
   "execution_count": null,
   "id": "da561968",
   "metadata": {},
   "outputs": [],
   "source": []
  }
 ],
 "metadata": {
  "kernelspec": {
   "display_name": "Python 3 (ipykernel)",
   "language": "python",
   "name": "python3"
  },
  "language_info": {
   "codemirror_mode": {
    "name": "ipython",
    "version": 3
   },
   "file_extension": ".py",
   "mimetype": "text/x-python",
   "name": "python",
   "nbconvert_exporter": "python",
   "pygments_lexer": "ipython3",
   "version": "3.11.3"
  }
 },
 "nbformat": 4,
 "nbformat_minor": 5
}
