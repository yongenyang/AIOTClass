{
 "cells": [
  {
   "cell_type": "code",
   "execution_count": 1,
   "id": "a0fb8b99",
   "metadata": {},
   "outputs": [
    {
     "name": "stdout",
     "output_type": "stream",
     "text": [
      "error\n"
     ]
    }
   ],
   "source": [
    "import serial\n",
    "from modbus_tk import modbus_rtu\n",
    "import modbus_tk.defines as cst\n",
    "from time import sleep\n",
    "\n",
    "def settingup():\n",
    "    master = modbus_rtu.RtuMaster(serial.Serial(port=PORT,baudrate=9600,bytesize=8,parity=\"N\",stopbits=1))\n",
    "    master.set_timeout(5,0)\n",
    "    master.set_verbose(True)\n",
    "    return master\n",
    "def servoOn(master):\n",
    "    master.execute(2,cst.WRITE_MULTIPLE_REGISTERS,0X2042,1,[1])\n",
    "    print(\"SERVO ON\\n\")\n",
    "def servoOff(master):\n",
    "    master.execute(2,cst.WRITE_MULTIPLE_REGISTERS,0X2042,1,[0])\n",
    "    print(\"SERVO OFF\\n\")\n",
    "def initial(master):\n",
    "    master.execute(2,cst.WRITE_MULTIPLE_REGISTERS,0X2041,1,[0])\n",
    "    print(\"原點歸位中\",end=\"\")\n",
    "    while master.execute(2,cst.READ_HOLDING_REGISTERS,0x1021,1)!=1:\n",
    "        print(\".\",end=\"\")\n",
    "        sleep(2)\n",
    "    print(\"原點歸位完成！\\n\")\n",
    "def designatedLocation(master):\n",
    "    desloc=input(\"請輸入位置 -- \")\n",
    "    try:\n",
    "        float(desloc)\n",
    "        print(\"你輸入的位置是：\"+desloc+\"\\n\")\n",
    "    except:\n",
    "        print(\"輸入無效，請再試一次。\\n\")\n",
    "        designatedLocation(master)\n",
    "def closeup(master):\n",
    "    master.close()\n",
    "    print(\"Program terminated.\")\n",
    "\n",
    "PORT = \"COM2\"\n",
    "\n",
    "try:\n",
    "    master=settingup()\n",
    "    while True:\n",
    "        choice=input(\"1.SERVO ON  2.SERVO OFF\\n3.原點歸位  4.輸入位置  5.離開 -- \")\n",
    "        if choice==\"1\":\n",
    "            servoOn(master)\n",
    "        elif choice==\"2\":\n",
    "            servoOff(master)\n",
    "        elif choice==\"3\":\n",
    "            initial(master)\n",
    "        elif choice==\"4\":\n",
    "            designatedLocation(master)\n",
    "        elif choice==\"5\":\n",
    "            closeup(master)\n",
    "            break\n",
    "        else:\n",
    "            print(\"Invalid choice. Please try again.\\n\")\n",
    "\n",
    "\n",
    "    # master.execute(2,cst.READ_HOLDING_REGISTERS,0x1021,1)\n",
    "    # valse = master.execute(1,cst.READ_HOLDING_REGISTERS,0X100C,2)\n",
    "    # print(valse)\n",
    "except:\n",
    "    print(\"error\")"
   ]
  },
  {
   "cell_type": "code",
   "execution_count": 2,
   "id": "0ed1494b",
   "metadata": {},
   "outputs": [
    {
     "name": "stdout",
     "output_type": "stream",
     "text": [
      "1.SERVO ON  2.SERVO OFF\n",
      "3.原點歸位  4.輸入位置  5.離開 -- 1\n",
      "SERVO ON\n",
      "\n",
      "1.SERVO ON  2.SERVO OFF\n",
      "3.原點歸位  4.輸入位置  5.離開 -- 2\n",
      "SERVO OFF\n",
      "\n",
      "1.SERVO ON  2.SERVO OFF\n",
      "3.原點歸位  4.輸入位置  5.離開 -- 3\n",
      "原點歸位中.....\n",
      "原點歸位完成！\n",
      "\n",
      "1.SERVO ON  2.SERVO OFF\n",
      "3.原點歸位  4.輸入位置  5.離開 -- 4\n",
      "請輸入位置 -- 10\n",
      "你輸入的位置是：10\n",
      "\n",
      "1.SERVO ON  2.SERVO OFF\n",
      "3.原點歸位  4.輸入位置  5.離開 -- 5\n",
      "Program terminated.\n"
     ]
    }
   ],
   "source": [
    "from Ver_Fake import settingup,servoOn,servoOff,initial,designatedLocation,closeup\n",
    "\n",
    "try:\n",
    "    master=settingup()\n",
    "    while True:\n",
    "        choice=input(\"1.SERVO ON  2.SERVO OFF\\n3.原點歸位  4.輸入位置  5.離開 -- \")\n",
    "        if choice==\"1\":\n",
    "            servoOn(master)\n",
    "        elif choice==\"2\":\n",
    "            servoOff(master)\n",
    "        elif choice==\"3\":\n",
    "            initial(master)\n",
    "        elif choice==\"4\":\n",
    "            designatedLocation(master)\n",
    "        elif choice==\"5\":\n",
    "            closeup(master)\n",
    "            break\n",
    "        else:\n",
    "            print(\"Invalid choice. Please try again.\\n\")\n",
    "except:\n",
    "    print(\"error\")"
   ]
  },
  {
   "cell_type": "code",
   "execution_count": null,
   "id": "fcd4f816",
   "metadata": {},
   "outputs": [],
   "source": []
  }
 ],
 "metadata": {
  "kernelspec": {
   "display_name": "Python 3 (ipykernel)",
   "language": "python",
   "name": "python3"
  },
  "language_info": {
   "codemirror_mode": {
    "name": "ipython",
    "version": 3
   },
   "file_extension": ".py",
   "mimetype": "text/x-python",
   "name": "python",
   "nbconvert_exporter": "python",
   "pygments_lexer": "ipython3",
   "version": "3.11.3"
  }
 },
 "nbformat": 4,
 "nbformat_minor": 5
}
