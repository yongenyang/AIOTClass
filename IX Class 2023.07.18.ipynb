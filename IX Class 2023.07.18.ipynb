{
 "cells": [
  {
   "cell_type": "code",
   "execution_count": 12,
   "id": "71066e2d",
   "metadata": {},
   "outputs": [
    {
     "name": "stdout",
     "output_type": "stream",
     "text": [
      "Input: ef\n"
     ]
    }
   ],
   "source": [
    "playername=\"\"\n",
    "def start():\n",
    "    print(\"Hi there, \"+playername+\".\")\n",
    "    print(\"Let's get started!\")\n",
    "\n",
    "#丟入True晴天 丟入False雨天\n",
    "def sunnyrainy(a):\n",
    "    if(a==\"True\"):\n",
    "        print(\"晴天\")\n",
    "    elif(a==\"False\"):\n",
    "        print(\"雨天\")\n",
    "sunnyrainy(input(\"Input: \"))"
   ]
  },
  {
   "cell_type": "code",
   "execution_count": null,
   "id": "b9455c6c",
   "metadata": {},
   "outputs": [],
   "source": []
  }
 ],
 "metadata": {
  "kernelspec": {
   "display_name": "Python 3 (ipykernel)",
   "language": "python",
   "name": "python3"
  },
  "language_info": {
   "codemirror_mode": {
    "name": "ipython",
    "version": 3
   },
   "file_extension": ".py",
   "mimetype": "text/x-python",
   "name": "python",
   "nbconvert_exporter": "python",
   "pygments_lexer": "ipython3",
   "version": "3.11.3"
  }
 },
 "nbformat": 4,
 "nbformat_minor": 5
}
