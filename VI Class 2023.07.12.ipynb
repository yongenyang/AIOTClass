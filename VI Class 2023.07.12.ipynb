{
 "cells": [
  {
   "cell_type": "code",
   "execution_count": 24,
   "id": "e265bce4",
   "metadata": {
    "scrolled": true
   },
   "outputs": [
    {
     "name": "stdout",
     "output_type": "stream",
     "text": [
      "Enter token: EAAJdAZBU5pFEBAKA1lHy5u1lXEBUkFmZAkVM2UUP2FusNxXPjzFgyJObZBbp7ZBLgJpfeDyP6LCdM8RVGdCq0wOUJHBTOriZCaYIh2odTx9xrrtOwdcUsm7dVibkamCNFsBX2eWgK9XoY6u2c2PqwmtPWb85ER6EBOgLfvuI85rp5t7ZAWaqFmxt0TxKvZCuoqvffZCFbBZB4hS0cUgXcRYRT\n"
     ]
    }
   ],
   "source": [
    "token=input(\"Enter token: \")"
   ]
  },
  {
   "cell_type": "code",
   "execution_count": 16,
   "id": "3f5b9475",
   "metadata": {},
   "outputs": [
    {
     "data": {
      "text/plain": [
       "{'data': [{'created_time': '2023-07-12T02:11:30+0000',\n",
       "   'message': '難度請填非常簡單',\n",
       "   'id': '115311071622970_111372072020505'},\n",
       "  {'created_time': '2023-07-12T02:05:28+0000',\n",
       "   'message': '把聲優和角色分開是很重要的哦',\n",
       "   'id': '115311071622970_111369125354133'},\n",
       "  {'created_time': '2023-07-12T01:51:12+0000',\n",
       "   'message': '1600原石的力量！',\n",
       "   'id': '115311071622970_111362082021504'},\n",
       "  {'created_time': '2023-07-12T01:50:07+0000',\n",
       "   'message': '我就爛.',\n",
       "   'id': '115311071622970_111361178688261'}],\n",
       " 'paging': {'cursors': {'before': 'QVFIUkNzZA3I2MUZAhZAlpyb3RkNWFJcVRtM1Mwb1VMYnFrMnBFOFBGQmZAscUpXSHlaYkxwU05EN2lucVVKaUZARSXU0QVFMTGd2QXFGYXMxdEZAnOE94em9Od0wxYUIwSDl6d1YzN1poUEt3cWZAaZAmM5R0VWVTNyLXltUjhmV25zQmthNzFLTmljUVhVMmFHLWFNeHBZAd2RXemRhbElkVDRFQ0hfUUN0QVF1bllvY1ZAzUWZADQ0R0WkpSaGhIQzhhSDlqVklYdVhWSXlZATzFmSEdrOTc4bW9aekNCNktLRlFyNGx4UjExVl9heFJUVS1KUUpRUU5SOU9YelU1bnZAENFZAKWXBqN29ycHJZARDBhU3ZAhZAk0zeUVPV0dnZATN1TURIODg3ZAlpJWE9tWkI5R0VVRXlIZA0NXbUZAHckQyWUZAZAcGFOb2tIcy1QTzR5UHdaN19tbGR5bUhSUm1UMGVhb1pMcXB5aDRXOExJTGRHVXZAGcDNsUlRPTGNfdEZAzQUxzRWh0MXZAzNENpRnZASdmplQTZApLWRhWmlHRFlBTjlaeE8zNU1uU2FxUVRBNDZATRnd3YWliS00ZD',\n",
       "   'after': 'QVFIUmJQY0JJMHB3ZAUs1d2Q0WVYwdnlKLUJBdkN1aGtJaTlDeUJXdVhNaXhMMUJMRVdBdkE2VklpR2xYT0VtSGpjVElVdnd1dTRMeVl6YkpoaUZAMUWZAlTFRyT1JwZAEJzdGlwNEpCcUUzOUdQMExaWlNrZA0F6X2ItVmR0LU9ZAdmU0T0R4a2RRaHQzeENnSDB6aThCTlE4WHpaazlXQUY2WExXSXQ0eHBrSm9jV05za25SMlJqV25XT1lheDlhWUc4SGlvNndhczZAKVE1ST09XY3BNMVktZAUoyZAXNOa0VPLWNrY1VBeTRreFljTzJLXzdYcUhQREVGWXkxN1hnMEYtQ1N6MWhaSmZAkM0dmWlI4MF9rdE1nLTR5WjRlTENuQUFwb3RnRm1wOXowUmpJVDRUbHlkamNVVm9BZAV9fRTJRRC04MC0tZAy1wbVFrdFVsYmE1dGhMSDFQcUtWTlVZAdDZACaFFUNnh0eTE5eEY1MUdIckhQejBWZAEdfeFdEd2tlM01iWURFcWVIX1k1M2ZAkWldDLWkzSFlLMEJaZA0YxU3E2VG40TDZARNEZAvd2F3cGVGc0x0cVN2MGRibHJXTzhWODVURnBIbkFOQ3NsQjctSy15WHhCaEJaTi0wTkVB'}}}"
      ]
     },
     "execution_count": 16,
     "metadata": {},
     "output_type": "execute_result"
    }
   ],
   "source": [
    "import requests\n",
    "import json\n",
    "\n",
    "host=\"https://graph.facebook.com/v17.0/\"\n",
    "pageid=\"115311071622970\"\n",
    "req=requests.get(host+pageid+\"/posts?access_token=\"+token)\n",
    "trans=json.loads(req.text)\n",
    "trans"
   ]
  },
  {
   "cell_type": "code",
   "execution_count": 17,
   "id": "71a61c47",
   "metadata": {},
   "outputs": [
    {
     "data": {
      "text/plain": [
       "{'data': [{'created_time': '2023-07-12T02:06:05+0000',\n",
       "   'from': {'name': '粉紅色磚塊', 'id': '115311071622970'},\n",
       "   'message': '考哥.jpg',\n",
       "   'id': '111369125354133_217480054118112'},\n",
       "  {'created_time': '2023-07-12T02:30:20+0000',\n",
       "   'from': {'name': 'Text0712', 'id': '109958865496356'},\n",
       "   'message': 'ですわ',\n",
       "   'id': '111369125354133_1277855289516302'},\n",
       "  {'created_time': '2023-07-12T02:30:16+0000',\n",
       "   'from': {'name': 'Text0712', 'id': '109958865496356'},\n",
       "   'message': '臭い',\n",
       "   'id': '111369125354133_766247315299106'},\n",
       "  {'created_time': '2023-07-12T02:29:57+0000',\n",
       "   'from': {'name': 'Test.AIOT', 'id': '116290451523813'},\n",
       "   'message': '好啦 就繼續臭',\n",
       "   'id': '111369125354133_265474132783005'}],\n",
       " 'paging': {'cursors': {'before': 'NAZDZD', 'after': 'MQZDZD'}}}"
      ]
     },
     "execution_count": 17,
     "metadata": {},
     "output_type": "execute_result"
    }
   ],
   "source": [
    "import requests\n",
    "import json\n",
    "\n",
    "host=\"https://graph.facebook.com/v17.0/\"\n",
    "postid=\"115311071622970_111369125354133\"\n",
    "req=requests.get(host+postid+\"/comments?access_token=\"+token)\n",
    "trans=json.loads(req.text)\n",
    "trans"
   ]
  },
  {
   "cell_type": "code",
   "execution_count": 18,
   "id": "82a434d9",
   "metadata": {
    "scrolled": true
   },
   "outputs": [
    {
     "data": {
      "text/plain": [
       "{'data': [{'created_time': '2023-07-12T02:09:53+0000',\n",
       "   'from': {'name': '粉紅色磚塊', 'id': '115311071622970'},\n",
       "   'message': '',\n",
       "   'id': '111369125354133_955388839054774'},\n",
       "  {'created_time': '2023-07-12T02:46:09+0000',\n",
       "   'from': {'name': '粉紅色磚塊', 'id': '115311071622970'},\n",
       "   'message': '差低',\n",
       "   'id': '111369125354133_100132469826640'},\n",
       "  {'created_time': '2023-07-12T02:46:30+0000',\n",
       "   'from': {'name': '粉紅色磚塊', 'id': '115311071622970'},\n",
       "   'message': '誰來幫魔術靈配一下音？',\n",
       "   'id': '111369125354133_775231251010956'}],\n",
       " 'paging': {'cursors': {'before': 'QVFIUmRES1ZAYY2hUMHBTM3p5RDZAkb3NpbVJXNVNWTnFDbGc0a2FieVJZAMVh5czFLSzAwNUtKbUtISTJpZAXhjWXlETDZAOVUt3dVlfdWJ4VFBLVW04OE9yYkZA3',\n",
       "   'after': 'QVFIUnVEdGQyeU82eTZAPQnhBbGo4VzYwRjFUNmREVHd4UlV2OFlBWFd1aER6SXFjN0FBRHJvS09NMlRrVVFJakFXTzZA0R3F2Q0RRVzFNdXpiNHFNTTQxQ3Nn'}}}"
      ]
     },
     "execution_count": 18,
     "metadata": {},
     "output_type": "execute_result"
    }
   ],
   "source": [
    "import requests\n",
    "import json\n",
    "\n",
    "host=\"https://graph.facebook.com/v17.0/\"\n",
    "commentid=\"111369125354133_217480054118112\"\n",
    "req=requests.get(host+commentid+\"/comments?access_token=\"+token)\n",
    "trans=json.loads(req.text)\n",
    "trans"
   ]
  },
  {
   "cell_type": "code",
   "execution_count": 50,
   "id": "cf5eb022",
   "metadata": {
    "scrolled": false
   },
   "outputs": [
    {
     "name": "stdout",
     "output_type": "stream",
     "text": [
      "{'id': '115311071622970_111576038666775'}\n",
      "Incorrect. Try again.\n",
      "\n",
      "Incorrect. Try again.\n",
      "\n",
      "That is correct!\n"
     ]
    }
   ],
   "source": [
    "import requests\n",
    "import json\n",
    "import random\n",
    "import time\n",
    "host=\"https://graph.facebook.com/v17.0/\"\n",
    "pageid=\"115311071622970\"\n",
    "nummin=1\n",
    "nummax=100\n",
    "answer=random.randint(nummin,nummax)\n",
    "current=0\n",
    "req=requests.post(host+pageid+\"/feed?message=猜數字遊戲開始，答案為\"+str(answer)+\"\\n在留言區輸入\"+str(nummin)+\"~\"+str(nummax)+\"&access_token=\"+token)\n",
    "trans=json.loads(req.text)\n",
    "print(trans)\n",
    "postid=trans[\"id\"]\n",
    "time.sleep(5)\n",
    "while 1:\n",
    "    req=requests.get(host+postid+\"/comments?access_token=\"+token)\n",
    "    trans=json.loads(req.text)\n",
    "    if(len(trans[\"data\"])==current):\n",
    "        time.sleep(10)\n",
    "        continue\n",
    "    req=requests.get(host+postid+\"/comments?access_token=\"+token)\n",
    "    for i in json.loads(req.text)[\"data\"]:\n",
    "        req=requests.get(host+i[\"id\"]+\"/comments?access_token=\"+token)\n",
    "        if(len(json.loads(req.text)[\"data\"])==0):\n",
    "            guess=int(i[\"message\"])\n",
    "            commentid=i[\"id\"]\n",
    "    if(guess>nummax or guess<nummin):\n",
    "        print(\"Guess out of range. Try again.\\n\")\n",
    "        req=requests.post(host+commentid+\"/comments?message=超出範圍，請再試一次，在留言區輸入%d~%d&access_token=\"%(nummin,nummax)+token)\n",
    "        continue\n",
    "    current+=1\n",
    "    if(guess==answer):\n",
    "        print(\"That is correct!\")\n",
    "        req=requests.post(host+commentid+\"/comments?message=第%d次：猜對了！&access_token=\"%(current)+token)\n",
    "        break\n",
    "    if(guess>answer):\n",
    "        print(\"Incorrect. Try again.\\n\")\n",
    "        nummax=guess\n",
    "        req=requests.post(host+commentid+\"/comments?message=第%d次：猜錯了，請再試一次，在留言區輸入%d~%d&access_token=\"%(current,nummin,nummax)+token)\n",
    "    else:\n",
    "        print(\"Incorrect. Try again.\\n\")\n",
    "        nummin=guess\n",
    "        req=requests.post(host+commentid+\"/comments?message=第%d次：猜錯了，請再試一次，在留言區輸入%d~%d&access_token=\"%(current,nummin,nummax)+token)"
   ]
  },
  {
   "cell_type": "code",
   "execution_count": 42,
   "id": "8d5edff9",
   "metadata": {},
   "outputs": [
    {
     "name": "stdout",
     "output_type": "stream",
     "text": [
      "[{'created_time': '2023-07-12T02:06:05+0000', 'from': {'name': '粉紅色磚塊', 'id': '115311071622970'}, 'message': '考哥.jpg', 'id': '111369125354133_217480054118112'}, {'created_time': '2023-07-12T02:30:20+0000', 'from': {'name': '嘎抓餐飲店', 'id': '109958865496356'}, 'message': 'ですわ', 'id': '111369125354133_1277855289516302'}, {'created_time': '2023-07-12T02:30:16+0000', 'from': {'name': '嘎抓餐飲店', 'id': '109958865496356'}, 'message': '臭い', 'id': '111369125354133_766247315299106'}, {'created_time': '2023-07-12T02:29:57+0000', 'from': {'name': '甜蜜蜜', 'id': '116290451523813'}, 'message': '好啦 就繼續臭', 'id': '111369125354133_265474132783005'}]\n"
     ]
    }
   ],
   "source": [
    "req=requests.get(\"https://graph.facebook.com/v17.0/115311071622970_111369125354133/comments?access_token=\"+token)\n",
    "print(json.loads(req.text)[\"data\"])"
   ]
  },
  {
   "cell_type": "code",
   "execution_count": 47,
   "id": "b5ecb970",
   "metadata": {},
   "outputs": [],
   "source": [
    "req=requests.get(\"https://graph.facebook.com/v17.0/111369125354133_217480054118112/comments?access_token=\"+token)\n"
   ]
  },
  {
   "cell_type": "code",
   "execution_count": null,
   "id": "0d29d402",
   "metadata": {},
   "outputs": [],
   "source": []
  }
 ],
 "metadata": {
  "kernelspec": {
   "display_name": "Python 3 (ipykernel)",
   "language": "python",
   "name": "python3"
  },
  "language_info": {
   "codemirror_mode": {
    "name": "ipython",
    "version": 3
   },
   "file_extension": ".py",
   "mimetype": "text/x-python",
   "name": "python",
   "nbconvert_exporter": "python",
   "pygments_lexer": "ipython3",
   "version": "3.11.3"
  }
 },
 "nbformat": 4,
 "nbformat_minor": 5
}
