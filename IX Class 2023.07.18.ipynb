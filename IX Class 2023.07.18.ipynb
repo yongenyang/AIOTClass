{
 "cells": [
  {
   "cell_type": "code",
   "execution_count": 20,
   "id": "591ebd63",
   "metadata": {},
   "outputs": [
    {
     "name": "stdout",
     "output_type": "stream",
     "text": [
      "雨天\n"
     ]
    }
   ],
   "source": [
    "import random\n",
    "playername=\"\"\n",
    "def start():\n",
    "    print(\"Hi there, \"+playername+\".\")\n",
    "    print(\"Let's get started!\")\n",
    "\n",
    "def sunnyrainy(a):\n",
    "    if(a==1):\n",
    "        print(\"晴天\")\n",
    "    else:\n",
    "        print(\"雨天\")\n",
    "sunnyrainy(random.randint(1,2))"
   ]
  },
  {
   "cell_type": "code",
   "execution_count": 37,
   "id": "b77b31ac",
   "metadata": {},
   "outputs": [
    {
     "name": "stdout",
     "output_type": "stream",
     "text": [
      "Hours: 3\n",
      "Type(1 or 2): 1\n",
      "180\n"
     ]
    }
   ],
   "source": [
    "def convert(a,b):\n",
    "    print(a*(50+b*10))\n",
    "hours=int(input(\"Hours: \"))\n",
    "value=int(input(\"Type(1 or 2): \"))\n",
    "while value not in [1,2]:\n",
    "    value=int(input(\"Try again. Type(1 or 2):\"))\n",
    "convert(hours,value)"
   ]
  },
  {
   "cell_type": "code",
   "execution_count": 38,
   "id": "25a5f045",
   "metadata": {},
   "outputs": [
    {
     "name": "stdout",
     "output_type": "stream",
     "text": [
      "Number1: 4\n",
      "Number2: 2\n",
      "1 for subtract; 2 for add: 1\n",
      "2\n"
     ]
    }
   ],
   "source": [
    "def calculate(a,b,choose):\n",
    "    if(choose==\"1\"):\n",
    "        return a-b\n",
    "    else:\n",
    "        return a+b\n",
    "num1=int(input(\"Number1: \"))\n",
    "num2=int(input(\"Number2: \"))\n",
    "choose=input(\"1 for subtract; 2 for add: \")\n",
    "result=calculate(num1,num2,choose)\n",
    "print(result)"
   ]
  },
  {
   "cell_type": "code",
   "execution_count": 40,
   "id": "3e714efb",
   "metadata": {},
   "outputs": [
    {
     "name": "stdout",
     "output_type": "stream",
     "text": [
      "Enter number: -13\n",
      "[-1, -2, -3, -4, -5, -6, -7, -8, -9, -10, -11, -12, -13]\n"
     ]
    }
   ],
   "source": [
    "def arrayout(a):\n",
    "    array=[]\n",
    "    if(a>0):\n",
    "        for i in range(0,a):\n",
    "            array.append(i+1)\n",
    "    else:\n",
    "        for i in range(0,a,-1):\n",
    "            array.append(i-1)\n",
    "    return array\n",
    "number=int(input(\"Enter number: \"))\n",
    "result=arrayout(number)\n",
    "print(result)"
   ]
  },
  {
   "cell_type": "code",
   "execution_count": 42,
   "id": "2eb664dd",
   "metadata": {},
   "outputs": [
    {
     "name": "stdout",
     "output_type": "stream",
     "text": [
      "Xitun District, Taichung\n",
      "Tzu-Wei LIN\n",
      "LIN\n"
     ]
    }
   ],
   "source": [
    "class Email:\n",
    "    def setAddress(self,address):\n",
    "        print(address)\n",
    "    def setName(self,firstName,lastName):\n",
    "        print(firstName,lastName)\n",
    "        self.mailLastName=lastName\n",
    "    def showLastName(self):\n",
    "        print(self.mailLastName)\n",
    "toTaichungMail=Email()\n",
    "toTaichungMail.setAddress(\"Xitun District, Taichung\")\n",
    "toTaichungMail.setName(\"Tzu-Wei\",\"LIN\")\n",
    "toTaichungMail.showLastName()"
   ]
  },
  {
   "cell_type": "code",
   "execution_count": null,
   "id": "5df6c53f",
   "metadata": {},
   "outputs": [],
   "source": []
  }
 ],
 "metadata": {
  "kernelspec": {
   "display_name": "Python 3 (ipykernel)",
   "language": "python",
   "name": "python3"
  },
  "language_info": {
   "codemirror_mode": {
    "name": "ipython",
    "version": 3
   },
   "file_extension": ".py",
   "mimetype": "text/x-python",
   "name": "python",
   "nbconvert_exporter": "python",
   "pygments_lexer": "ipython3",
   "version": "3.11.3"
  }
 },
 "nbformat": 4,
 "nbformat_minor": 5
}
