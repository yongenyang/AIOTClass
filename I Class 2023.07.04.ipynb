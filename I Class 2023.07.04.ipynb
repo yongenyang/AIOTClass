{
 "cells": [
  {
   "cell_type": "code",
   "execution_count": 1,
   "id": "ee9c1a28",
   "metadata": {},
   "outputs": [
    {
     "name": "stdout",
     "output_type": "stream",
     "text": [
      "asdf\n"
     ]
    }
   ],
   "source": [
    "print(\"asdf\")"
   ]
  },
  {
   "cell_type": "code",
   "execution_count": 2,
   "id": "12e0d00c",
   "metadata": {},
   "outputs": [
    {
     "ename": "NameError",
     "evalue": "name 'asdf' is not defined",
     "output_type": "error",
     "traceback": [
      "\u001b[1;31m---------------------------------------------------------------------------\u001b[0m",
      "\u001b[1;31mNameError\u001b[0m                                 Traceback (most recent call last)",
      "Cell \u001b[1;32mIn[2], line 1\u001b[0m\n\u001b[1;32m----> 1\u001b[0m \u001b[38;5;28mprint\u001b[39m(\u001b[43masdf\u001b[49m)\n",
      "\u001b[1;31mNameError\u001b[0m: name 'asdf' is not defined"
     ]
    }
   ],
   "source": [
    "print(asdf)"
   ]
  },
  {
   "cell_type": "code",
   "execution_count": 3,
   "id": "b36ce06d",
   "metadata": {},
   "outputs": [
    {
     "name": "stdout",
     "output_type": "stream",
     "text": [
      "-87\n"
     ]
    }
   ],
   "source": [
    "print(-87)"
   ]
  },
  {
   "cell_type": "code",
   "execution_count": 4,
   "id": "2deb84ec",
   "metadata": {},
   "outputs": [
    {
     "name": "stdout",
     "output_type": "stream",
     "text": [
      "33\n"
     ]
    }
   ],
   "source": [
    "print(+33)"
   ]
  },
  {
   "cell_type": "code",
   "execution_count": 5,
   "id": "d575ad1e",
   "metadata": {},
   "outputs": [
    {
     "name": "stdout",
     "output_type": "stream",
     "text": [
      "1.6666666666666667\n"
     ]
    }
   ],
   "source": [
    "print(5/3)"
   ]
  },
  {
   "cell_type": "code",
   "execution_count": 6,
   "id": "2cfd7b3b",
   "metadata": {},
   "outputs": [
    {
     "name": "stdout",
     "output_type": "stream",
     "text": [
      "1.75\n"
     ]
    }
   ],
   "source": [
    "print(7/4)"
   ]
  },
  {
   "cell_type": "code",
   "execution_count": 7,
   "id": "447875c3",
   "metadata": {},
   "outputs": [
    {
     "name": "stdout",
     "output_type": "stream",
     "text": [
      "print()\n"
     ]
    }
   ],
   "source": [
    "print(\"print()\")"
   ]
  },
  {
   "cell_type": "code",
   "execution_count": 8,
   "id": "acf53a17",
   "metadata": {
    "scrolled": true
   },
   "outputs": [
    {
     "name": "stdout",
     "output_type": "stream",
     "text": [
      "7\n"
     ]
    }
   ],
   "source": [
    "print(5^2)"
   ]
  },
  {
   "cell_type": "code",
   "execution_count": 9,
   "id": "42809edf",
   "metadata": {},
   "outputs": [
    {
     "name": "stdout",
     "output_type": "stream",
     "text": [
      "25\n"
     ]
    }
   ],
   "source": [
    "print(5*5)"
   ]
  },
  {
   "cell_type": "code",
   "execution_count": 10,
   "id": "91c1a99d",
   "metadata": {},
   "outputs": [
    {
     "name": "stdout",
     "output_type": "stream",
     "text": [
      "1\n",
      "2\n",
      "3\n",
      "4\n",
      "5\n"
     ]
    }
   ],
   "source": [
    "print(1)\n",
    "print(2)\n",
    "\n",
    "print(3)\n",
    "print(4)\n",
    "\n",
    "print(5)"
   ]
  },
  {
   "cell_type": "markdown",
   "id": "e46f6c31",
   "metadata": {},
   "source": [
    "print(2222)#fff print(233)"
   ]
  },
  {
   "cell_type": "code",
   "execution_count": 11,
   "id": "ef980552",
   "metadata": {},
   "outputs": [
    {
     "name": "stdout",
     "output_type": "stream",
     "text": [
      "2222\n"
     ]
    }
   ],
   "source": [
    "print(2222)#fff print(233)"
   ]
  },
  {
   "cell_type": "code",
   "execution_count": 12,
   "id": "1c92946f",
   "metadata": {},
   "outputs": [
    {
     "name": "stdout",
     "output_type": "stream",
     "text": [
      "1 23 456 7890\n"
     ]
    }
   ],
   "source": [
    "print(1,23,456,7890)"
   ]
  },
  {
   "cell_type": "code",
   "execution_count": 13,
   "id": "8215998c",
   "metadata": {},
   "outputs": [],
   "source": [
    "#suizhu8xiaoshi"
   ]
  },
  {
   "cell_type": "code",
   "execution_count": 14,
   "id": "9b5bb3bc",
   "metadata": {},
   "outputs": [
    {
     "name": "stdout",
     "output_type": "stream",
     "text": [
      "2023\n",
      "7\n",
      "4\n",
      "二\n",
      "18\n"
     ]
    }
   ],
   "source": [
    "#suizhu8xiaoshi\n",
    "print(1911+112) #今年是哪一年\n",
    "print(7) #這個月是幾月\n",
    "print(4) #今天是幾號\n",
    "print(\"二\") #今天是星期幾\n",
    "print(2023-2004-1) #自己的年齡(可以謊報)"
   ]
  },
  {
   "cell_type": "code",
   "execution_count": 15,
   "id": "db7ef8eb",
   "metadata": {},
   "outputs": [
    {
     "name": "stdout",
     "output_type": "stream",
     "text": [
      "45 元\n"
     ]
    }
   ],
   "source": [
    "print(15*3,\"元\")"
   ]
  },
  {
   "cell_type": "code",
   "execution_count": 18,
   "id": "367d7a86",
   "metadata": {},
   "outputs": [
    {
     "name": "stdout",
     "output_type": "stream",
     "text": [
      "45\n",
      "元\n"
     ]
    }
   ],
   "source": [
    "print(45) ;print(\"元\")"
   ]
  },
  {
   "cell_type": "code",
   "execution_count": 19,
   "id": "c35f4c21",
   "metadata": {},
   "outputs": [
    {
     "name": "stdout",
     "output_type": "stream",
     "text": [
      "1100.0\n"
     ]
    }
   ],
   "source": [
    "print(1000*(1+10/100))"
   ]
  },
  {
   "cell_type": "code",
   "execution_count": 20,
   "id": "d1db69ad",
   "metadata": {},
   "outputs": [
    {
     "name": "stdout",
     "output_type": "stream",
     "text": [
      "-152.0\n"
     ]
    }
   ],
   "source": [
    "print(12+(6-34)*5-4*(3+24/8))"
   ]
  },
  {
   "cell_type": "code",
   "execution_count": 21,
   "id": "33f3a715",
   "metadata": {},
   "outputs": [
    {
     "name": "stdout",
     "output_type": "stream",
     "text": [
      "100\n"
     ]
    }
   ],
   "source": [
    "x=100\n",
    "print(x)"
   ]
  },
  {
   "cell_type": "code",
   "execution_count": 22,
   "id": "858b4101",
   "metadata": {},
   "outputs": [
    {
     "name": "stdout",
     "output_type": "stream",
     "text": [
      "-5\n"
     ]
    }
   ],
   "source": [
    "y=-5\n",
    "print(y)"
   ]
  },
  {
   "cell_type": "code",
   "execution_count": 23,
   "id": "b4c04c4f",
   "metadata": {},
   "outputs": [
    {
     "name": "stdout",
     "output_type": "stream",
     "text": [
      "100\n"
     ]
    }
   ],
   "source": [
    "print(x)"
   ]
  },
  {
   "cell_type": "code",
   "execution_count": 24,
   "id": "7e9adba6",
   "metadata": {},
   "outputs": [
    {
     "name": "stdout",
     "output_type": "stream",
     "text": [
      "柊千里\n"
     ]
    }
   ],
   "source": [
    "what=input()"
   ]
  },
  {
   "cell_type": "code",
   "execution_count": 25,
   "id": "dfafcf0e",
   "metadata": {},
   "outputs": [
    {
     "name": "stdout",
     "output_type": "stream",
     "text": [
      "柊千里 100\n"
     ]
    }
   ],
   "source": [
    "print(what,x)"
   ]
  },
  {
   "cell_type": "code",
   "execution_count": 26,
   "id": "3489879a",
   "metadata": {},
   "outputs": [],
   "source": [
    "what=()"
   ]
  },
  {
   "cell_type": "code",
   "execution_count": 27,
   "id": "6ab6ad62",
   "metadata": {},
   "outputs": [
    {
     "ename": "SyntaxError",
     "evalue": "Missing parentheses in call to 'print'. Did you mean print(...)? (2341278160.py, line 1)",
     "output_type": "error",
     "traceback": [
      "\u001b[1;36m  Cell \u001b[1;32mIn[27], line 1\u001b[1;36m\u001b[0m\n\u001b[1;33m    print what\u001b[0m\n\u001b[1;37m    ^\u001b[0m\n\u001b[1;31mSyntaxError\u001b[0m\u001b[1;31m:\u001b[0m Missing parentheses in call to 'print'. Did you mean print(...)?\n"
     ]
    }
   ],
   "source": [
    "print what"
   ]
  },
  {
   "cell_type": "code",
   "execution_count": 28,
   "id": "4f4f045f",
   "metadata": {},
   "outputs": [
    {
     "name": "stdout",
     "output_type": "stream",
     "text": [
      "()\n"
     ]
    }
   ],
   "source": [
    "print(what)"
   ]
  },
  {
   "cell_type": "code",
   "execution_count": 29,
   "id": "59a08dd9",
   "metadata": {},
   "outputs": [
    {
     "name": "stdout",
     "output_type": "stream",
     "text": [
      "0\n"
     ]
    }
   ],
   "source": [
    "what=(0)\n",
    "print(what)"
   ]
  },
  {
   "cell_type": "code",
   "execution_count": 30,
   "id": "d82992b0",
   "metadata": {},
   "outputs": [
    {
     "name": "stdout",
     "output_type": "stream",
     "text": [
      "1\n",
      "2\n"
     ]
    }
   ],
   "source": [
    "a=1\n",
    "print(a)\n",
    "a=2\n",
    "print(a)"
   ]
  },
  {
   "cell_type": "code",
   "execution_count": 31,
   "id": "5f0d9a8b",
   "metadata": {},
   "outputs": [],
   "source": [
    "wait=what"
   ]
  },
  {
   "cell_type": "code",
   "execution_count": 32,
   "id": "50fbfd80",
   "metadata": {},
   "outputs": [
    {
     "name": "stdout",
     "output_type": "stream",
     "text": [
      "0 0\n"
     ]
    }
   ],
   "source": [
    "print(wait,what)"
   ]
  },
  {
   "cell_type": "code",
   "execution_count": 33,
   "id": "5a41139c",
   "metadata": {},
   "outputs": [
    {
     "name": "stdout",
     "output_type": "stream",
     "text": [
      "-18.0\n"
     ]
    }
   ],
   "source": [
    "b=x/y+a\n",
    "print(b)"
   ]
  },
  {
   "cell_type": "code",
   "execution_count": 34,
   "id": "adc27ce5",
   "metadata": {},
   "outputs": [
    {
     "name": "stdout",
     "output_type": "stream",
     "text": [
      "185\n"
     ]
    }
   ],
   "source": [
    "soymilk=15\n",
    "frieddumpling=35\n",
    "print(frieddumpling*4+soymilk*3)"
   ]
  },
  {
   "cell_type": "code",
   "execution_count": 35,
   "id": "416296bd",
   "metadata": {},
   "outputs": [
    {
     "name": "stdout",
     "output_type": "stream",
     "text": [
      "1150.0000000000002\n"
     ]
    }
   ],
   "source": [
    "print(1000*(1+0.10+0.05))"
   ]
  },
  {
   "cell_type": "code",
   "execution_count": 36,
   "id": "e86f50fe",
   "metadata": {},
   "outputs": [
    {
     "name": "stdout",
     "output_type": "stream",
     "text": [
      "1150.0000000000002\n"
     ]
    }
   ],
   "source": [
    "print(1000*(1+0.1+0.05))"
   ]
  },
  {
   "cell_type": "code",
   "execution_count": 37,
   "id": "93de4721",
   "metadata": {},
   "outputs": [
    {
     "ename": "SyntaxError",
     "evalue": "invalid syntax (1277751513.py, line 1)",
     "output_type": "error",
     "traceback": [
      "\u001b[1;36m  Cell \u001b[1;32mIn[37], line 1\u001b[1;36m\u001b[0m\n\u001b[1;33m    a++\u001b[0m\n\u001b[1;37m       ^\u001b[0m\n\u001b[1;31mSyntaxError\u001b[0m\u001b[1;31m:\u001b[0m invalid syntax\n"
     ]
    }
   ],
   "source": [
    "a++"
   ]
  },
  {
   "cell_type": "code",
   "execution_count": 38,
   "id": "8a4ce44f",
   "metadata": {},
   "outputs": [],
   "source": [
    "a=a+1"
   ]
  },
  {
   "cell_type": "code",
   "execution_count": 39,
   "id": "e6aa1413",
   "metadata": {},
   "outputs": [
    {
     "name": "stdout",
     "output_type": "stream",
     "text": [
      "748\n"
     ]
    }
   ],
   "source": [
    "applejuice=35\n",
    "applemilk=50\n",
    "applealot=55\n",
    "bag=2\n",
    "cup=-5\n",
    "print(1000-applejuice*2-applemilk*3-applealot*1-bag*1-cup*5)"
   ]
  },
  {
   "cell_type": "code",
   "execution_count": 40,
   "id": "b84af38e",
   "metadata": {},
   "outputs": [
    {
     "name": "stdout",
     "output_type": "stream",
     "text": [
      "<class 'int'>\n"
     ]
    }
   ],
   "source": [
    "print(type(82))"
   ]
  },
  {
   "cell_type": "code",
   "execution_count": 41,
   "id": "c127b7b0",
   "metadata": {},
   "outputs": [
    {
     "ename": "SyntaxError",
     "evalue": "invalid syntax. Perhaps you forgot a comma? (3810378805.py, line 1)",
     "output_type": "error",
     "traceback": [
      "\u001b[1;36m  Cell \u001b[1;32mIn[41], line 1\u001b[1;36m\u001b[0m\n\u001b[1;33m    print(type(38 2))\u001b[0m\n\u001b[1;37m               ^\u001b[0m\n\u001b[1;31mSyntaxError\u001b[0m\u001b[1;31m:\u001b[0m invalid syntax. Perhaps you forgot a comma?\n"
     ]
    }
   ],
   "source": [
    "print(type(38 2))"
   ]
  },
  {
   "cell_type": "code",
   "execution_count": 42,
   "id": "113c004c",
   "metadata": {},
   "outputs": [
    {
     "ename": "TypeError",
     "evalue": "type() takes 1 or 3 arguments",
     "output_type": "error",
     "traceback": [
      "\u001b[1;31m---------------------------------------------------------------------------\u001b[0m",
      "\u001b[1;31mTypeError\u001b[0m                                 Traceback (most recent call last)",
      "Cell \u001b[1;32mIn[42], line 1\u001b[0m\n\u001b[1;32m----> 1\u001b[0m \u001b[38;5;28mprint\u001b[39m(\u001b[38;5;28;43mtype\u001b[39;49m\u001b[43m(\u001b[49m\u001b[43ma\u001b[49m\u001b[43m,\u001b[49m\u001b[38;5;241;43m25\u001b[39;49m\u001b[43m,\u001b[49m\u001b[38;5;241;43m388.\u001b[39;49m\u001b[43m,\u001b[49m\u001b[38;5;124;43m\"\u001b[39;49m\u001b[38;5;124;43miii\u001b[39;49m\u001b[38;5;124;43m\"\u001b[39;49m\u001b[43m)\u001b[49m)\n",
      "\u001b[1;31mTypeError\u001b[0m: type() takes 1 or 3 arguments"
     ]
    }
   ],
   "source": [
    "print(type(a,25,388.,\"iii\"))"
   ]
  },
  {
   "cell_type": "code",
   "execution_count": 43,
   "id": "f32479bc",
   "metadata": {},
   "outputs": [
    {
     "ename": "TypeError",
     "evalue": "type.__new__() argument 1 must be str, not int",
     "output_type": "error",
     "traceback": [
      "\u001b[1;31m---------------------------------------------------------------------------\u001b[0m",
      "\u001b[1;31mTypeError\u001b[0m                                 Traceback (most recent call last)",
      "Cell \u001b[1;32mIn[43], line 1\u001b[0m\n\u001b[1;32m----> 1\u001b[0m \u001b[38;5;28mprint\u001b[39m(\u001b[38;5;28;43mtype\u001b[39;49m\u001b[43m(\u001b[49m\u001b[43ma\u001b[49m\u001b[43m,\u001b[49m\u001b[38;5;241;43m25\u001b[39;49m\u001b[43m,\u001b[49m\u001b[38;5;241;43m388.\u001b[39;49m\u001b[43m)\u001b[49m)\n",
      "\u001b[1;31mTypeError\u001b[0m: type.__new__() argument 1 must be str, not int"
     ]
    }
   ],
   "source": [
    "print(type(a,25,388.))"
   ]
  },
  {
   "cell_type": "code",
   "execution_count": 44,
   "id": "41f2492d",
   "metadata": {},
   "outputs": [
    {
     "name": "stdout",
     "output_type": "stream",
     "text": [
      "<class 'int'>\n"
     ]
    }
   ],
   "source": [
    "print(type(a))"
   ]
  },
  {
   "cell_type": "code",
   "execution_count": 45,
   "id": "e0458028",
   "metadata": {},
   "outputs": [
    {
     "name": "stdout",
     "output_type": "stream",
     "text": [
      "3.0\n"
     ]
    }
   ],
   "source": [
    "a=float(a)\n",
    "print(a)"
   ]
  },
  {
   "cell_type": "code",
   "execution_count": 46,
   "id": "9c2470af",
   "metadata": {},
   "outputs": [
    {
     "name": "stdout",
     "output_type": "stream",
     "text": [
      "0.0\n"
     ]
    }
   ],
   "source": [
    "print(0.0)"
   ]
  },
  {
   "cell_type": "code",
   "execution_count": 47,
   "id": "b075b326",
   "metadata": {},
   "outputs": [
    {
     "name": "stdout",
     "output_type": "stream",
     "text": [
      "12345\n"
     ]
    }
   ],
   "source": [
    "print(int(12345.6789))"
   ]
  },
  {
   "cell_type": "code",
   "execution_count": 48,
   "id": "d5fcd017",
   "metadata": {},
   "outputs": [
    {
     "name": "stdout",
     "output_type": "stream",
     "text": [
      "5\n"
     ]
    }
   ],
   "source": [
    "print(int(100/20))"
   ]
  },
  {
   "cell_type": "code",
   "execution_count": 49,
   "id": "5d8ec681",
   "metadata": {},
   "outputs": [],
   "source": [
    "age=\"age\""
   ]
  },
  {
   "cell_type": "code",
   "execution_count": 51,
   "id": "568449d4",
   "metadata": {},
   "outputs": [
    {
     "name": "stdout",
     "output_type": "stream",
     "text": [
      "age\n"
     ]
    }
   ],
   "source": [
    "print(age)"
   ]
  },
  {
   "cell_type": "code",
   "execution_count": 52,
   "id": "34e1ec3e",
   "metadata": {},
   "outputs": [
    {
     "name": "stdout",
     "output_type": "stream",
     "text": [
      "<class 'str'>\n"
     ]
    }
   ],
   "source": [
    "print(type(age))"
   ]
  },
  {
   "cell_type": "code",
   "execution_count": 53,
   "id": "e4c81492",
   "metadata": {},
   "outputs": [
    {
     "name": "stdout",
     "output_type": "stream",
     "text": [
      "suizhu8xiaoshi\n",
      "<class 'str'>\n"
     ]
    }
   ],
   "source": [
    "name=\"suizhu8xiaoshi\"\n",
    "print(name)\n",
    "print(type(name))"
   ]
  },
  {
   "cell_type": "code",
   "execution_count": 54,
   "id": "e69a1604",
   "metadata": {},
   "outputs": [
    {
     "name": "stdout",
     "output_type": "stream",
     "text": [
      "T\n"
     ]
    }
   ],
   "source": [
    "text=\"ABCDEFGHIJKLMNOPQRSTUVWXYZ\"\n",
    "print(text[19])"
   ]
  },
  {
   "cell_type": "code",
   "execution_count": 55,
   "id": "661fe86d",
   "metadata": {},
   "outputs": [
    {
     "ename": "IndexError",
     "evalue": "string index out of range",
     "output_type": "error",
     "traceback": [
      "\u001b[1;31m---------------------------------------------------------------------------\u001b[0m",
      "\u001b[1;31mIndexError\u001b[0m                                Traceback (most recent call last)",
      "Cell \u001b[1;32mIn[55], line 1\u001b[0m\n\u001b[1;32m----> 1\u001b[0m \u001b[38;5;28mprint\u001b[39m(\u001b[43mtext\u001b[49m\u001b[43m[\u001b[49m\u001b[38;5;241;43m26\u001b[39;49m\u001b[43m]\u001b[49m)\n",
      "\u001b[1;31mIndexError\u001b[0m: string index out of range"
     ]
    }
   ],
   "source": [
    "print(text[26])"
   ]
  },
  {
   "cell_type": "code",
   "execution_count": 56,
   "id": "bc1c71ba",
   "metadata": {},
   "outputs": [
    {
     "name": "stdout",
     "output_type": "stream",
     "text": [
      "馬\n"
     ]
    }
   ],
   "source": [
    "zodiac=\"鼠牛虎兔龍蛇馬羊猴雞狗豬\"\n",
    "print(zodiac[7-1])"
   ]
  },
  {
   "cell_type": "code",
   "execution_count": 57,
   "id": "d98470d4",
   "metadata": {},
   "outputs": [
    {
     "name": "stdout",
     "output_type": "stream",
     "text": [
      "M\n"
     ]
    }
   ],
   "source": [
    "print(text[-14])"
   ]
  },
  {
   "cell_type": "code",
   "execution_count": 58,
   "id": "0268602e",
   "metadata": {},
   "outputs": [
    {
     "name": "stdout",
     "output_type": "stream",
     "text": [
      "GHIJK\n"
     ]
    }
   ],
   "source": [
    "print(text[6:11])"
   ]
  },
  {
   "cell_type": "code",
   "execution_count": 59,
   "id": "e99950e9",
   "metadata": {},
   "outputs": [
    {
     "name": "stdout",
     "output_type": "stream",
     "text": [
      "ABCDEFGHIJKL\n",
      "MNOPQRSTUVWXYZ\n"
     ]
    }
   ],
   "source": [
    "print(text[:12])\n",
    "print(text[12:])"
   ]
  },
  {
   "cell_type": "code",
   "execution_count": 61,
   "id": "c077fdaf",
   "metadata": {},
   "outputs": [
    {
     "name": "stdout",
     "output_type": "stream",
     "text": [
      "Who are you?\n",
      "Sangonomiya Kokomi\n",
      "Hello, Sangonomiya Kokomi.\n"
     ]
    }
   ],
   "source": [
    "print(\"Who are you?\")\n",
    "user=input()\n",
    "print(\"Hello,\",user+\".\")"
   ]
  },
  {
   "cell_type": "code",
   "execution_count": 62,
   "id": "37eaac7d",
   "metadata": {},
   "outputs": [
    {
     "name": "stdout",
     "output_type": "stream",
     "text": [
      "ABCDEFGHIJKLMNOPQRSTUVWXYZ鼠牛虎兔龍蛇馬羊猴雞狗豬Sangonomiya Kokomi\n"
     ]
    }
   ],
   "source": [
    "print(text+zodiac+user)"
   ]
  },
  {
   "cell_type": "code",
   "execution_count": 63,
   "id": "ac84949c",
   "metadata": {},
   "outputs": [
    {
     "name": "stdout",
     "output_type": "stream",
     "text": [
      "miya Kokomi\n"
     ]
    }
   ],
   "source": [
    "print(user[7:])"
   ]
  },
  {
   "cell_type": "code",
   "execution_count": 64,
   "id": "f044d987",
   "metadata": {},
   "outputs": [
    {
     "name": "stdout",
     "output_type": "stream",
     "text": [
      "Name:\n",
      "Layla\n",
      "Birthday:\n",
      "12/19\n",
      "Affiliation:\n",
      "Rtawahist\n",
      "Role:\n",
      "student\n",
      "Layla, born on 12/19, is currently a student of Rtawahist.\n"
     ]
    }
   ],
   "source": [
    "print(\"Name:\")\n",
    "user=input()\n",
    "print(\"Birthday:\")\n",
    "birthday=input()\n",
    "print(\"Affiliation:\")\n",
    "affiliation=input()\n",
    "print(\"Role:\")\n",
    "role=input()\n",
    "\n",
    "print(user+\", born on\",birthday+\", is currently a\",role,\"of\",affiliation+\".\")"
   ]
  },
  {
   "cell_type": "code",
   "execution_count": 65,
   "id": "13d615c3",
   "metadata": {},
   "outputs": [
    {
     "ename": "TypeError",
     "evalue": "can only concatenate str (not \"int\") to str",
     "output_type": "error",
     "traceback": [
      "\u001b[1;31m---------------------------------------------------------------------------\u001b[0m",
      "\u001b[1;31mTypeError\u001b[0m                                 Traceback (most recent call last)",
      "Cell \u001b[1;32mIn[65], line 1\u001b[0m\n\u001b[1;32m----> 1\u001b[0m mashup\u001b[38;5;241m=\u001b[39m\u001b[38;5;124;43m\"\u001b[39;49m\u001b[38;5;124;43mwhaaaa\u001b[39;49m\u001b[38;5;124;43m\"\u001b[39;49m\u001b[38;5;241;43m+\u001b[39;49m\u001b[38;5;241;43m777\u001b[39;49m\n",
      "\u001b[1;31mTypeError\u001b[0m: can only concatenate str (not \"int\") to str"
     ]
    }
   ],
   "source": [
    "mashup=\"whaaaa\"+777"
   ]
  },
  {
   "cell_type": "code",
   "execution_count": 66,
   "id": "e344e2df",
   "metadata": {},
   "outputs": [
    {
     "name": "stdout",
     "output_type": "stream",
     "text": [
      "\n",
      "<class 'str'>\n"
     ]
    }
   ],
   "source": [
    "age=\"\"\n",
    "print(age)\n",
    "print(type(age))"
   ]
  },
  {
   "cell_type": "code",
   "execution_count": 67,
   "id": "d91c5d23",
   "metadata": {},
   "outputs": [
    {
     "name": "stdout",
     "output_type": "stream",
     "text": [
      "LaylaLaylaLayla\n"
     ]
    }
   ],
   "source": [
    "print(3*user)"
   ]
  },
  {
   "cell_type": "code",
   "execution_count": 68,
   "id": "4d457847",
   "metadata": {},
   "outputs": [
    {
     "ename": "TypeError",
     "evalue": "can't multiply sequence by non-int of type 'float'",
     "output_type": "error",
     "traceback": [
      "\u001b[1;31m---------------------------------------------------------------------------\u001b[0m",
      "\u001b[1;31mTypeError\u001b[0m                                 Traceback (most recent call last)",
      "Cell \u001b[1;32mIn[68], line 1\u001b[0m\n\u001b[1;32m----> 1\u001b[0m \u001b[38;5;28mprint\u001b[39m(\u001b[43muser\u001b[49m\u001b[38;5;241;43m*\u001b[39;49m\u001b[38;5;241;43m3.5\u001b[39;49m)\n",
      "\u001b[1;31mTypeError\u001b[0m: can't multiply sequence by non-int of type 'float'"
     ]
    }
   ],
   "source": [
    "print(user*3.5)"
   ]
  },
  {
   "cell_type": "code",
   "execution_count": 69,
   "id": "1af3f9ed",
   "metadata": {},
   "outputs": [
    {
     "name": "stdout",
     "output_type": "stream",
     "text": [
      "11\n",
      "14\n",
      "1114\n"
     ]
    }
   ],
   "source": [
    "num1=input()\n",
    "num2=input()\n",
    "print(num1+num2)"
   ]
  },
  {
   "cell_type": "code",
   "execution_count": 70,
   "id": "faef561a",
   "metadata": {},
   "outputs": [
    {
     "name": "stdout",
     "output_type": "stream",
     "text": [
      "11\n",
      "14\n",
      "25\n"
     ]
    }
   ],
   "source": [
    "num1=input()\n",
    "num2=input()\n",
    "print(int(num1)+int(num2))"
   ]
  },
  {
   "cell_type": "code",
   "execution_count": 71,
   "id": "2e004199",
   "metadata": {},
   "outputs": [
    {
     "name": "stdout",
     "output_type": "stream",
     "text": [
      "24\n",
      "32\n",
      "768\n"
     ]
    }
   ],
   "source": [
    "num1=input()\n",
    "num2=input()\n",
    "print(int(num1)*int(num2))"
   ]
  },
  {
   "cell_type": "code",
   "execution_count": 72,
   "id": "39b5b4a4",
   "metadata": {},
   "outputs": [
    {
     "name": "stdout",
     "output_type": "stream",
     "text": [
      "jj\n"
     ]
    }
   ],
   "source": [
    "age=input(\"jj\")"
   ]
  },
  {
   "cell_type": "code",
   "execution_count": 81,
   "id": "667edf11",
   "metadata": {},
   "outputs": [
    {
     "name": "stdout",
     "output_type": "stream",
     "text": [
      "Birth year:1987\n",
      "You can retire at 2052.\n"
     ]
    }
   ],
   "source": [
    "birthyear=int(input(\"Birth year:\"))\n",
    "retire=str(birthyear+65)\n",
    "print(\"You can retire at \"+retire+\".\")"
   ]
  },
  {
   "cell_type": "code",
   "execution_count": 83,
   "id": "0a55cb2f",
   "metadata": {},
   "outputs": [
    {
     "name": "stdout",
     "output_type": "stream",
     "text": [
      "True\n"
     ]
    }
   ],
   "source": [
    "print(1==1)"
   ]
  },
  {
   "cell_type": "code",
   "execution_count": 84,
   "id": "75fa1596",
   "metadata": {},
   "outputs": [
    {
     "name": "stdout",
     "output_type": "stream",
     "text": [
      "Enter 1:1\n",
      "False\n"
     ]
    }
   ],
   "source": [
    "print(input(\"Enter 1:\")==1)"
   ]
  },
  {
   "cell_type": "code",
   "execution_count": 85,
   "id": "21177151",
   "metadata": {},
   "outputs": [
    {
     "name": "stdout",
     "output_type": "stream",
     "text": [
      "Enter 1:1\n",
      "True\n"
     ]
    }
   ],
   "source": [
    "print(int(input(\"Enter 1:\"))==1)"
   ]
  },
  {
   "cell_type": "code",
   "execution_count": 87,
   "id": "d522687a",
   "metadata": {},
   "outputs": [
    {
     "name": "stdout",
     "output_type": "stream",
     "text": [
      "What is your name? my name\n",
      "What is your pet? pet\n",
      "What is the name of your pet? its name\n",
      "What is your birth year? -65\n",
      "My name is my name. My pet is a pet and its name is its name. My retirement year is 0.\n"
     ]
    }
   ],
   "source": [
    "q1=input(\"What is your name? \")\n",
    "q2=input(\"What is your pet? \")\n",
    "q3=input(\"What is the name of your pet? \")\n",
    "q4=input(\"What is your birth year? \")\n",
    "v1=str(int(q4)+65)\n",
    "print(\"My name is \"+q1+\". My pet is a \"+q2+\" and its name is \"+q3+\". My retirement year is \"+v1+\".\")"
   ]
  },
  {
   "cell_type": "code",
   "execution_count": 91,
   "id": "3f3fcfe2",
   "metadata": {},
   "outputs": [],
   "source": [
    "newlist=[12,19,\"Sumeru\",\"Rtawahist\",\"Layla\"]"
   ]
  },
  {
   "cell_type": "code",
   "execution_count": 96,
   "id": "e29aedcd",
   "metadata": {
    "scrolled": true
   },
   "outputs": [
    {
     "name": "stdout",
     "output_type": "stream",
     "text": [
      "True\n"
     ]
    }
   ],
   "source": [
    "print(type(2)==type(3))"
   ]
  },
  {
   "cell_type": "code",
   "execution_count": 99,
   "id": "6891041b",
   "metadata": {},
   "outputs": [
    {
     "name": "stdout",
     "output_type": "stream",
     "text": [
      "<class 'float'>\n"
     ]
    }
   ],
   "source": [
    "print(type(20/5))"
   ]
  },
  {
   "cell_type": "code",
   "execution_count": 104,
   "id": "dc3c5b29",
   "metadata": {},
   "outputs": [
    {
     "name": "stdout",
     "output_type": "stream",
     "text": [
      "輸入一正整數: 789\n",
      "789的因數有: 1,3,263,789\n"
     ]
    }
   ],
   "source": [
    "num1=int(input(\"輸入一正整數: \"))\n",
    "a=2\n",
    "result=\"1\"\n",
    "while(a!=num1):\n",
    "    num2=num1/a\n",
    "    if(num2==int(num2)):\n",
    "        result=result+\",\"+str(a)\n",
    "    \n",
    "    a=a+1\n",
    "\n",
    "print(str(num1)+\"的因數有: \"+result+\",\"+str(num1))"
   ]
  },
  {
   "cell_type": "code",
   "execution_count": 105,
   "id": "2152fe45",
   "metadata": {},
   "outputs": [
    {
     "name": "stdout",
     "output_type": "stream",
     "text": [
      "[12, 19, 'Sumeru', 'Rtawahist', 'Layla']\n"
     ]
    }
   ],
   "source": [
    "print(newlist)"
   ]
  },
  {
   "cell_type": "code",
   "execution_count": 108,
   "id": "120aa534",
   "metadata": {},
   "outputs": [
    {
     "name": "stdout",
     "output_type": "stream",
     "text": [
      "[12, 19, 'Sumeru', 'Rtawahist', 'Layla']\n"
     ]
    }
   ],
   "source": [
    "print(str(newlist))"
   ]
  },
  {
   "cell_type": "code",
   "execution_count": 109,
   "id": "a507dbad",
   "metadata": {},
   "outputs": [
    {
     "name": "stdout",
     "output_type": "stream",
     "text": [
      "The name of the class is Sumeru Akademiya. Here is the student list: ['Tighnari', 'Cyno', 'Kaveh', 'Faruzan', 'Layla', 'Hat Guy']\n"
     ]
    }
   ],
   "source": [
    "student=[\"Tighnari\",\"Cyno\",\"Kaveh\",\"Faruzan\",\"Layla\",\"Hat Guy\"]\n",
    "classname=\"Sumeru Akademiya\"\n",
    "print(\"The name of the class is \"+classname+\". Here is the student list: \"+str(student))"
   ]
  },
  {
   "cell_type": "code",
   "execution_count": 110,
   "id": "4ceaca2a",
   "metadata": {},
   "outputs": [
    {
     "name": "stdout",
     "output_type": "stream",
     "text": [
      "['a', 'b', 'c', 1, 2, 3]\n"
     ]
    }
   ],
   "source": [
    "list1=[\"a\",\"b\",\"c\"]\n",
    "list2=[1,2,3]\n",
    "print(list1+list2)"
   ]
  },
  {
   "cell_type": "code",
   "execution_count": 111,
   "id": "bac94f85",
   "metadata": {},
   "outputs": [
    {
     "name": "stdout",
     "output_type": "stream",
     "text": [
      "['a', 'b', 'c', 'a', 'b', 'c', 1, 2, 3, 1, 2, 3, 'a', 'b', 'c', 'a', 'b', 'c', 1, 2, 3, 1, 2, 3]\n"
     ]
    }
   ],
   "source": [
    "print((list1*2+list2*2)*2)"
   ]
  },
  {
   "cell_type": "code",
   "execution_count": 112,
   "id": "10746440",
   "metadata": {},
   "outputs": [
    {
     "name": "stdout",
     "output_type": "stream",
     "text": [
      "['b', 'c']\n"
     ]
    }
   ],
   "source": [
    "print(list1[1:3])"
   ]
  },
  {
   "cell_type": "code",
   "execution_count": 113,
   "id": "3b153ac7",
   "metadata": {},
   "outputs": [
    {
     "name": "stdout",
     "output_type": "stream",
     "text": [
      "a\n",
      "b\n",
      "c\n"
     ]
    }
   ],
   "source": [
    "print(list1[0])\n",
    "print(list1[1])\n",
    "print(list1[2])"
   ]
  },
  {
   "cell_type": "code",
   "execution_count": 115,
   "id": "60615f12",
   "metadata": {},
   "outputs": [
    {
     "name": "stdout",
     "output_type": "stream",
     "text": [
      "{'Level1': 14.72, 'Level2': 15.82, 'Level3': 16.93}\n"
     ]
    }
   ],
   "source": [
    "newdictionary={\"Level1\":14.72,\"Level2\":15.82,\"Level3\":16.93}\n",
    "print(newdictionary)"
   ]
  },
  {
   "cell_type": "code",
   "execution_count": 116,
   "id": "172db8c2",
   "metadata": {},
   "outputs": [
    {
     "name": "stdout",
     "output_type": "stream",
     "text": [
      "16.93\n"
     ]
    }
   ],
   "source": [
    "print(newdictionary[\"Level3\"])"
   ]
  },
  {
   "cell_type": "code",
   "execution_count": 119,
   "id": "80ca410e",
   "metadata": {},
   "outputs": [
    {
     "name": "stdout",
     "output_type": "stream",
     "text": [
      "Information about Layla: 1.Title 2.Region 3.Affiliation 4.Release Date 5.Additional Title 6.Special Dish 7.Birthday / 8.End -- 7\n",
      "December 19\n",
      "Information about Layla: 1.Title 2.Region 3.Affiliation 4.Release Date 5.Additional Title 6.Special Dish 7.Birthday / 8.End -- 1\n",
      "Fantastical Evening Star\n",
      "Information about Layla: 1.Title 2.Region 3.Affiliation 4.Release Date 5.Additional Title 6.Special Dish 7.Birthday / 8.End -- 4\n",
      "November 18, 2022\n",
      "Information about Layla: 1.Title 2.Region 3.Affiliation 4.Release Date 5.Additional Title 6.Special Dish 7.Birthday / 8.End -- 3\n",
      "Rtawahist\n",
      "Information about Layla: 1.Title 2.Region 3.Affiliation 4.Release Date 5.Additional Title 6.Special Dish 7.Birthday / 8.End -- 2\n",
      "Sumeru\n",
      "Information about Layla: 1.Title 2.Region 3.Affiliation 4.Release Date 5.Additional Title 6.Special Dish 7.Birthday / 8.End -- 5\n",
      "Half-Awake, Half-Asleep, All Incredulous\n",
      "Information about Layla: 1.Title 2.Region 3.Affiliation 4.Release Date 5.Additional Title 6.Special Dish 7.Birthday / 8.End -- 6\n",
      "Extravagant Slumber\n",
      "Information about Layla: 1.Title 2.Region 3.Affiliation 4.Release Date 5.Additional Title 6.Special Dish 7.Birthday / 8.End -- 8\n"
     ]
    }
   ],
   "source": [
    "laylainfo={\"1\":\"Fantastical Evening Star\",\"2\":\"Sumeru\",\"3\":\"Rtawahist\",\"4\":\"November 18, 2022\",\"5\":\"Half-Awake, Half-Asleep, All Incredulous\",\"6\":\"Extravagant Slumber\",\"7\":\"December 19\"}\n",
    "answer=\"1\"\n",
    "while(answer!=\"8\"):\n",
    "    answer=input(\"Information about Layla: 1.Title 2.Region 3.Affiliation 4.Release Date 5.Additional Title 6.Special Dish 7.Birthday / 8.End -- \")\n",
    "    if(answer==\"8\"):\n",
    "        break\n",
    "    print(laylainfo[answer])"
   ]
  },
  {
   "cell_type": "code",
   "execution_count": null,
   "id": "e8396302",
   "metadata": {},
   "outputs": [],
   "source": []
  }
 ],
 "metadata": {
  "kernelspec": {
   "display_name": "Python 3 (ipykernel)",
   "language": "python",
   "name": "python3"
  },
  "language_info": {
   "codemirror_mode": {
    "name": "ipython",
    "version": 3
   },
   "file_extension": ".py",
   "mimetype": "text/x-python",
   "name": "python",
   "nbconvert_exporter": "python",
   "pygments_lexer": "ipython3",
   "version": "3.10.9"
  }
 },
 "nbformat": 4,
 "nbformat_minor": 5
}
