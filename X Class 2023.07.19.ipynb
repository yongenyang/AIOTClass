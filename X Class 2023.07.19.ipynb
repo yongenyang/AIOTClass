{
 "cells": [
  {
   "cell_type": "code",
   "execution_count": 2,
   "id": "6970b6e9",
   "metadata": {},
   "outputs": [
    {
     "name": "stdout",
     "output_type": "stream",
     "text": [
      "Enter HP: 33173\n",
      "33173\n"
     ]
    }
   ],
   "source": [
    "class HP:\n",
    "    def setHp(self,health):\n",
    "        self.hp=health\n",
    "    def showHp(self):\n",
    "        return self.hp\n",
    "option=HP()\n",
    "option.setHp(input(\"Enter HP: \"))\n",
    "userHp=option.showHp()\n",
    "print(userHp)"
   ]
  },
  {
   "cell_type": "code",
   "execution_count": 3,
   "id": "fb4c9d59",
   "metadata": {},
   "outputs": [
    {
     "name": "stdout",
     "output_type": "stream",
     "text": [
      "Enter HP: 59360\n",
      "Enter ATK: 3045\n",
      "HP:59360\n",
      "ATK:3045\n"
     ]
    }
   ],
   "source": [
    "class MinionInfo:\n",
    "    def setHp(self,health):\n",
    "        self.hp=health\n",
    "    def showHp(self):\n",
    "        return self.hp\n",
    "    def setAtk(self,attack):\n",
    "        self.atk=attack\n",
    "    def showAtk(self):\n",
    "        return self.atk\n",
    "if(__name__==\"__main__\"):\n",
    "    option=MinionInfo()\n",
    "    option.setHp(input(\"Enter HP: \"))\n",
    "    userHp=option.showHp()\n",
    "    option.setAtk(input(\"Enter ATK: \"))\n",
    "    userAtk=option.showAtk()\n",
    "    print(\"HP:\"+userHp)\n",
    "    print(\"ATK:\"+userAtk)"
   ]
  },
  {
   "cell_type": "code",
   "execution_count": 1,
   "id": "d324ab1e",
   "metadata": {},
   "outputs": [
    {
     "name": "stdout",
     "output_type": "stream",
     "text": [
      "輸入數字1: 32\n",
      "輸入數字2: 5\n",
      "兩數相加為 37\n",
      "兩數相減為 27\n",
      "兩數相乘為 160\n",
      "兩數相除為 6.4\n"
     ]
    }
   ],
   "source": [
    "class CountGo:\n",
    "    def __init__(self,a,b):\n",
    "        self.value1 = a\n",
    "        self.value2 = b\n",
    "    def add(self):\n",
    "        c = self.value1 + self.value2\n",
    "        return c\n",
    "    def subtract(self):\n",
    "        c = self.value1 - self.value2\n",
    "        return c\n",
    "    def multiply(self):\n",
    "        c = self.value1 * self.value2\n",
    "        return c\n",
    "    def divide(self):\n",
    "        c = self.value1 / self.value2\n",
    "        return c\n",
    "        \n",
    "num1 = int(input(\"輸入數字1: \"))\n",
    "num2 = int(input(\"輸入數字2: \"))\n",
    "c = CountGo(num1,num2)\n",
    "\n",
    "print(\"兩數相加為\",c.add())\n",
    "print(\"兩數相減為\",c.subtract())\n",
    "print(\"兩數相乘為\",c.multiply())\n",
    "print(\"兩數相除為\",c.divide())"
   ]
  },
  {
   "cell_type": "code",
   "execution_count": 2,
   "id": "2e19ccd6",
   "metadata": {},
   "outputs": [
    {
     "name": "stdout",
     "output_type": "stream",
     "text": [
      "[2, 6, 9, 11]\n"
     ]
    }
   ],
   "source": [
    "class ListCalculate:\n",
    "    def __init__(self, lst):\n",
    "        self.list_data = lst\n",
    "\n",
    "    def add_1(self):\n",
    "        new_list = []\n",
    "        for num in self.list_data:\n",
    "            new_list.append(num + 1)\n",
    "        return new_list\n",
    "\n",
    "a = [1, 5, 8, 10]\n",
    "cal = ListCalculate(a)\n",
    "b = cal.add_1()\n",
    "print(b)"
   ]
  },
  {
   "cell_type": "code",
   "execution_count": 3,
   "id": "9c4f568c",
   "metadata": {},
   "outputs": [
    {
     "name": "stdout",
     "output_type": "stream",
     "text": [
      "([1, 5, 8, 10, 45, 43, 2, 4], [1, 4, 2, 4, 2, 32, 3, 3])\n"
     ]
    }
   ],
   "source": [
    "class ListLeave:\n",
    "    def __init__(self, lst):\n",
    "        self.list_data = lst\n",
    "    def leave(self):\n",
    "        new_list1=[]\n",
    "        new_list2=[]\n",
    "        count=0\n",
    "        length_of_list =len(self.list_data)\n",
    "        for i in self.list_data:            \n",
    "            if count < length_of_list/2:\n",
    "                new_list1.append(i)\n",
    "            elif count >= length_of_list/2:\n",
    "                new_list2.append(i)                \n",
    "            count+=1\n",
    "        return new_list1,new_list2       \n",
    "a = [1, 5, 8, 10, 45, 43, 2, 4, 1, 4, 2, 4, 2, 32, 3, 3]\n",
    "cal = ListLeave(a)\n",
    "b = cal.leave()\n",
    "print(b)"
   ]
  },
  {
   "cell_type": "code",
   "execution_count": null,
   "id": "d98a8e77",
   "metadata": {},
   "outputs": [],
   "source": []
  }
 ],
 "metadata": {
  "kernelspec": {
   "display_name": "Python 3 (ipykernel)",
   "language": "python",
   "name": "python3"
  },
  "language_info": {
   "codemirror_mode": {
    "name": "ipython",
    "version": 3
   },
   "file_extension": ".py",
   "mimetype": "text/x-python",
   "name": "python",
   "nbconvert_exporter": "python",
   "pygments_lexer": "ipython3",
   "version": "3.11.3"
  }
 },
 "nbformat": 4,
 "nbformat_minor": 5
}
