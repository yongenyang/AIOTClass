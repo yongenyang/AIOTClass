{
 "cells": [
  {
   "cell_type": "code",
   "execution_count": null,
   "id": "cf70ef1b",
   "metadata": {},
   "outputs": [],
   "source": [
    "from ver_python import Ui_Dialog\n",
    "from PyQt5.QtWidgets import *\n",
    "from PyQt5.QtCore import *\n",
    "from PyQt5.QtGui import *\n",
    "import sys\n",
    "\n",
    "global form\n",
    "form=1\n",
    "\n",
    "def addNumber():\n",
    "    try:\n",
    "        print(\"Add Two Numbers\")\n",
    "        try:\n",
    "            num1=int(ui.lineEdit.text())\n",
    "            num2=int(ui.lineEdit_2.text())\n",
    "        except:\n",
    "            num1=float(ui.lineEdit.text())\n",
    "            num2=float(ui.lineEdit_2.text())\n",
    "        global form\n",
    "        if form==1:\n",
    "            ui.total.setText(str(num1+num2))\n",
    "        else:\n",
    "            ui.total.setText(str(num1-num2))\n",
    "    except:\n",
    "        messagebox=QMessageBox()\n",
    "        messagebox.setWindowTitle(\"通知\")\n",
    "        messagebox.setInformativeText(\"輸入內容有誤！\")\n",
    "        messagebox.exec_()\n",
    "def change():\n",
    "    print(\"Change\")\n",
    "    global form\n",
    "    if form==1:\n",
    "        form=2\n",
    "        ui.label.setText(\"-\")\n",
    "    else:\n",
    "        form=1\n",
    "        ui.label.setText(\"+\")\n",
    "    messagebox=QMessageBox()\n",
    "    messagebox.setWindowTitle(\"通知\")\n",
    "    messagebox.setInformativeText(\"加減轉換成功\")\n",
    "    messagebox.exec_()\n",
    "\n",
    "app=QApplication(sys.argv)\n",
    "widget=QWidget()\n",
    "ui=Ui_Dialog()\n",
    "ui.setupUi(widget)\n",
    "\n",
    "ui.pushButton.clicked.connect(addNumber)\n",
    "ui.pushButton_2.clicked.connect(change)\n",
    "\n",
    "widget.show()\n",
    "app.exec_()"
   ]
  }
 ],
 "metadata": {
  "kernelspec": {
   "display_name": "Python 3 (ipykernel)",
   "language": "python",
   "name": "python3"
  },
  "language_info": {
   "codemirror_mode": {
    "name": "ipython",
    "version": 3
   },
   "file_extension": ".py",
   "mimetype": "text/x-python",
   "name": "python",
   "nbconvert_exporter": "python",
   "pygments_lexer": "ipython3",
   "version": "3.11.4"
  }
 },
 "nbformat": 4,
 "nbformat_minor": 5
}
