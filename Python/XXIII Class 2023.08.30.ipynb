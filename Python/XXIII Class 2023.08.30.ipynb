{
 "cells": [
  {
   "cell_type": "code",
   "execution_count": 1,
   "id": "b0cbfe75",
   "metadata": {},
   "outputs": [
    {
     "name": "stdout",
     "output_type": "stream",
     "text": [
      "('01', '趙雷', datetime.datetime(1990, 1, 1, 0, 0), '男')\n",
      "('02', '錢電', datetime.datetime(1990, 12, 21, 0, 0), '男')\n",
      "('03', '孫風', datetime.datetime(1990, 5, 20, 0, 0), '男')\n",
      "('04', '李雲', datetime.datetime(1990, 8, 6, 0, 0), '男')\n",
      "('05', '周梅', datetime.datetime(1991, 12, 1, 0, 0), '女')\n",
      "('06', '吳蘭', datetime.datetime(1992, 3, 1, 0, 0), '女')\n",
      "('07', '鄭竹', datetime.datetime(1989, 7, 1, 0, 0), '女')\n",
      "('08', '王菊', datetime.datetime(1990, 1, 20, 0, 0), '女')\n"
     ]
    }
   ],
   "source": [
    "import pymysql\n",
    "\n",
    "setting={\n",
    "    \"host\":\"localhost\",\n",
    "    \"port\":3306,\n",
    "    \"user\":\"root\",\n",
    "    \"password\":\"Fx=Q2S2LC\",\n",
    "    \"db\":\"school\",\n",
    "    \"charset\":\"utf8\"\n",
    "}\n",
    "\n",
    "db=pymysql.connect(**setting)\n",
    "\n",
    "\n",
    "cursor=db.cursor()\n",
    "cursor.execute(\"select * from student\")\n",
    "data=cursor.fetchall()\n",
    "for stu in data:\n",
    "    print(stu)"
   ]
  },
  {
   "cell_type": "code",
   "execution_count": null,
   "id": "27279084",
   "metadata": {},
   "outputs": [],
   "source": []
  }
 ],
 "metadata": {
  "kernelspec": {
   "display_name": "Python 3 (ipykernel)",
   "language": "python",
   "name": "python3"
  },
  "language_info": {
   "codemirror_mode": {
    "name": "ipython",
    "version": 3
   },
   "file_extension": ".py",
   "mimetype": "text/x-python",
   "name": "python",
   "nbconvert_exporter": "python",
   "pygments_lexer": "ipython3",
   "version": "3.11.4"
  }
 },
 "nbformat": 4,
 "nbformat_minor": 5
}
