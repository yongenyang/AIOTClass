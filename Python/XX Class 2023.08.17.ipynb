{
 "cells": [
  {
   "cell_type": "code",
   "execution_count": null,
   "id": "ca99179d",
   "metadata": {},
   "outputs": [],
   "source": [
    "# server\n",
    "import socket\n",
    "\n",
    "ip=\"127.0.0.1\"\n",
    "port=50\n",
    "maxconnectnumber=5\n",
    "\n",
    "s=socket.socket(socket.AF_INET,socket.SOCK_STREAM)\n",
    "s.setsockopt(socket.SOL_SOCKET,socket.SO_REUSEADDR,1)\n",
    "\n",
    "s.bind((ip,port))\n",
    "s.listen(maxconnectnumber)\n",
    "    \n",
    "con,addr=s.accept()\n",
    "print(addr)\n",
    "\n",
    "while True:\n",
    "    data=con.recv(1024)\n",
    "    data=data.decode()\n",
    "    print(data)\n",
    "    if data==\"-1\":\n",
    "        break\n",
    "    reply=input(\"==> \")\n",
    "    con.send(reply.encode())\n",
    "    if reply==\"-1\":\n",
    "        break\n",
    "con.close()"
   ]
  },
  {
   "cell_type": "code",
   "execution_count": null,
   "id": "5f7aaea7",
   "metadata": {},
   "outputs": [],
   "source": [
    "# client\n",
    "import socket\n",
    "\n",
    "ip=\"127.0.0.1\"\n",
    "port=50\n",
    "\n",
    "s=socket.socket(socket.AF_INET,socket.SOCK_STREAM)\n",
    "x=(ip,port)\n",
    "\n",
    "s.connect(x)\n",
    "\n",
    "while True:\n",
    "    data=input(\"==> \")\n",
    "    s.send(data.encode())\n",
    "    if data==\"-1\":\n",
    "        break\n",
    "    getdata=s.recv(1024)\n",
    "    datadecoded=getdata.decode()\n",
    "    print(datadecoded)\n",
    "    if datadecoded==\"-1\":\n",
    "        break\n",
    "s.close()"
   ]
  }
 ],
 "metadata": {
  "kernelspec": {
   "display_name": "Python 3 (ipykernel)",
   "language": "python",
   "name": "python3"
  },
  "language_info": {
   "codemirror_mode": {
    "name": "ipython",
    "version": 3
   },
   "file_extension": ".py",
   "mimetype": "text/x-python",
   "name": "python",
   "nbconvert_exporter": "python",
   "pygments_lexer": "ipython3",
   "version": "3.11.4"
  }
 },
 "nbformat": 4,
 "nbformat_minor": 5
}
