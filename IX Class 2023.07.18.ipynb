{
 "cells": [
  {
   "cell_type": "code",
   "execution_count": 20,
   "id": "81fc195b",
   "metadata": {},
   "outputs": [
    {
     "name": "stdout",
     "output_type": "stream",
     "text": [
      "雨天\n"
     ]
    }
   ],
   "source": [
    "import random\n",
    "playername=\"\"\n",
    "def start():\n",
    "    print(\"Hi there, \"+playername+\".\")\n",
    "    print(\"Let's get started!\")\n",
    "\n",
    "def sunnyrainy(a):\n",
    "    if(a==1):\n",
    "        print(\"晴天\")\n",
    "    else:\n",
    "        print(\"雨天\")\n",
    "sunnyrainy(random.randint(1,2))"
   ]
  },
  {
   "cell_type": "code",
   "execution_count": 33,
   "id": "bd1e559e",
   "metadata": {},
   "outputs": [
    {
     "name": "stdout",
     "output_type": "stream",
     "text": [
      "Hours: 4\n",
      "Type(1 or 2): 2\n",
      "280\n"
     ]
    }
   ],
   "source": [
    "def convert(a,b):\n",
    "    print(a*(50+b*10))\n",
    "hours=int(input(\"Hours: \"))\n",
    "value=int(input(\"Type(1 or 2): \"))\n",
    "while value not in [1,2]:\n",
    "    value=int(input(\"Try again. Type(1 or 2):\"))\n",
    "convert(hours,value)"
   ]
  },
  {
   "cell_type": "code",
   "execution_count": null,
   "id": "52259aa6",
   "metadata": {},
   "outputs": [],
   "source": []
  }
 ],
 "metadata": {
  "kernelspec": {
   "display_name": "Python 3 (ipykernel)",
   "language": "python",
   "name": "python3"
  },
  "language_info": {
   "codemirror_mode": {
    "name": "ipython",
    "version": 3
   },
   "file_extension": ".py",
   "mimetype": "text/x-python",
   "name": "python",
   "nbconvert_exporter": "python",
   "pygments_lexer": "ipython3",
   "version": "3.11.3"
  }
 },
 "nbformat": 4,
 "nbformat_minor": 5
}
