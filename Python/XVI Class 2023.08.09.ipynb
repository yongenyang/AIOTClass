{
 "cells": [
  {
   "cell_type": "code",
   "execution_count": 1,
   "id": "ed600243",
   "metadata": {},
   "outputs": [
    {
     "name": "stdout",
     "output_type": "stream",
     "text": [
      "1.SERVO ON  2.SERVO OFF\n",
      "3.原點歸位  4.輸入位置\n",
      "5.讀取目前位置  6.離開 -- 1\n",
      "SERVO ON\n",
      "\n",
      "1.SERVO ON  2.SERVO OFF\n",
      "3.原點歸位  4.輸入位置\n",
      "5.讀取目前位置  6.離開 -- 23\n",
      "Invalid choice. Please try again.\n",
      "\n",
      "1.SERVO ON  2.SERVO OFF\n",
      "3.原點歸位  4.輸入位置\n",
      "5.讀取目前位置  6.離開 -- 2\n",
      "SERVO OFF\n",
      "\n",
      "1.SERVO ON  2.SERVO OFF\n",
      "3.原點歸位  4.輸入位置\n",
      "5.讀取目前位置  6.離開 -- 3\n",
      "原點歸位中.....\n",
      "原點歸位完成！\n",
      "\n",
      "1.SERVO ON  2.SERVO OFF\n",
      "3.原點歸位  4.輸入位置\n",
      "5.讀取目前位置  6.離開 -- 4\n",
      "請輸入位置 -- 1\n",
      "你輸入的位置是：1111111111111111111111111111111111111111111111111111111111111111111111111111111111111111111111111111 pulse\n",
      "\n",
      "1.SERVO ON  2.SERVO OFF\n",
      "3.原點歸位  4.輸入位置\n",
      "5.讀取目前位置  6.離開 -- 5\n",
      "讀取完成，目前位置...\n",
      "\n",
      "1.SERVO ON  2.SERVO OFF\n",
      "3.原點歸位  4.輸入位置\n",
      "5.讀取目前位置  6.離開 -- 6\n",
      "若未SERVO OFF，已自動處理完畢。\n",
      "Program terminated.\n"
     ]
    }
   ],
   "source": [
    "from Ver_Fake import settingup,servoOn,servoOff,initial,designatedLocation,readCurrentLocation,closeup\n",
    "\n",
    "try:\n",
    "    master=settingup()\n",
    "    while True:\n",
    "        choice=input(\"1.SERVO ON  2.SERVO OFF\\n3.原點歸位  4.輸入位置\\n5.讀取目前位置  6.離開 -- \")\n",
    "        if choice==\"1\":\n",
    "            servoOn(master)\n",
    "        elif choice==\"2\":\n",
    "            servoOff(master)\n",
    "        elif choice==\"3\":\n",
    "            initial(master)\n",
    "        elif choice==\"4\":\n",
    "            designatedLocation(master)\n",
    "        elif choice==\"5\":\n",
    "            readCurrentLocation(master)\n",
    "        elif choice==\"6\":\n",
    "            closeup(master)\n",
    "            break\n",
    "        else:\n",
    "            print(\"Invalid choice. Please try again.\\n\")\n",
    "except:\n",
    "    print(\"error\")"
   ]
  },
  {
   "cell_type": "code",
   "execution_count": null,
   "id": "74041fad",
   "metadata": {},
   "outputs": [],
   "source": []
  }
 ],
 "metadata": {
  "kernelspec": {
   "display_name": "Python 3 (ipykernel)",
   "language": "python",
   "name": "python3"
  },
  "language_info": {
   "codemirror_mode": {
    "name": "ipython",
    "version": 3
   },
   "file_extension": ".py",
   "mimetype": "text/x-python",
   "name": "python",
   "nbconvert_exporter": "python",
   "pygments_lexer": "ipython3",
   "version": "3.11.4"
  }
 },
 "nbformat": 4,
 "nbformat_minor": 5
}
