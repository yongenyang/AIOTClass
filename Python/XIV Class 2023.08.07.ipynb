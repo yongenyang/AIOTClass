{
 "cells": [
  {
   "cell_type": "code",
   "execution_count": 4,
   "id": "51bfad3d",
   "metadata": {},
   "outputs": [
    {
     "name": "stdout",
     "output_type": "stream",
     "text": [
      " \n"
     ]
    }
   ],
   "source": [
    "salary=\"月薪35,000元以上\"\n",
    "salary=\"月薪38,000~45,000元\"\n",
    "salary=\"時薪200~250元\"\n",
    "salary=\"時薪180元\"\n",
    "salary=\"年薪800,000~1,200,000元\"\n",
    "salary=\"論件計酬10,000~2,000,000元\"\n",
    "salary=\"待遇面議\"\n",
    "output=\"\"\n",
    "for i in salary:\n",
    "    if i==\"~\" or i.isdigit():\n",
    "        output+=i\n",
    "wave=output.find(\"~\")\n",
    "if(wave==-1):\n",
    "    lowest=output\n",
    "    highest=output\n",
    "else:\n",
    "    lowest=int(output[:wave])\n",
    "    highest=int(output[wave+1:])\n",
    "print(lowest,highest)"
   ]
  },
  {
   "cell_type": "code",
   "execution_count": 5,
   "id": "e1676332",
   "metadata": {},
   "outputs": [
    {
     "name": "stdout",
     "output_type": "stream",
     "text": [
      "薪資種類： 待遇面議\n"
     ]
    }
   ],
   "source": [
    "salary=\"月薪35,000元以上\"\n",
    "salary=\"月薪38,000~45,000元\"\n",
    "salary=\"時薪200~250元\"\n",
    "salary=\"時薪180元\"\n",
    "salary=\"年薪800,000~1,200,000元\"\n",
    "salary=\"論件計酬10,000~2,000,000元\"\n",
    "salary=\"待遇面議\"\n",
    "stype=\"\"\n",
    "output=\"\"\n",
    "lowest=\"\"\n",
    "highest=\"\"\n",
    "for i in salary:\n",
    "    try:\n",
    "        test=int(i)\n",
    "        output+=i\n",
    "    except:\n",
    "        if i==\"~\":\n",
    "            lowest=output\n",
    "            output=\"\"\n",
    "    if output==\"\" and lowest==\"\":\n",
    "        stype+=i\n",
    "if salary!=\"待遇面議\":\n",
    "    if lowest==\"\":\n",
    "        lowest=output\n",
    "    highest=output\n",
    "    lowest=int(lowest)\n",
    "    highest=int(highest)\n",
    "    print(\"最低薪： \"+str(lowest))\n",
    "    print(\"最高薪： \"+str(highest))\n",
    "print(\"薪資種類： \"+stype)"
   ]
  },
  {
   "cell_type": "code",
   "execution_count": null,
   "id": "86071041",
   "metadata": {},
   "outputs": [],
   "source": [
    "def salaryAnalysis(salary):\n",
    "    stype=\"\"\n",
    "    output=\"\"\n",
    "    lowest=\"\"\n",
    "    highest=\"\"\n",
    "    for i in salary:\n",
    "        try:\n",
    "            test=int(i)\n",
    "            output+=i\n",
    "        except:\n",
    "            if i==\"~\":\n",
    "                lowest=output\n",
    "                output=\"\"\n",
    "        if output==\"\" and lowest==\"\":\n",
    "            stype+=i\n",
    "    if salary!=\"待遇面議\":\n",
    "        if lowest==\"\":\n",
    "            lowest=output\n",
    "        highest=output\n",
    "        lowest=int(lowest)\n",
    "        highest=int(highest)\n",
    "        print(\"最低薪： \"+str(lowest))\n",
    "        print(\"最高薪： \"+str(highest))\n",
    "    print(\"薪資種類： \"+stype)\n",
    "    return stype,lowest,highest\n",
    "\n",
    "import requests\n",
    "from bs4 import BeautifulSoup\n",
    "from time import sleep\n",
    "import openpyxl\n",
    "url104=requests.get(\"https://www.104.com.tw/jobs/search/?ro=0&keyword=%E5%A4%A7%E6%95%B8%E6%93%9A&expansionType=area%2Cspec%2Ccom%2Cjob%2Cwf%2Cwktm&order=15&asc=0&page=1&mode=s&jobsource=tab_cs_to_job&langFlag=0&langStatus=0&recommendJob=1&hotJob=1\")\n",
    "soup104=BeautifulSoup(url104.text)\n",
    "page=1\n",
    "wb=openpyxl.Workbook()\n",
    "ws=wb.active\n",
    "ws[\"A1\"]=\"職稱\"\n",
    "ws[\"B1\"]=\"網址\"\n",
    "ws[\"C1\"]=\"公司\"\n",
    "ws[\"D1\"]=\"地區\"\n",
    "ws[\"E1\"]=\"薪資\"\n",
    "ws[\"F1\"]=\"薪資種類\"\n",
    "ws[\"G1\"]=\"最低薪\"\n",
    "ws[\"H1\"]=\"最高薪\"\n",
    "while(soup104.find_all(\"article\",class_=\"b-block--top-bord job-list-item b-clearfix js-job-item\")):\n",
    "    print(\"\\n第%d頁\\n------------------------\\n\"%(page))\n",
    "    for i in soup104.find_all(\"article\",class_=\"b-block--top-bord job-list-item b-clearfix js-job-item\"):\n",
    "        print(\"職稱： \"+i.a.text)\n",
    "        print(\"網址： https:\"+i.a[\"href\"])\n",
    "        print(\"公司： \"+i.ul.a.text[:-20],end=\"\")\n",
    "        print(\"地區： \"+i.select(\"ul\")[1].li.text)\n",
    "        if(i.select(\"div\")[4].select(\"span\")!=[])and(i.select(\"div\")[4].span.text==\"待遇面議\"):\n",
    "            print(\"薪資： \"+i.select(\"div\")[4].span.text)\n",
    "            result=salaryAnalysis(i.select(\"div\")[4].span.text)\n",
    "            ws.append([i.a.text,i.a[\"href\"],i.ul.a.text[:-20],i.select(\"ul\")[1].li.text,i.select(\"div\")[4].span.text,result[0],result[1],result[2]])\n",
    "        else:\n",
    "            print(\"薪資： \"+i.select(\"div\")[4].a.text)\n",
    "            result=salaryAnalysis(i.select(\"div\")[4].a.text)\n",
    "            ws.append([i.a.text,i.a[\"href\"],i.ul.a.text[:-20],i.select(\"ul\")[1].li.text,i.select(\"div\")[4].a.text,result[0],result[1],result[2]])\n",
    "        print(\"\")\n",
    "    page+=1\n",
    "    url104=requests.get(\"https://www.104.com.tw/jobs/search/?ro=0&keyword=%E5%A4%A7%E6%95%B8%E6%93%9A&expansionType=area%2Cspec%2Ccom%2Cjob%2Cwf%2Cwktm&order=15&asc=0&page=\"+str(page)+\"&mode=s&jobsource=tab_cs_to_job&langFlag=0&langStatus=0&recommendJob=1&hotJob=1\")\n",
    "    soup104=BeautifulSoup(url104.text)\n",
    "    sleep(2)\n",
    "wb.save(\"customizedtest.xlsx\")"
   ]
  }
 ],
 "metadata": {
  "kernelspec": {
   "display_name": "Python 3 (ipykernel)",
   "language": "python",
   "name": "python3"
  },
  "language_info": {
   "codemirror_mode": {
    "name": "ipython",
    "version": 3
   },
   "file_extension": ".py",
   "mimetype": "text/x-python",
   "name": "python",
   "nbconvert_exporter": "python",
   "pygments_lexer": "ipython3",
   "version": "3.11.3"
  }
 },
 "nbformat": 4,
 "nbformat_minor": 5
}
