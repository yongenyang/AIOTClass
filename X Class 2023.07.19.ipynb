{
 "cells": [
  {
   "cell_type": "code",
   "execution_count": 2,
   "id": "6970b6e9",
   "metadata": {},
   "outputs": [
    {
     "name": "stdout",
     "output_type": "stream",
     "text": [
      "Enter HP: 33173\n",
      "33173\n"
     ]
    }
   ],
   "source": [
    "class HP:\n",
    "    def setHp(self,health):\n",
    "        self.hp=health\n",
    "    def showHp(self):\n",
    "        return self.hp\n",
    "option=HP()\n",
    "option.setHp(input(\"Enter HP: \"))\n",
    "userHp=option.showHp()\n",
    "print(userHp)"
   ]
  },
  {
   "cell_type": "code",
   "execution_count": 3,
   "id": "fb4c9d59",
   "metadata": {},
   "outputs": [
    {
     "name": "stdout",
     "output_type": "stream",
     "text": [
      "Enter HP: 59360\n",
      "Enter ATK: 3045\n",
      "HP:59360\n",
      "ATK:3045\n"
     ]
    }
   ],
   "source": [
    "class MinionInfo:\n",
    "    def setHp(self,health):\n",
    "        self.hp=health\n",
    "    def showHp(self):\n",
    "        return self.hp\n",
    "    def setAtk(self,attack):\n",
    "        self.atk=attack\n",
    "    def showAtk(self):\n",
    "        return self.atk\n",
    "if(__name__==\"__main__\"):\n",
    "    option=MinionInfo()\n",
    "    option.setHp(input(\"Enter HP: \"))\n",
    "    userHp=option.showHp()\n",
    "    option.setAtk(input(\"Enter ATK: \"))\n",
    "    userAtk=option.showAtk()\n",
    "    print(\"HP:\"+userHp)\n",
    "    print(\"ATK:\"+userAtk)"
   ]
  },
  {
   "cell_type": "code",
   "execution_count": null,
   "id": "d324ab1e",
   "metadata": {},
   "outputs": [],
   "source": []
  }
 ],
 "metadata": {
  "kernelspec": {
   "display_name": "Python 3 (ipykernel)",
   "language": "python",
   "name": "python3"
  },
  "language_info": {
   "codemirror_mode": {
    "name": "ipython",
    "version": 3
   },
   "file_extension": ".py",
   "mimetype": "text/x-python",
   "name": "python",
   "nbconvert_exporter": "python",
   "pygments_lexer": "ipython3",
   "version": "3.11.3"
  }
 },
 "nbformat": 4,
 "nbformat_minor": 5
}
