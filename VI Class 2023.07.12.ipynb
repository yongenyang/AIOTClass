{
 "cells": [
  {
   "cell_type": "code",
   "execution_count": 73,
   "id": "98d717b9",
   "metadata": {
    "scrolled": true
   },
   "outputs": [
    {
     "name": "stdout",
     "output_type": "stream",
     "text": [
      "Enter token: EAAJdAZBU5pFEBAMZCGMZCyMGkAX9Q3AotYnJKYBeJ4rJZCWrUuz0u8oJyjvlHFLWZAtKcAsKPw9HQqEXWJkPD9BXCXpvrJ4w54vUf0pVc8FKClynf4GoYsI5v6tR11x2VwPyPZAySKVSlojciQGGjKGXkHATCvZAvRZBLQTtDdmrxv9ZCz9BZAJpfHR6zmldT7cANaEbLomgOgZB0EKqsbRxtsN\n"
     ]
    }
   ],
   "source": [
    "token=input(\"Enter token: \")"
   ]
  },
  {
   "cell_type": "code",
   "execution_count": 16,
   "id": "74a03166",
   "metadata": {},
   "outputs": [
    {
     "data": {
      "text/plain": [
       "{'data': [{'created_time': '2023-07-12T02:11:30+0000',\n",
       "   'message': '難度請填非常簡單',\n",
       "   'id': '115311071622970_111372072020505'},\n",
       "  {'created_time': '2023-07-12T02:05:28+0000',\n",
       "   'message': '把聲優和角色分開是很重要的哦',\n",
       "   'id': '115311071622970_111369125354133'},\n",
       "  {'created_time': '2023-07-12T01:51:12+0000',\n",
       "   'message': '1600原石的力量！',\n",
       "   'id': '115311071622970_111362082021504'},\n",
       "  {'created_time': '2023-07-12T01:50:07+0000',\n",
       "   'message': '我就爛.',\n",
       "   'id': '115311071622970_111361178688261'}],\n",
       " 'paging': {'cursors': {'before': 'QVFIUkNzZA3I2MUZAhZAlpyb3RkNWFJcVRtM1Mwb1VMYnFrMnBFOFBGQmZAscUpXSHlaYkxwU05EN2lucVVKaUZARSXU0QVFMTGd2QXFGYXMxdEZAnOE94em9Od0wxYUIwSDl6d1YzN1poUEt3cWZAaZAmM5R0VWVTNyLXltUjhmV25zQmthNzFLTmljUVhVMmFHLWFNeHBZAd2RXemRhbElkVDRFQ0hfUUN0QVF1bllvY1ZAzUWZADQ0R0WkpSaGhIQzhhSDlqVklYdVhWSXlZATzFmSEdrOTc4bW9aekNCNktLRlFyNGx4UjExVl9heFJUVS1KUUpRUU5SOU9YelU1bnZAENFZAKWXBqN29ycHJZARDBhU3ZAhZAk0zeUVPV0dnZATN1TURIODg3ZAlpJWE9tWkI5R0VVRXlIZA0NXbUZAHckQyWUZAZAcGFOb2tIcy1QTzR5UHdaN19tbGR5bUhSUm1UMGVhb1pMcXB5aDRXOExJTGRHVXZAGcDNsUlRPTGNfdEZAzQUxzRWh0MXZAzNENpRnZASdmplQTZApLWRhWmlHRFlBTjlaeE8zNU1uU2FxUVRBNDZATRnd3YWliS00ZD',\n",
       "   'after': 'QVFIUmJQY0JJMHB3ZAUs1d2Q0WVYwdnlKLUJBdkN1aGtJaTlDeUJXdVhNaXhMMUJMRVdBdkE2VklpR2xYT0VtSGpjVElVdnd1dTRMeVl6YkpoaUZAMUWZAlTFRyT1JwZAEJzdGlwNEpCcUUzOUdQMExaWlNrZA0F6X2ItVmR0LU9ZAdmU0T0R4a2RRaHQzeENnSDB6aThCTlE4WHpaazlXQUY2WExXSXQ0eHBrSm9jV05za25SMlJqV25XT1lheDlhWUc4SGlvNndhczZAKVE1ST09XY3BNMVktZAUoyZAXNOa0VPLWNrY1VBeTRreFljTzJLXzdYcUhQREVGWXkxN1hnMEYtQ1N6MWhaSmZAkM0dmWlI4MF9rdE1nLTR5WjRlTENuQUFwb3RnRm1wOXowUmpJVDRUbHlkamNVVm9BZAV9fRTJRRC04MC0tZAy1wbVFrdFVsYmE1dGhMSDFQcUtWTlVZAdDZACaFFUNnh0eTE5eEY1MUdIckhQejBWZAEdfeFdEd2tlM01iWURFcWVIX1k1M2ZAkWldDLWkzSFlLMEJaZA0YxU3E2VG40TDZARNEZAvd2F3cGVGc0x0cVN2MGRibHJXTzhWODVURnBIbkFOQ3NsQjctSy15WHhCaEJaTi0wTkVB'}}}"
      ]
     },
     "execution_count": 16,
     "metadata": {},
     "output_type": "execute_result"
    }
   ],
   "source": [
    "import requests\n",
    "import json\n",
    "\n",
    "host=\"https://graph.facebook.com/v17.0/\"\n",
    "pageid=\"115311071622970\"\n",
    "req=requests.get(host+pageid+\"/posts?access_token=\"+token)\n",
    "trans=json.loads(req.text)\n",
    "trans"
   ]
  },
  {
   "cell_type": "code",
   "execution_count": 17,
   "id": "6ecd1dc4",
   "metadata": {},
   "outputs": [
    {
     "data": {
      "text/plain": [
       "{'data': [{'created_time': '2023-07-12T02:06:05+0000',\n",
       "   'from': {'name': '粉紅色磚塊', 'id': '115311071622970'},\n",
       "   'message': '考哥.jpg',\n",
       "   'id': '111369125354133_217480054118112'},\n",
       "  {'created_time': '2023-07-12T02:30:20+0000',\n",
       "   'from': {'name': 'Text0712', 'id': '109958865496356'},\n",
       "   'message': 'ですわ',\n",
       "   'id': '111369125354133_1277855289516302'},\n",
       "  {'created_time': '2023-07-12T02:30:16+0000',\n",
       "   'from': {'name': 'Text0712', 'id': '109958865496356'},\n",
       "   'message': '臭い',\n",
       "   'id': '111369125354133_766247315299106'},\n",
       "  {'created_time': '2023-07-12T02:29:57+0000',\n",
       "   'from': {'name': 'Test.AIOT', 'id': '116290451523813'},\n",
       "   'message': '好啦 就繼續臭',\n",
       "   'id': '111369125354133_265474132783005'}],\n",
       " 'paging': {'cursors': {'before': 'NAZDZD', 'after': 'MQZDZD'}}}"
      ]
     },
     "execution_count": 17,
     "metadata": {},
     "output_type": "execute_result"
    }
   ],
   "source": [
    "import requests\n",
    "import json\n",
    "\n",
    "host=\"https://graph.facebook.com/v17.0/\"\n",
    "postid=\"115311071622970_111369125354133\"\n",
    "req=requests.get(host+postid+\"/comments?access_token=\"+token)\n",
    "trans=json.loads(req.text)\n",
    "trans"
   ]
  },
  {
   "cell_type": "code",
   "execution_count": 18,
   "id": "82ad1f42",
   "metadata": {
    "scrolled": true
   },
   "outputs": [
    {
     "data": {
      "text/plain": [
       "{'data': [{'created_time': '2023-07-12T02:09:53+0000',\n",
       "   'from': {'name': '粉紅色磚塊', 'id': '115311071622970'},\n",
       "   'message': '',\n",
       "   'id': '111369125354133_955388839054774'},\n",
       "  {'created_time': '2023-07-12T02:46:09+0000',\n",
       "   'from': {'name': '粉紅色磚塊', 'id': '115311071622970'},\n",
       "   'message': '差低',\n",
       "   'id': '111369125354133_100132469826640'},\n",
       "  {'created_time': '2023-07-12T02:46:30+0000',\n",
       "   'from': {'name': '粉紅色磚塊', 'id': '115311071622970'},\n",
       "   'message': '誰來幫魔術靈配一下音？',\n",
       "   'id': '111369125354133_775231251010956'}],\n",
       " 'paging': {'cursors': {'before': 'QVFIUmRES1ZAYY2hUMHBTM3p5RDZAkb3NpbVJXNVNWTnFDbGc0a2FieVJZAMVh5czFLSzAwNUtKbUtISTJpZAXhjWXlETDZAOVUt3dVlfdWJ4VFBLVW04OE9yYkZA3',\n",
       "   'after': 'QVFIUnVEdGQyeU82eTZAPQnhBbGo4VzYwRjFUNmREVHd4UlV2OFlBWFd1aER6SXFjN0FBRHJvS09NMlRrVVFJakFXTzZA0R3F2Q0RRVzFNdXpiNHFNTTQxQ3Nn'}}}"
      ]
     },
     "execution_count": 18,
     "metadata": {},
     "output_type": "execute_result"
    }
   ],
   "source": [
    "import requests\n",
    "import json\n",
    "\n",
    "host=\"https://graph.facebook.com/v17.0/\"\n",
    "commentid=\"111369125354133_217480054118112\"\n",
    "req=requests.get(host+commentid+\"/comments?access_token=\"+token)\n",
    "trans=json.loads(req.text)\n",
    "trans"
   ]
  },
  {
   "cell_type": "code",
   "execution_count": 76,
   "id": "1eb375bc",
   "metadata": {
    "scrolled": false
   },
   "outputs": [
    {
     "name": "stdout",
     "output_type": "stream",
     "text": [
      "Incorrect. Try again.\n",
      "\n"
     ]
    },
    {
     "ename": "KeyboardInterrupt",
     "evalue": "",
     "output_type": "error",
     "traceback": [
      "\u001b[1;31m---------------------------------------------------------------------------\u001b[0m",
      "\u001b[1;31mKeyboardInterrupt\u001b[0m                         Traceback (most recent call last)",
      "Cell \u001b[1;32mIn[76], line 20\u001b[0m\n\u001b[0;32m     18\u001b[0m trans\u001b[38;5;241m=\u001b[39mjson\u001b[38;5;241m.\u001b[39mloads(req\u001b[38;5;241m.\u001b[39mtext)\n\u001b[0;32m     19\u001b[0m \u001b[38;5;28;01mif\u001b[39;00m(\u001b[38;5;28mlen\u001b[39m(trans[\u001b[38;5;124m\"\u001b[39m\u001b[38;5;124mdata\u001b[39m\u001b[38;5;124m\"\u001b[39m])\u001b[38;5;241m==\u001b[39mcurrent):\n\u001b[1;32m---> 20\u001b[0m     time\u001b[38;5;241m.\u001b[39msleep(\u001b[38;5;241m10\u001b[39m)\n\u001b[0;32m     21\u001b[0m     \u001b[38;5;28;01mcontinue\u001b[39;00m\n\u001b[0;32m     22\u001b[0m req\u001b[38;5;241m=\u001b[39mrequests\u001b[38;5;241m.\u001b[39mget(host\u001b[38;5;241m+\u001b[39mpostid\u001b[38;5;241m+\u001b[39m\u001b[38;5;124m\"\u001b[39m\u001b[38;5;124m/comments?access_token=\u001b[39m\u001b[38;5;124m\"\u001b[39m\u001b[38;5;241m+\u001b[39mtoken)\n",
      "\u001b[1;31mKeyboardInterrupt\u001b[0m: "
     ]
    }
   ],
   "source": [
    "import requests\n",
    "import json\n",
    "import random\n",
    "import time\n",
    "host=\"https://graph.facebook.com/v17.0/\"\n",
    "pageid=\"115311071622970\"\n",
    "nummin=1\n",
    "nummax=100\n",
    "answer=random.randint(nummin,nummax)\n",
    "current=0\n",
    "# req=requests.post(host+pageid+\"/feed?message=猜數字遊戲開始，答案為\"+str(answer)+\"\\n在留言區輸入\"+str(nummin)+\"~\"+str(nummax)+\"&access_token=\"+token)\n",
    "# trans=json.loads(req.text)\n",
    "# print(trans)\n",
    "postid=\"115311071622970_111668765324169\"#trans[\"id\"]\n",
    "time.sleep(5)\n",
    "while 1:\n",
    "    req=requests.get(host+postid+\"/comments?access_token=\"+token)\n",
    "    trans=json.loads(req.text)\n",
    "    if(len(trans[\"data\"])==current):\n",
    "        time.sleep(10)\n",
    "        continue\n",
    "    req=requests.get(host+postid+\"/comments?access_token=\"+token)\n",
    "    for i in json.loads(req.text)[\"data\"]:\n",
    "        req=requests.get(host+i[\"id\"]+\"/comments?access_token=\"+token)\n",
    "        if(len(json.loads(req.text)[\"data\"])==0):\n",
    "            checked=0\n",
    "            for j in range(nummin-1,nummax+1):\n",
    "                if(i[\"message\"]==str(j)):\n",
    "                    checked=1\n",
    "                    guess=int(i[\"message\"])\n",
    "                    break\n",
    "            commentid=i[\"id\"]\n",
    "    current+=1\n",
    "    if(checked==0):\n",
    "        print(\"Input not accepted.\")\n",
    "        req=requests.post(host+commentid+\"/comments?message=第%d次：你輸入的不是範圍內的數字！請再試一次，在留言區輸入%d~%d&access_token=\"%(current,nummin,nummax)+token)\n",
    "        continue\n",
    "    if(guess==answer):\n",
    "        print(\"That is correct!\")\n",
    "        req=requests.post(host+commentid+\"/comments?message=第%d次：猜對了！&access_token=\"%(current)+token)\n",
    "        break\n",
    "    if(guess>answer):\n",
    "        print(\"Incorrect. Try again.\\n\")\n",
    "        nummax=guess-1\n",
    "        req=requests.post(host+commentid+\"/comments?message=第%d次：猜錯了，請再試一次，在留言區輸入%d~%d&access_token=\"%(current,nummin,nummax)+token)\n",
    "    else:\n",
    "        print(\"Incorrect. Try again.\\n\")\n",
    "        nummin=guess+1\n",
    "        req=requests.post(host+commentid+\"/comments?message=第%d次：猜錯了，請再試一次，在留言區輸入%d~%d&access_token=\"%(current,nummin,nummax)+token)"
   ]
  },
  {
   "cell_type": "code",
   "execution_count": 42,
   "id": "c37173d1",
   "metadata": {},
   "outputs": [
    {
     "name": "stdout",
     "output_type": "stream",
     "text": [
      "[{'created_time': '2023-07-12T02:06:05+0000', 'from': {'name': '粉紅色磚塊', 'id': '115311071622970'}, 'message': '考哥.jpg', 'id': '111369125354133_217480054118112'}, {'created_time': '2023-07-12T02:30:20+0000', 'from': {'name': '嘎抓餐飲店', 'id': '109958865496356'}, 'message': 'ですわ', 'id': '111369125354133_1277855289516302'}, {'created_time': '2023-07-12T02:30:16+0000', 'from': {'name': '嘎抓餐飲店', 'id': '109958865496356'}, 'message': '臭い', 'id': '111369125354133_766247315299106'}, {'created_time': '2023-07-12T02:29:57+0000', 'from': {'name': '甜蜜蜜', 'id': '116290451523813'}, 'message': '好啦 就繼續臭', 'id': '111369125354133_265474132783005'}]\n"
     ]
    }
   ],
   "source": [
    "req=requests.get(\"https://graph.facebook.com/v17.0/115311071622970_111369125354133/comments?access_token=\"+token)\n",
    "print(json.loads(req.text)[\"data\"])"
   ]
  },
  {
   "cell_type": "code",
   "execution_count": 61,
   "id": "e0f97ef0",
   "metadata": {},
   "outputs": [
    {
     "name": "stdout",
     "output_type": "stream",
     "text": [
      "d\n",
      "bad\n"
     ]
    }
   ],
   "source": [
    "host=input()\n",
    "current=0\n",
    "for i in range(0,101):\n",
    "    if(host==str(i)):\n",
    "        current=1\n",
    "if(current==1):\n",
    "    print(\"good\")\n",
    "else:\n",
    "    print(\"bad\")"
   ]
  },
  {
   "cell_type": "code",
   "execution_count": 66,
   "id": "f9e453f2",
   "metadata": {},
   "outputs": [
    {
     "name": "stdout",
     "output_type": "stream",
     "text": [
      "{'id': '105967285098749_302897312087372'}\n"
     ]
    },
    {
     "ename": "KeyboardInterrupt",
     "evalue": "",
     "output_type": "error",
     "traceback": [
      "\u001b[1;31m---------------------------------------------------------------------------\u001b[0m",
      "\u001b[1;31mKeyboardInterrupt\u001b[0m                         Traceback (most recent call last)",
      "Cell \u001b[1;32mIn[66], line 65\u001b[0m\n\u001b[0;32m     63\u001b[0m             \u001b[38;5;28mprint\u001b[39m(jd2)\n\u001b[0;32m     64\u001b[0m             user[jd[\u001b[38;5;124m'\u001b[39m\u001b[38;5;124mdata\u001b[39m\u001b[38;5;124m'\u001b[39m][\u001b[38;5;241m0\u001b[39m][\u001b[38;5;124m'\u001b[39m\u001b[38;5;124mid\u001b[39m\u001b[38;5;124m'\u001b[39m]][\u001b[38;5;241m1\u001b[39m]\u001b[38;5;241m=\u001b[39mjd2[\u001b[38;5;124m'\u001b[39m\u001b[38;5;124mid\u001b[39m\u001b[38;5;124m'\u001b[39m]\n\u001b[1;32m---> 65\u001b[0m time\u001b[38;5;241m.\u001b[39msleep(\u001b[38;5;241m20\u001b[39m)\n",
      "\u001b[1;31mKeyboardInterrupt\u001b[0m: "
     ]
    }
   ],
   "source": [
    "import random\n",
    "import time\n",
    "import requests\n",
    "import json\n",
    "host=\"https://graph.facebook.com/v17.0/\"\n",
    "page_id=\"105967285098749\"\n",
    "token=\"EAAKi2n8FFgYBADq53XyC2wZAYAWzYUJdQIMmDT6ceYoD2ShMwy4c4ZCyhg31ZC7qePzZBF2m3YjJcwzZA9fhD4GI9MYQFgNA0Y9OVehPbcKpc7GzanxZBhLa7TEEdoyHhp4jnL9KR0PdjpTVCT4VsjEf5vkPZBWkQrnAf5ES94HD6xOYv3McsZBsBR4JZARZCaGAZBvjWlahjcXKAgLzTgndtDd\"\n",
    "num_max=100\n",
    "num_min=1\n",
    "ans=random.randint(num_min,num_max)\n",
    "user={}\n",
    "res=requests.post(host+page_id+\"/feed?message=遊戲開始,答案是%d,請輸入%d到%d的數字&access_token=\"%(ans,num_min,num_max)+token)\n",
    "# res=requests.post(host+page_id+\"/feed?message=遊戲開始,答案是\"+str(ans)+\n",
    "#     \",請輸入\"+str(num_min)+\"到\"+str(num_max)+\"的數字&access_token=\"+token)\n",
    "jd=json.loads(res.text)\n",
    "print(jd)\n",
    "post_id=jd['id']\n",
    "time.sleep(5)\n",
    "while True:\n",
    "    #讀取貼文的留言\n",
    "    res=requests.get(host+post_id+\"/comments?access_token=\"+token)\n",
    "    jd=json.loads(res.text)    \n",
    "    if len(jd['data'])>0:#判斷是否有新留言\n",
    "        guess=int(jd['data'][0]['message'])#存猜測的答案\n",
    "        if jd['data'][0]['id'] not in user:\n",
    "            user[jd['data'][0]['id']]=[jd['data'][0]['message']]#開始記錄user={\"留言ID\":[留言內容,回覆ID]}\n",
    "            if ans==guess:\n",
    "                print(\"恭喜猜對\")\n",
    "                res=requests.post(host+jd['data'][0]['id']+\"/comments?message=恭喜猜對&access_token=\"+token)\n",
    "                break\n",
    "            elif ans>guess:\n",
    "                num_min=guess\n",
    "                print(\"請輸入%d到%d的數字\"%(num_min,num_max))\n",
    "                res=requests.post(host+jd['data'][0]['id']+\"/comments?message=請輸入%d到%d的數字\"%(num_min,num_max)+\"&access_token=\"+token)\n",
    "            else:\n",
    "                num_max=guess\n",
    "                print(\"請輸入%d到%d的數字\"%(num_min,num_max))\n",
    "                res=requests.post(host+jd['data'][0]['id']+\"/comments?message=請輸入%d到%d的數字\"%(num_min,num_max)+\"&access_token=\"+token)\n",
    "            #留下回覆的紀錄\n",
    "            jd2=json.loads(res.text)\n",
    "            print(jd2)\n",
    "            if len(user[jd['data'][0]['id']])==1:#判斷是否已回覆過\n",
    "                user[jd['data'][0]['id']].append(jd2['id'])\n",
    "            else:\n",
    "                user[jd['data'][0]['id']][1]=jd2['id']\n",
    "        else: \n",
    "            if user[jd['data'][0]['id']][0]!=jd['data'][0]['message']:\n",
    "                user[jd['data'][0]['id']][0]=jd['data'][0]['message']#開始記錄user={\"留言ID\":[留言內容,回覆ID]}\n",
    "                if ans==guess:\n",
    "                    print(\"恭喜猜對\")\n",
    "                    res=requests.post(host+jd['data'][0]['id']+\"/comments?message=恭喜猜對&access_token=\"+token)\n",
    "                    break\n",
    "                elif ans>guess:\n",
    "                    num_min=guess\n",
    "                    print(\"請輸入%d到%d的數字\"%(num_min,num_max))\n",
    "                    res=requests.post(host+jd['data'][0]['id']+\"/comments?message=請輸入%d到%d的數字\"%(num_min,num_max)+\"&access_token=\"+token)\n",
    "                else:\n",
    "                    num_max=guess\n",
    "                    print(\"請輸入%d到%d的數字\"%(num_min,num_max))\n",
    "                    res=requests.post(host+jd['data'][0]['id']+\"/comments?message=請輸入%d到%d的數字\"%(num_min,num_max)+\"&access_token=\"+token)\n",
    "                #留下回覆的紀錄\n",
    "                jd2=json.loads(res.text)\n",
    "                print(jd2)\n",
    "                user[jd['data'][0]['id']][1]=jd2['id']\n",
    "    time.sleep(20)"
   ]
  },
  {
   "cell_type": "code",
   "execution_count": null,
   "id": "73f9b231",
   "metadata": {},
   "outputs": [],
   "source": []
  }
 ],
 "metadata": {
  "kernelspec": {
   "display_name": "Python 3 (ipykernel)",
   "language": "python",
   "name": "python3"
  },
  "language_info": {
   "codemirror_mode": {
    "name": "ipython",
    "version": 3
   },
   "file_extension": ".py",
   "mimetype": "text/x-python",
   "name": "python",
   "nbconvert_exporter": "python",
   "pygments_lexer": "ipython3",
   "version": "3.11.3"
  }
 },
 "nbformat": 4,
 "nbformat_minor": 5
}
