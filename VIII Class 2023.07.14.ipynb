{
 "cells": [
  {
   "cell_type": "code",
   "execution_count": null,
   "id": "e3971aae",
   "metadata": {},
   "outputs": [],
   "source": [
    "pip install line-bot-sdk"
   ]
  },
  {
   "cell_type": "code",
   "execution_count": null,
   "id": "9f0cd933",
   "metadata": {
    "scrolled": false
   },
   "outputs": [],
   "source": [
    "from flask import Flask,request\n",
    "#https://github.com/line/line-bot-sdk-python\n",
    "from linebot import LineBotApi,WebhookHandler\n",
    "from linebot.models import FlexSendMessage,TextSendMessage\n",
    "token=\"5pkSnrKNYWiH82Jxc9Z4XxyT+pVmrVfMYiyjY+mDyuADpCrpa4HgmbNEdnFvWqrh2CDkCjbfLUl1O14KDwj6IpuoVfPa+oSU3pbefHzwML+qtKXj5iQ3YiBEsJSfNhW0ckXjRNye6s9ps1hDCMWA7QdB04t89/1O/w1cDnyilFU=\"\n",
    "app=Flask(__name__)\n",
    "# LINE 聊天機器人的基本資料\n",
    "line_bot=LineBotApi(token)\n",
    "@app.route(\"/\", methods=['POST'])\n",
    "def verify():\n",
    "    data=request.get_json()\n",
    "    print(data)\n",
    "    #給Webhook驗證使用\n",
    "    if(len(data['events'])==0):\n",
    "        print(\"webhook驗證通知\")\n",
    "        pass\n",
    "    else:\n",
    "        text=data[\"events\"][0][\"message\"][\"text\"]\n",
    "        uid=data[\"events\"][0][\"source\"][\"userId\"]\n",
    "        rptk=data[\"events\"][0][\"replyToken\"]\n",
    "        print(text,uid,rptk)\n",
    "        line_bot.reply_message(rptk,[TextSendMessage(text=text)])\n",
    "    return 'OK',200\n",
    "if(__name__ == \"__main__\"):\n",
    "    app.run(port=2315)"
   ]
  },
  {
   "cell_type": "code",
   "execution_count": null,
   "id": "fd048cd6",
   "metadata": {
    "scrolled": false
   },
   "outputs": [
    {
     "name": "stdout",
     "output_type": "stream",
     "text": [
      " * Serving Flask app '__main__'\n",
      " * Debug mode: off\n"
     ]
    },
    {
     "name": "stderr",
     "output_type": "stream",
     "text": [
      "C:\\TEMP\\ipykernel_10480\\1312103530.py:9: LineBotSdkDeprecatedIn30: Call to deprecated class LineBotApi. (Use v3 class; linebot.v3.<feature>. See https://github.com/line/line-bot-sdk-python/blob/master/README.rst for more details.) -- Deprecated since version 3.0.0.\n",
      "  line_bot=LineBotApi(token)\n",
      "WARNING: This is a development server. Do not use it in a production deployment. Use a production WSGI server instead.\n",
      " * Running on http://127.0.0.1:2315\n",
      "Press CTRL+C to quit\n"
     ]
    }
   ],
   "source": [
    "from flask import Flask,request\n",
    "#https://github.com/line/line-bot-sdk-python\n",
    "from linebot import LineBotApi,WebhookHandler\n",
    "from linebot.models import FlexSendMessage,TextSendMessage,StickerSendMessage\n",
    "import json\n",
    "token=\"5pkSnrKNYWiH82Jxc9Z4XxyT+pVmrVfMYiyjY+mDyuADpCrpa4HgmbNEdnFvWqrh2CDkCjbfLUl1O14KDwj6IpuoVfPa+oSU3pbefHzwML+qtKXj5iQ3YiBEsJSfNhW0ckXjRNye6s9ps1hDCMWA7QdB04t89/1O/w1cDnyilFU=\"\n",
    "app=Flask(__name__)\n",
    "# LINE 聊天機器人的基本資料\n",
    "line_bot=LineBotApi(token)\n",
    "@app.route(\"/\", methods=['POST'])\n",
    "def verify():\n",
    "    data=request.get_json()\n",
    "    print(data)\n",
    "    #給Webhook驗證使用\n",
    "    if(len(data['events'])==0):\n",
    "        print(\"webhook驗證通知\")\n",
    "        pass\n",
    "    else:\n",
    "        text=data[\"events\"][0][\"message\"][\"text\"]\n",
    "        uid=data[\"events\"][0][\"source\"][\"userId\"]\n",
    "        rptk=data[\"events\"][0][\"replyToken\"]\n",
    "        print(text,uid,rptk)\n",
    "        line_bot.reply_message(rptk,[FlexSendMessage(alt_text=\"123\",contents={\n",
    "  \"type\": \"bubble\",\n",
    "  \"direction\": \"ltr\",\n",
    "  \"header\": {\n",
    "    \"type\": \"box\",\n",
    "    \"layout\": \"vertical\",\n",
    "    \"contents\": [\n",
    "      {\n",
    "        \"type\": \"text\",\n",
    "        \"text\": \"知識\",\n",
    "        \"weight\": \"bold\",\n",
    "        \"size\": \"3xl\",\n",
    "        \"align\": \"center\",\n",
    "        \"contents\": []\n",
    "      }\n",
    "    ]\n",
    "  },\n",
    "  \"hero\": {\n",
    "    \"type\": \"image\",\n",
    "    \"url\": \"https://i.imgur.com/I2jKwd4.jpg\",\n",
    "    \"size\": \"full\",\n",
    "    \"aspectRatio\": \"1.51:1\",\n",
    "    \"aspectMode\": \"fit\"\n",
    "  },\n",
    "  \"body\": {\n",
    "    \"type\": \"box\",\n",
    "    \"layout\": \"vertical\",\n",
    "    \"contents\": [\n",
    "      {\n",
    "        \"type\": \"text\",\n",
    "        \"text\": \"與你分享\",\n",
    "        \"weight\": \"bold\",\n",
    "        \"size\": \"xxl\",\n",
    "        \"align\": \"center\",\n",
    "        \"contents\": []\n",
    "      }\n",
    "    ]\n",
    "  },\n",
    "  \"footer\": {\n",
    "    \"type\": \"box\",\n",
    "    \"layout\": \"horizontal\",\n",
    "    \"contents\": [\n",
    "      {\n",
    "        \"type\": \"button\",\n",
    "        \"action\": {\n",
    "          \"type\": \"uri\",\n",
    "          \"label\": \"點我看rick roll👈\",\n",
    "          \"uri\": \"https://www.youtube.com/watch?v=dQw4w9WgXcQ&pp=ygUJcmljayByb2xs\"\n",
    "        }\n",
    "      }\n",
    "    ]\n",
    "  }\n",
    "})])\n",
    "    return 'OK',200\n",
    "if(__name__ == \"__main__\"):\n",
    "    app.run(port=2315)"
   ]
  },
  {
   "cell_type": "code",
   "execution_count": null,
   "id": "c2c2376b",
   "metadata": {
    "scrolled": false
   },
   "outputs": [
    {
     "name": "stdout",
     "output_type": "stream",
     "text": [
      " * Serving Flask app '__main__'\n",
      " * Debug mode: off\n"
     ]
    },
    {
     "name": "stderr",
     "output_type": "stream",
     "text": [
      "C:\\TEMP\\ipykernel_10480\\1312103530.py:9: LineBotSdkDeprecatedIn30: Call to deprecated class LineBotApi. (Use v3 class; linebot.v3.<feature>. See https://github.com/line/line-bot-sdk-python/blob/master/README.rst for more details.) -- Deprecated since version 3.0.0.\n",
      "  line_bot=LineBotApi(token)\n",
      "WARNING: This is a development server. Do not use it in a production deployment. Use a production WSGI server instead.\n",
      " * Running on http://127.0.0.1:2315\n",
      "Press CTRL+C to quit\n"
     ]
    }
   ],
   "source": [
    "from flask import Flask,request\n",
    "#https://github.com/line/line-bot-sdk-python\n",
    "from linebot import LineBotApi,WebhookHandler\n",
    "from linebot.models import FlexSendMessage,TextSendMessage,StickerSendMessage\n",
    "import json\n",
    "import requests\n",
    "token=\"5pkSnrKNYWiH82Jxc9Z4XxyT+pVmrVfMYiyjY+mDyuADpCrpa4HgmbNEdnFvWqrh2CDkCjbfLUl1O14KDwj6IpuoVfPa+oSU3pbefHzwML+qtKXj5iQ3YiBEsJSfNhW0ckXjRNye6s9ps1hDCMWA7QdB04t89/1O/w1cDnyilFU=\"\n",
    "app=Flask(__name__)\n",
    "# LINE 聊天機器人的基本資料\n",
    "line_bot=LineBotApi(token)\n",
    "@app.route(\"/\", methods=['POST'])\n",
    "def verify():\n",
    "    data=request.get_json()\n",
    "    print(data)\n",
    "    #給Webhook驗證使用\n",
    "    if(len(data['events'])==0):\n",
    "        print(\"webhook驗證通知\")\n",
    "        pass\n",
    "    else:\n",
    "        text=data[\"events\"][0][\"message\"][\"text\"]\n",
    "        uid=data[\"events\"][0][\"source\"][\"userId\"]\n",
    "        rptk=data[\"events\"][0][\"replyToken\"]\n",
    "        print(text,uid,rptk)\n",
    "        line_bot.reply_message(rptk,[TextSendMessage(text=text)])\n",
    "        \n",
    "        token=\"JIWQ7gh6DgVFzVQfOUXTRISEYtD1EI89sVQ6J3an8rP\"\n",
    "        h={\"Authorization\":\"Bearer \"+token}\n",
    "        message=text\n",
    "        d={'message':message}\n",
    "        requests.post(\"https://notify-api.line.me/api/notify\",headers=h,data=d)\n",
    "    return 'OK',200\n",
    "if(__name__ == \"__main__\"):\n",
    "    app.run(port=2315)"
   ]
  },
  {
   "cell_type": "code",
   "execution_count": null,
   "id": "efda6e78",
   "metadata": {},
   "outputs": [],
   "source": [
    "pip install pyimgur"
   ]
  },
  {
   "cell_type": "code",
   "execution_count": 3,
   "id": "2408f347",
   "metadata": {},
   "outputs": [
    {
     "name": "stdout",
     "output_type": "stream",
     "text": [
      "Uploaded with PyImgur\n",
      "https://i.imgur.com/I2jKwd4.jpg\n",
      "image/jpeg\n"
     ]
    }
   ],
   "source": [
    "import pyimgur\n",
    "clientid=\"f64d00bc4ff6cbc\"\n",
    "title=\"Uploaded with PyImgur\"\n",
    "im=pyimgur.Imgur(clientid)\n",
    "uploaded_image=im.upload_image(\"C://Users//User//Downloads//nahidapunch.jpg\",title=title)\n",
    "print(uploaded_image.title)\n",
    "print(uploaded_image.link)\n",
    "print(uploaded_image.type)"
   ]
  },
  {
   "cell_type": "code",
   "execution_count": null,
   "id": "1cdfdde9",
   "metadata": {},
   "outputs": [],
   "source": [
    "#nahida swing: https://i.imgur.com/EikhyBv.png\n",
    "#nahida punch: https://i.imgur.com/I2jKwd4.jpg"
   ]
  }
 ],
 "metadata": {
  "kernelspec": {
   "display_name": "Python 3 (ipykernel)",
   "language": "python",
   "name": "python3"
  },
  "language_info": {
   "codemirror_mode": {
    "name": "ipython",
    "version": 3
   },
   "file_extension": ".py",
   "mimetype": "text/x-python",
   "name": "python",
   "nbconvert_exporter": "python",
   "pygments_lexer": "ipython3",
   "version": "3.11.3"
  }
 },
 "nbformat": 4,
 "nbformat_minor": 5
}
