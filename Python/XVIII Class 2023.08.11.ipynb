{
 "cells": [
  {
   "cell_type": "code",
   "execution_count": 2,
   "id": "7b19c81f",
   "metadata": {},
   "outputs": [
    {
     "name": "stdout",
     "output_type": "stream",
     "text": [
      "Requirement already satisfied: selenium in c:\\users\\user\\anaconda3\\lib\\site-packages (4.11.2)\n",
      "Requirement already satisfied: urllib3[socks]<3,>=1.26 in c:\\users\\user\\anaconda3\\lib\\site-packages (from selenium) (1.26.16)\n",
      "Requirement already satisfied: trio~=0.17 in c:\\users\\user\\anaconda3\\lib\\site-packages (from selenium) (0.22.2)\n",
      "Requirement already satisfied: trio-websocket~=0.9 in c:\\users\\user\\anaconda3\\lib\\site-packages (from selenium) (0.10.3)\n",
      "Requirement already satisfied: certifi>=2021.10.8 in c:\\users\\user\\anaconda3\\lib\\site-packages (from selenium) (2023.7.22)\n",
      "Requirement already satisfied: attrs>=20.1.0 in c:\\users\\user\\anaconda3\\lib\\site-packages (from trio~=0.17->selenium) (22.1.0)\n",
      "Requirement already satisfied: sortedcontainers in c:\\users\\user\\anaconda3\\lib\\site-packages (from trio~=0.17->selenium) (2.4.0)\n",
      "Requirement already satisfied: idna in c:\\users\\user\\anaconda3\\lib\\site-packages (from trio~=0.17->selenium) (3.4)\n",
      "Requirement already satisfied: outcome in c:\\users\\user\\anaconda3\\lib\\site-packages (from trio~=0.17->selenium) (1.2.0)\n",
      "Requirement already satisfied: sniffio in c:\\users\\user\\anaconda3\\lib\\site-packages (from trio~=0.17->selenium) (1.2.0)\n",
      "Requirement already satisfied: cffi>=1.14 in c:\\users\\user\\anaconda3\\lib\\site-packages (from trio~=0.17->selenium) (1.15.1)\n",
      "Requirement already satisfied: exceptiongroup in c:\\users\\user\\anaconda3\\lib\\site-packages (from trio-websocket~=0.9->selenium) (1.1.2)\n",
      "Requirement already satisfied: wsproto>=0.14 in c:\\users\\user\\anaconda3\\lib\\site-packages (from trio-websocket~=0.9->selenium) (1.2.0)\n",
      "Requirement already satisfied: PySocks!=1.5.7,<2.0,>=1.5.6 in c:\\users\\user\\anaconda3\\lib\\site-packages (from urllib3[socks]<3,>=1.26->selenium) (1.7.1)\n",
      "Requirement already satisfied: pycparser in c:\\users\\user\\anaconda3\\lib\\site-packages (from cffi>=1.14->trio~=0.17->selenium) (2.21)\n",
      "Requirement already satisfied: h11<1,>=0.9.0 in c:\\users\\user\\anaconda3\\lib\\site-packages (from wsproto>=0.14->trio-websocket~=0.9->selenium) (0.14.0)\n",
      "Note: you may need to restart the kernel to use updated packages.\n"
     ]
    }
   ],
   "source": [
    "pip install selenium"
   ]
  },
  {
   "cell_type": "code",
   "execution_count": 50,
   "id": "39785e38",
   "metadata": {},
   "outputs": [
    {
     "name": "stdout",
     "output_type": "stream",
     "text": [
      "Collecting wgetNote: you may need to restart the kernel to use updated packages.\n",
      "\n",
      "  Downloading wget-3.2.zip (10 kB)\n",
      "  Preparing metadata (setup.py): started\n",
      "  Preparing metadata (setup.py): finished with status 'done'\n",
      "Building wheels for collected packages: wget\n",
      "  Building wheel for wget (setup.py): started\n",
      "  Building wheel for wget (setup.py): finished with status 'done'\n",
      "  Created wheel for wget: filename=wget-3.2-py3-none-any.whl size=9680 sha256=7b1ff1aafd2a746dd67dadbbb1961318a9e20e29a83a00b7bbfd4c8f7b9c52fc\n",
      "  Stored in directory: c:\\users\\user\\appdata\\local\\pip\\cache\\wheels\\40\\b3\\0f\\a40dbd1c6861731779f62cc4babcb234387e11d697df70ee97\n",
      "Successfully built wget\n",
      "Installing collected packages: wget\n",
      "Successfully installed wget-3.2\n"
     ]
    }
   ],
   "source": [
    "pip install wget"
   ]
  },
  {
   "cell_type": "code",
   "execution_count": 41,
   "id": "2eb6d9cb",
   "metadata": {},
   "outputs": [
    {
     "name": "stdout",
     "output_type": "stream",
     "text": [
      "https://i.ytimg.com/vi/C5zTO4nhXl4/maxresdefault.jpg\n",
      "\n",
      "https://i.ytimg.com/vi/C5zTO4nhXl4/maxresdefault.jpg\n",
      "\n",
      "https://p9.toutiaoimg.com/origin/pgc-image/f3119e9226aa490295e8dbbf0a373b0b?from=pc\n",
      "\n",
      "https://p9.toutiaoimg.com/origin/pgc-image/f3119e9226aa490295e8dbbf0a373b0b?from=pc\n",
      "\n",
      "https://p1.music.126.net/o9nrfyqo6NJc17R-Bsr4Qg==/109951163811231849.jpg\n",
      "\n",
      "https://www.popdaily.com.tw/u/202101/b154745a-74be-4e98-b784-455cd504313f.jpg\n",
      "\n",
      "https://static.popdaily.com.tw/u/202101/4e1bff2a-1471-405c-984b-a2137f0e1a35.jpg\n",
      "\n",
      "https://static.popdaily.com.tw/u/202101/4e1bff2a-1471-405c-984b-a2137f0e1a35.jpg\n",
      "\n",
      "https://i.ytimg.com/vi/bWZ75gMmXLw/maxresdefault.jpg\n",
      "\n",
      "https://i.ytimg.com/vi/bWZ75gMmXLw/maxresdefault.jpg\n",
      "\n",
      "https://i.ytimg.com/vi/9sOSGdLJLv4/maxres2.jpg?sqp=-oaymwEoCIAKENAF8quKqQMcGADwAQH4Ac4FgAKACooCDAgAEAEYSCBlKCwwDw==&rs=AOn4CLBbyepEssTAa_0KkWsBw8RQ2dHSqA\n",
      "\n",
      "https://pgw.udn.com.tw/gw/photo.php?u=https://uc.udn.com.tw/photo/2022/09/02/0/18507964.jpg&s=Y&x=0&y=38&sw=1280&sh=853&exp=3600\n",
      "\n",
      "https://pgw.udn.com.tw/gw/photo.php?u=https://uc.udn.com.tw/photo/2022/02/15/0/16051205.jpg&s=Y&x=0&y=106&sw=1279&sh=853&exp=3600\n",
      "\n",
      "https://i.ytimg.com/vi/RIUmkByVWQw/maxresdefault.jpg\n",
      "\n",
      "https://i.ytimg.com/vi/RIUmkByVWQw/maxresdefault.jpg\n",
      "\n",
      "https://n.sinaimg.cn/sinacn10113/573/w1108h1065/20190117/9e51-hrseche1144341.jpg\n",
      "\n",
      "https://picx.zhimg.com/v2-ff2cc88039ebc9275caa2a2f02892633_720w.gif?source=7e7ef6e2\n",
      "\n",
      "https://p4.itc.cn/images01/20220707/58ea71a538da4e4c8a6bd85a0abc6052.jpeg\n",
      "\n",
      "https://i.ytimg.com/vi/eDzcp2pcrr8/maxresdefault.jpg\n",
      "\n",
      "https://img.theepochtimes.com/assets/uploads/2022/08/17/Chunk-2-1200x1194.jpg\n",
      "\n",
      "https://thumbs.dreamstime.com/z/%E5%B0%96%E5%8F%AB%E7%9A%84%E5%9C%9F%E6%8B%A8%E9%BC%A0-40950851.jpg\n",
      "\n",
      "https://img.alicdn.com/imgextra/i4/1017365724/O1CN01WdcNyx1s9ddkltZ29_!!1017365724.jpg\n",
      "\n",
      "https://s.yimg.com/ny/api/res/1.2/TKURPOXkrGe865l.uffPSg--/YXBwaWQ9aGlnaGxhbmRlcjt3PTEyMDA7aD04Njk-/https://media.zenfs.com/zh-Hant-TW/homerun/nownews.com/e9fb619efd5b0b9a247bbad817b5154a\n",
      "\n",
      "https://cf.shopee.tw/file/tw-11134207-23020-u1dt9layionv75\n",
      "\n",
      "https://cdn2.ettoday.net/images/5002/5002738.jpg\n",
      "\n",
      "https://cdn2.ettoday.net/images/5002/5002738.jpg\n",
      "\n",
      "https://cf.shopee.tw/file/tw-11134207-7qul9-ljl9l4geivyla7\n",
      "\n",
      "https://i.ytimg.com/vi/eInSVKgZxOU/maxresdefault.jpg\n",
      "\n",
      "https://www.tony60533.com/wp-content/uploads/2023/06/0-10.jpg\n",
      "\n",
      "https://p9.itc.cn/images01/20210616/ac8d64ada37a4716abc2e6a3a75d7ac5.jpeg\n",
      "\n",
      "https://thumbs.dreamstime.com/z/%E5%9C%9F%E6%8B%A8%E9%BC%A0%E5%9D%90%E5%9C%A8%E8%8D%89%E5%92%8C%E5%B0%96%E5%8F%AB%E5%85%B3%E4%BA%8E%E5%8D%B1%E9%99%A9-87797907.jpg\n",
      "\n",
      "https://thumbs.dreamstime.com/z/%E5%9C%9F%E6%8B%A8%E9%BC%A0%E5%9D%90%E5%9C%A8%E8%8D%89%E5%92%8C%E5%B0%96%E5%8F%AB%E5%85%B3%E4%BA%8E%E5%8D%B1%E9%99%A9-87797907.jpg\n",
      "\n",
      "https://i.ytimg.com/vi/mJW7jM0659U/maxresdefault.jpg\n",
      "\n",
      "https://upload.wikimedia.org/wikipedia/commons/thumb/d/d1/Cynomys_ludovicianus5.jpg/1200px-Cynomys_ludovicianus5.jpg\n",
      "\n"
     ]
    },
    {
     "ename": "TypeError",
     "evalue": "'NoneType' object is not subscriptable",
     "output_type": "error",
     "traceback": [
      "\u001b[1;31m---------------------------------------------------------------------------\u001b[0m",
      "\u001b[1;31mTypeError\u001b[0m                                 Traceback (most recent call last)",
      "Cell \u001b[1;32mIn[41], line 38\u001b[0m\n\u001b[0;32m     36\u001b[0m \u001b[38;5;28;01mfor\u001b[39;00m i \u001b[38;5;129;01min\u001b[39;00m soup\u001b[38;5;241m.\u001b[39mfind_all(\u001b[38;5;124m\"\u001b[39m\u001b[38;5;124mdiv\u001b[39m\u001b[38;5;124m\"\u001b[39m,jsname\u001b[38;5;241m=\u001b[39m\u001b[38;5;124m\"\u001b[39m\u001b[38;5;124mN9Xkfe\u001b[39m\u001b[38;5;124m\"\u001b[39m):\n\u001b[0;32m     37\u001b[0m     lookingintosoup\u001b[38;5;241m=\u001b[39mBeautifulSoup(driver\u001b[38;5;241m.\u001b[39mpage_source,\u001b[38;5;124m\"\u001b[39m\u001b[38;5;124mhtml.parser\u001b[39m\u001b[38;5;124m\"\u001b[39m)\n\u001b[1;32m---> 38\u001b[0m     \u001b[38;5;28mprint\u001b[39m(lookingintosoup\u001b[38;5;241m.\u001b[39mfind(\u001b[38;5;124m\"\u001b[39m\u001b[38;5;124mimg\u001b[39m\u001b[38;5;124m\"\u001b[39m,jsname\u001b[38;5;241m=\u001b[39m\u001b[38;5;124m\"\u001b[39m\u001b[38;5;124mkn3ccd\u001b[39m\u001b[38;5;124m\"\u001b[39m)[\u001b[38;5;124m\"\u001b[39m\u001b[38;5;124msrc\u001b[39m\u001b[38;5;124m\"\u001b[39m])\n\u001b[0;32m     39\u001b[0m     \u001b[38;5;28mprint\u001b[39m()\n\u001b[0;32m     40\u001b[0m     selectpicture\u001b[38;5;241m.\u001b[39msend_keys(Keys\u001b[38;5;241m.\u001b[39mRIGHT)\n",
      "\u001b[1;31mTypeError\u001b[0m: 'NoneType' object is not subscriptable"
     ]
    }
   ],
   "source": [
    "from selenium import webdriver\n",
    "from selenium.webdriver.chrome.service import Service\n",
    "from selenium.webdriver.common.by import By\n",
    "from selenium.webdriver.support.wait import WebDriverWait\n",
    "from selenium.webdriver.support import expected_conditions as ExpCon\n",
    "from selenium.webdriver.common.keys import Keys\n",
    "from selenium.webdriver.chrome.options import Options\n",
    "from selenium.webdriver.common.action_chains import ActionChains\n",
    "from bs4 import BeautifulSoup\n",
    "from time import sleep\n",
    "\n",
    "option=webdriver.ChromeOptions()\n",
    "prefs={\"profile.default_content_setting_values\":{\"notifications\":2}}\n",
    "option.add_experimental_option(\"prefs\",prefs)\n",
    "service=Service(executable_path = \"C:\\\\Users\\\\User\\\\chromedriver.exe\")\n",
    "driver=webdriver.Chrome(service=service,options=option)\n",
    "driver.get(\"https://www.google.com/\")\n",
    "\n",
    "search=WebDriverWait(driver,10).until(ExpCon.element_to_be_clickable((By.CSS_SELECTOR,\"textarea[name='q']\")))\n",
    "search.send_keys(\"土撥鼠大叫\")\n",
    "search.send_keys(Keys.ENTER)\n",
    "pictureclick=WebDriverWait(driver,10).until(ExpCon.element_to_be_clickable((By.XPATH,(\"//*[text()='圖片']\"))))\n",
    "pictureclick.click()\n",
    "tools=WebDriverWait(driver,10).until(ExpCon.element_to_be_clickable((By.CSS_SELECTOR,\"div[jsname='I4bIT']\")))\n",
    "tools.click()\n",
    "choosesize=WebDriverWait(driver,10).until(ExpCon.element_to_be_clickable((By.CSS_SELECTOR,\"svg[jsname='ptzFX']\")))\n",
    "choosesize.click()\n",
    "setbig=WebDriverWait(driver,10).until(ExpCon.element_to_be_clickable((By.CSS_SELECTOR,\"a[aria-label='大']\")))\n",
    "setbig.click()\n",
    "\n",
    "selectpicture=WebDriverWait(driver,10).until(ExpCon.element_to_be_clickable((By.CSS_SELECTOR,\"a[class='wXeWr islib nfEiy']\")))\n",
    "selectpicture.click()\n",
    "soup=BeautifulSoup(driver.page_source,\"html.parser\")\n",
    "for i in soup.find_all(\"div\",jsname=\"N9Xkfe\"):\n",
    "    lookingintosoup=BeautifulSoup(driver.page_source,\"html.parser\")\n",
    "    print(lookingintosoup.find(\"img\",jsname=\"kn3ccd\")[\"src\"])\n",
    "    print()\n",
    "    selectpicture.send_keys(Keys.RIGHT)\n",
    "    sleep(3)"
   ]
  },
  {
   "cell_type": "code",
   "execution_count": 2,
   "id": "c1d06d7f",
   "metadata": {},
   "outputs": [
    {
     "name": "stdout",
     "output_type": "stream",
     "text": [
      "['https://i.ytimg.com/vi/C5zTO4nhXl4/maxresdefault.jpg', 'https://encrypted-tbn0.gstatic.com/images?q=tbn:ANd9GcTT7MiECiqhKvo_-P67lRPXh7z_7HUMvuar8kF7eCg1UwzYdB-33ZRR4TtRQ5aAgOYCQlA&usqp=CAU', 'https://encrypted-tbn0.gstatic.com/images?q=tbn:ANd9GcRbCFl6qCiTEVfBJyG_5Dl2Nyh1IYMEE4QjZ8U2c9m91-1IEgvrUeqXABd5x1Qer6LkgK8&usqp=CAU', 'https://p9.toutiaoimg.com/origin/pgc-image/f3119e9226aa490295e8dbbf0a373b0b?from=pc', 'https://encrypted-tbn0.gstatic.com/images?q=tbn:ANd9GcTjFSJt62bJAp4wwWpV_8gXHK8wFDEvrVXaiKAAPB0NmcernkTPOUEBzfDPLV6w_r93B8A&usqp=CAU', 'https://i.ytimg.com/vi/RIUmkByVWQw/maxresdefault.jpg', 'https://encrypted-tbn0.gstatic.com/images?q=tbn:ANd9GcSM-_eelPC02mrGdr37W930StmXSUnVJk3SKwPBMkKX7u8-C3-0R8s_wbthT-KuIcce4KE&usqp=CAU', 'https://encrypted-tbn0.gstatic.com/images?q=tbn:ANd9GcQdi26VwkUEhDgPMYr8xgLXkopsnvCad30YNTHGhMuEXqOzdZ2Ssm1av5_hPu8IBAaZxPk&usqp=CAU', 'https://p1.music.126.net/o9nrfyqo6NJc17R-Bsr4Qg==/109951163811231849.jpg', 'https://encrypted-tbn0.gstatic.com/images?q=tbn:ANd9GcTrqiKpapWajcoTtMBHsJDemzq-PkpmPW6Lzrq5UPY1_cUCFCoaiFUCYytmD6VbdU8RoWo&usqp=CAU', 'https://www.popdaily.com.tw/u/202101/b154745a-74be-4e98-b784-455cd504313f.jpg', 'https://encrypted-tbn0.gstatic.com/images?q=tbn:ANd9GcSwTSVugn_gilHGNNJEsQEM5208mB3lvpuSrQ2-q1h4KcoXOWbA2f88lR61Ga91m1GKIaM&usqp=CAU', 'https://static.popdaily.com.tw/u/202101/4e1bff2a-1471-405c-984b-a2137f0e1a35.jpg', 'https://encrypted-tbn0.gstatic.com/images?q=tbn:ANd9GcRj7IIisMMjBwH7rbHSR7jz5eSdH_5NQJIlGqa4Q-0aMBztdGU9P9w9s8GVqDAMFL3fftw&usqp=CAU', 'https://encrypted-tbn0.gstatic.com/images?q=tbn:ANd9GcTsGgDJvE4ZA4H37n-ukVYXsQbVWYy9XWqUWOybhwka13j8YTAMWwtDlkhVOKiOIxLScl8&usqp=CAU', 'https://pgw.udn.com.tw/gw/photo.php?u=https://uc.udn.com.tw/photo/2022/09/02/0/18507964.jpg&s=Y&x=0&y=38&sw=1280&sh=853&exp=3600', 'https://encrypted-tbn0.gstatic.com/images?q=tbn:ANd9GcTaTevuFx82xoLu7bydTREANfXDl1eHQUTnV-TerL8ifs8ndXulB4rOgCgtzFeFMfnGMiw&usqp=CAU', 'https://i.ytimg.com/vi/9sOSGdLJLv4/maxres2.jpg?sqp=-oaymwEoCIAKENAF8quKqQMcGADwAQH4Ac4FgAKACooCDAgAEAEYSCBlKCwwDw==&rs=AOn4CLBbyepEssTAa_0KkWsBw8RQ2dHSqA', 'https://encrypted-tbn0.gstatic.com/images?q=tbn:ANd9GcTLcHLaN5CO5O96kASblug0tB6h1bNoecK2jC1goHZJ5oac9tHkek-ArJZA8mUbfC1kjTQ&usqp=CAU', 'https://pgw.udn.com.tw/gw/photo.php?u=https://uc.udn.com.tw/photo/2022/02/15/0/16051205.jpg&s=Y&x=0&y=106&sw=1279&sh=853&exp=3600', 'https://encrypted-tbn0.gstatic.com/images?q=tbn:ANd9GcQ6pHccBw4MI0IbZVNhTxltzVeZ8R6fkqGrwgs6rtwVvpzaZ0C8dEZcEC2f4MCvBaCihaQ&usqp=CAU', 'https://encrypted-tbn0.gstatic.com/images?q=tbn:ANd9GcQ3MjEtuZ-FI1uRK8ATx4JPia3P6IZ9UzP2dgJd2jaxT9uvps1EMHDQS6LEKGP-_XgDSLw&usqp=CAU', 'https://i.ytimg.com/vi/bWZ75gMmXLw/maxresdefault.jpg', 'https://encrypted-tbn0.gstatic.com/images?q=tbn:ANd9GcQ9qdqes-GNdWuSWA45jgIMTKKvnUN2Rl9J7C7HkbZVTLMMw7-n6_5bEeM431olUUMpT1M&usqp=CAU', 'https://n.sinaimg.cn/sinacn10113/573/w1108h1065/20190117/9e51-hrseche1144341.jpg', 'https://encrypted-tbn0.gstatic.com/images?q=tbn:ANd9GcSz7qCTtsKswtZNGYm8mG80N8ZmCv-6aOKTWly6_lfiOO1N1F6sDwFmYmx3r_UYnR_6KH4&usqp=CAU', 'https://p4.itc.cn/images01/20220707/58ea71a538da4e4c8a6bd85a0abc6052.jpeg', 'https://encrypted-tbn0.gstatic.com/images?q=tbn:ANd9GcScB4tbxAWNOPzaRCvZ-hBrnC2Y3-pkpfx2AAQzNnw-ntQZmi5nxbQCW1FgivRrBVjNxDg&usqp=CAU', 'https://i.ytimg.com/vi/eDzcp2pcrr8/maxresdefault.jpg', 'https://encrypted-tbn0.gstatic.com/images?q=tbn:ANd9GcSfiQmKPb-N3H4jJwBeQOWUV9QNg_760qi9HHCZ8RmtoJkQQqc3aQklmWcl5qjdHFjc_fI&usqp=CAU', 'https://img.theepochtimes.com/assets/uploads/2022/08/17/Chunk-2-1200x1194.jpg', 'https://encrypted-tbn0.gstatic.com/images?q=tbn:ANd9GcQ2LQiLpLxQfpNpm_4c_BbzHT2WSb--wW2iaWKF4shvfwn8IifOzShKfJypq8GYTit0MIc&usqp=CAU', 'https://img.alicdn.com/imgextra/i4/1017365724/O1CN01WdcNyx1s9ddkltZ29_!!1017365724.jpg', 'https://encrypted-tbn0.gstatic.com/images?q=tbn:ANd9GcQymF_HZqSAI0-3915aitJKhY_cZtSN97g6i6nph9mAzaC18WGxxv_1-BV9-P60FRUufSg&usqp=CAU', 'https://picx.zhimg.com/v2-ff2cc88039ebc9275caa2a2f02892633_720w.gif?source=7e7ef6e2', 'https://encrypted-tbn0.gstatic.com/images?q=tbn:ANd9GcRPoeQgXo5vzfydAC4jhiJttLN5hEtWH9A8AzF2lbx30EJgIE5veyjXSvwaZGeqmKHvGYU&usqp=CAU', 'https://thumbs.dreamstime.com/z/%E5%B0%96%E5%8F%AB%E7%9A%84%E5%9C%9F%E6%8B%A8%E9%BC%A0-40950851.jpg', 'https://encrypted-tbn0.gstatic.com/images?q=tbn:ANd9GcQKuYG8nfgwrm517D_JJDIzr_1jeo3qCdvcGdfXtYfaiI3R7L2z5qvFSH5SfZpjKguK6as&usqp=CAU', 'https://s.yimg.com/ny/api/res/1.2/TKURPOXkrGe865l.uffPSg--/YXBwaWQ9aGlnaGxhbmRlcjt3PTEyMDA7aD04Njk-/https://media.zenfs.com/zh-Hant-TW/homerun/nownews.com/e9fb619efd5b0b9a247bbad817b5154a', 'https://encrypted-tbn0.gstatic.com/images?q=tbn:ANd9GcQevvGhI1B0tenKbvor-4-dyLt6z1qRJ_NPEpcdjlq98AmIn8m1beTz_MCIx8PY2978g3U&usqp=CAU', 'https://cdn2.ettoday.net/images/5002/5002738.jpg', 'https://encrypted-tbn0.gstatic.com/images?q=tbn:ANd9GcRCwhUyyWD34w4QzY9JQtUumsQCqFnt9nkdK3KGfNPuAJ2iqgiSM_I66f0s6zzg6HiCe2A&usqp=CAU', 'https://p8.itc.cn/images01/20220323/262a3ee444c84469bcdf1eec0fd1e021.jpeg', 'https://encrypted-tbn0.gstatic.com/images?q=tbn:ANd9GcQWXYP1YpLCqGxoiyM6vyws7wl-9PxFSwy-fP0tPHrP5BjzLFpBG6Zb7kPTNrboBfIiX6k&usqp=CAU', 'https://cf.shopee.tw/file/tw-11134207-7qul9-ljl9l4geivyla7', 'https://encrypted-tbn0.gstatic.com/images?q=tbn:ANd9GcSyepl4PYnjgy4MUtvun6wCziyyB4-cYxkAsjFjWhcgR0BuJZ11tokJliGFQsnM_bAettc&usqp=CAU', 'https://i.ytimg.com/vi/eInSVKgZxOU/maxresdefault.jpg', 'https://encrypted-tbn0.gstatic.com/images?q=tbn:ANd9GcQUpJYvq1gUoK1yutCTwxY7hra0bsH6C7Ws_w-vxokY0Gjk2AcdITy5LRAKsZ7Wi9gEo2c&usqp=CAU', 'https://www.tony60533.com/wp-content/uploads/2023/06/0-10.jpg', 'https://encrypted-tbn0.gstatic.com/images?q=tbn:ANd9GcT5W1RUt1Q2pcRLYrOvKbOORlTwxK33NfVZoB1RmlpoqoeApU5S_fgcl3gZMwEPnBESOqA&usqp=CAU', 'https://encrypted-tbn0.gstatic.com/images?q=tbn:ANd9GcTktlE3TEoYndeOtFt2EZSndR2GMbFjVXE2eC4MP0D9LY1uyVrzSp5ajMVUQQj6DFBDHyQ&usqp=CAU', 'https://upload.wikimedia.org/wikipedia/commons/d/d1/Cynomys_ludovicianus5.jpg', 'https://encrypted-tbn0.gstatic.com/images?q=tbn:ANd9GcQMfziwTZSJkmSyIgNuWezRFxz14oOoIygxnFQriHF6LNWRxMVs6UYnrZJQC_v0aXA9kgo&usqp=CAU', 'https://i.ytimg.com/vi/mJW7jM0659U/maxresdefault.jpg', 'https://encrypted-tbn0.gstatic.com/images?q=tbn:ANd9GcTThnQLipqk_am8PReZG9It1-EAaOAzaUwhxRsDQ1hxNc1m-4EO4-j8EZnu-yW3gntsGCQ&usqp=CAU', 'https://thumbs.dreamstime.com/z/%E5%9C%9F%E6%8B%A8%E9%BC%A0%E5%9D%90%E5%9C%A8%E8%8D%89%E5%92%8C%E5%B0%96%E5%8F%AB%E5%85%B3%E4%BA%8E%E5%8D%B1%E9%99%A9-87797907.jpg', 'https://encrypted-tbn0.gstatic.com/images?q=tbn:ANd9GcSXQ5Ivyk_dFYqQp2FQGz5FOm_xWHaXJ_gjdzXU2ZnS5RW-SWwjWQYE1DvIFnjtWCB_mF0&usqp=CAU', 'https://encrypted-tbn0.gstatic.com/images?q=tbn:ANd9GcRIL8yAgaMYEiUZ2BP35WYJ7LOEWVumcCX5HMU9-ZuaqwKqw9p9TGSBeb1DZoJ-8wD8dVg&usqp=CAU', 'https://p9.itc.cn/images01/20210616/ac8d64ada37a4716abc2e6a3a75d7ac5.jpeg', 'https://encrypted-tbn0.gstatic.com/images?q=tbn:ANd9GcTd_eZ7pnFAq93HhU-flWGi7S1J4PfJPO_IkjkqpjqAcFdTvL38UJrslLvUujsuhetMT4c&usqp=CAU', 'https://1.bp.blogspot.com/-yVzK7Gg0Jl0/X0Hl6tCoIOI/AAAAAAAAmOA/Hu-SXkkBcBMyT_RUT_w8zhxg25m2eJUDgCPcBGAsYHg/s1512/IMG_7665-001.JPG', 'https://encrypted-tbn0.gstatic.com/images?q=tbn:ANd9GcRGlC9jTe3C4TnIEt6CJFnqh4E0G2c7YG4gqDHAwJLEABr142CtIRE4yvrx0pUi7FsKoNw&usqp=CAU', 'https://encrypted-tbn0.gstatic.com/images?q=tbn:ANd9GcQJjywAu4nlBaGYQwwNJY3dhOy1NfwTqoOUmrTdoSDIvLc0C3YhiMVwiTlg1FCE-tuHDWY&usqp=CAU', 'https://cc.tvbs.com.tw/img/program/upload/2017/12/14/20171214132359-6e74a699.jpg', 'https://encrypted-tbn0.gstatic.com/images?q=tbn:ANd9GcRKWQ-nI8aGZsYXH9Ri6DwMLDpwyRZMoVLrAMnowWf2lhTMdOjacvLSG4N5twNNbP51O5k&usqp=CAU', 'https://pic.vjshi.com/2018-04-16/f728e90295e37196cfd1c2c8f1e006e9/online/puzzle.jpg?x-oss-process=style/watermark', 'https://encrypted-tbn0.gstatic.com/images?q=tbn:ANd9GcQH0cU51yChXsRFwefq_rZfk1b_gegF_ziTl2gZUaiz0O-aJtHBtByTCut8W7HxwQmzrQk&usqp=CAU', 'https://1.bp.blogspot.com/-Nh443PW_yR0/X0HlNKoZhLI/AAAAAAAAmN0/oCidne80tgISIZYWCjFQ8L4bK1qa5Q4eQCPcBGAsYHg/s3648/IMG_7659.JPG', 'https://encrypted-tbn0.gstatic.com/images?q=tbn:ANd9GcT3Cc_QJKduov9bgCQmStYr10ENr76mi2qgCVPLPXl8vWS0rV1wraYfzg0WJoyYYlz2CNY&usqp=CAU', 'https://encrypted-tbn0.gstatic.com/images?q=tbn:ANd9GcRLNAXvLUtE7E9cfmbV-zYesl9mbQPLSpQPQuxDeeV_kLvJtoOCkiZv1QlX3obqDpO5Qzc&usqp=CAU', 'https://i.ytimg.com/vi/EfT803nTFsE/maxresdefault.jpg', 'https://encrypted-tbn0.gstatic.com/images?q=tbn:ANd9GcSwo5xCLKafQvrYp67j-MQp-GtEPjp5WqPC4w1tgaZBcPmnq2CLaNr8tlZgHc_E9W3nPLw&usqp=CAU', 'https://encrypted-tbn0.gstatic.com/images?q=tbn:ANd9GcQFjgAkYC9CT-m7sQqbmiWecIWn6Hi_MEockoiTvxSkGPQUhKcSN16Lk-kD_lAq0UqmQ40&usqp=CAU', 'https://p6.itc.cn/images01/20210322/be69f55a0f3e4ed187a70f0451009c70.jpeg', 'https://encrypted-tbn0.gstatic.com/images?q=tbn:ANd9GcTvp9sJ_H3_GjmgXrNSKwc1BQUgIl9_Zn5fLLxx1QuQakWczGGlpQpv7gP4noSUbl9RIE4&usqp=CAU', 'https://pic1.zhimg.com/80/v2-36064c07957049284bb12c6c0260dbf4_1440w.webp', 'https://encrypted-tbn0.gstatic.com/images?q=tbn:ANd9GcT4eKOvbXADg0QKg4UzJI3ptBfaJ0zDn9PgNjXZqc4e8o9diOiYW52FXsJv7euDR77rDEs&usqp=CAU', 'https://www.niusnews.com/upload/imgs/default/202108__ChocoCOCO/0830/prairiediary_109530516_3659038210790429_6501646770091230472_n.jpg', 'https://encrypted-tbn0.gstatic.com/images?q=tbn:ANd9GcRuauldSJRVfBFiQ_W3rOlrARSu9q_CW8mRXXjc87bMOoXMukgY_f_P9Pc1A_zZ2-EC9EQ&usqp=CAU', 'https://img.theepochtimes.com/assets/uploads/2022/08/17/Chunk-4-1200x1013.jpg', 'https://encrypted-tbn0.gstatic.com/images?q=tbn:ANd9GcTZ5GKzVg9uZi1BKA6e34h8Uccn-VmxLn2OyawiIE1n4CotQVXNaijhfYjudHkTllU7sws&usqp=CAU', 'https://encrypted-tbn0.gstatic.com/images?q=tbn:ANd9GcTzZkZwbn-m8Ga-bCpPx7Ubx7bybfznjRzzCRWIv1ly8a-PCbdXXtatMf-BSV_1NAXoj0g&usqp=CAU', 'https://pic1.zhimg.com/80/v2-b4d53edf554982ce07af717698f48684_1440w.webp', 'https://encrypted-tbn0.gstatic.com/images?q=tbn:ANd9GcTUb53V8cnpzgHZWilIH4IWiBQUace_u-2incrP0T_bhJOlBu-LRi98wew89X9QKd6y_bA&usqp=CAU']\n"
     ]
    }
   ],
   "source": [
    "from selenium import webdriver\n",
    "from selenium.webdriver.chrome.service import Service\n",
    "from selenium.webdriver.common.by import By\n",
    "from selenium.webdriver.support.wait import WebDriverWait\n",
    "from selenium.webdriver.support import expected_conditions as ExpCon\n",
    "from selenium.webdriver.common.keys import Keys\n",
    "from selenium.webdriver.chrome.options import Options\n",
    "from selenium.webdriver.common.action_chains import ActionChains\n",
    "from bs4 import BeautifulSoup\n",
    "from time import sleep\n",
    "\n",
    "option=webdriver.ChromeOptions()\n",
    "prefs={\"profile.default_content_setting_values\":{\"notifications\":2}}\n",
    "option.add_experimental_option(\"prefs\",prefs)\n",
    "service=Service(executable_path = \"C:\\\\Users\\\\User\\\\chromedriver.exe\")\n",
    "driver=webdriver.Chrome(service=service,options=option)\n",
    "driver.get(\"https://www.google.com/\")\n",
    "\n",
    "search=WebDriverWait(driver,10).until(ExpCon.element_to_be_clickable((By.CSS_SELECTOR,\"textarea[name='q']\")))\n",
    "search.send_keys(\"土撥鼠大叫\")\n",
    "search.send_keys(Keys.ENTER)\n",
    "pictureclick=WebDriverWait(driver,10).until(ExpCon.element_to_be_clickable((By.XPATH,(\"//*[text()='圖片']\"))))\n",
    "pictureclick.click()\n",
    "tools=WebDriverWait(driver,10).until(ExpCon.element_to_be_clickable((By.CSS_SELECTOR,\"div[jsname='I4bIT']\")))\n",
    "tools.click()\n",
    "choosesize=WebDriverWait(driver,10).until(ExpCon.element_to_be_clickable((By.CSS_SELECTOR,\"svg[jsname='ptzFX']\")))\n",
    "choosesize.click()\n",
    "setbig=WebDriverWait(driver,10).until(ExpCon.element_to_be_clickable((By.CSS_SELECTOR,\"a[aria-label='大']\")))\n",
    "setbig.click()\n",
    "\n",
    "anchor=driver.find_elements(By.CLASS_NAME,(\"wXeWr\"))\n",
    "piclist=[]\n",
    "for img in anchor:\n",
    "    try:\n",
    "        img.click()\n",
    "        img.get_attribute(\"href\")\n",
    "        piclist.append(img.get_attribute(\"href\"))\n",
    "    except:\n",
    "        pass\n",
    "\n",
    "srclist=[]\n",
    "for i in piclist:\n",
    "    driver.get(i)\n",
    "    for j in driver.find_elements(By.CLASS_NAME,(\"r48jcc\")):\n",
    "        srclist.append(j.get_attribute(\"src\"))\n",
    "\n",
    "print(srclist)"
   ]
  },
  {
   "cell_type": "code",
   "execution_count": 3,
   "id": "a3f61327",
   "metadata": {
    "scrolled": true
   },
   "outputs": [
    {
     "ename": "FileExistsError",
     "evalue": "[WinError 183] 當檔案已存在時，無法建立該檔案。: 'C:\\\\Users\\\\User\\\\土撥鼠大叫'",
     "output_type": "error",
     "traceback": [
      "\u001b[1;31m---------------------------------------------------------------------------\u001b[0m",
      "\u001b[1;31mFileExistsError\u001b[0m                           Traceback (most recent call last)",
      "Cell \u001b[1;32mIn[3], line 4\u001b[0m\n\u001b[0;32m      2\u001b[0m path\u001b[38;5;241m=\u001b[39mos\u001b[38;5;241m.\u001b[39mgetcwd()\n\u001b[0;32m      3\u001b[0m path\u001b[38;5;241m=\u001b[39mos\u001b[38;5;241m.\u001b[39mpath\u001b[38;5;241m.\u001b[39mjoin(path,\u001b[38;5;124m\"\u001b[39m\u001b[38;5;124m土撥鼠大叫\u001b[39m\u001b[38;5;124m\"\u001b[39m)\n\u001b[1;32m----> 4\u001b[0m os\u001b[38;5;241m.\u001b[39mmkdir(path)\n\u001b[0;32m      5\u001b[0m \u001b[38;5;28mprint\u001b[39m(path)\n",
      "\u001b[1;31mFileExistsError\u001b[0m: [WinError 183] 當檔案已存在時，無法建立該檔案。: 'C:\\\\Users\\\\User\\\\土撥鼠大叫'"
     ]
    }
   ],
   "source": [
    "import os\n",
    "path=os.getcwd()\n",
    "path=os.path.join(path,\"土撥鼠大叫\")\n",
    "os.mkdir(path)\n",
    "print(path)"
   ]
  },
  {
   "cell_type": "code",
   "execution_count": 5,
   "id": "e4a93680",
   "metadata": {},
   "outputs": [
    {
     "name": "stdout",
     "output_type": "stream",
     "text": [
      "C:\\Users\\User\\土撥鼠大叫\\土撥鼠大叫1.jpg\n",
      "C:\\Users\\User\\土撥鼠大叫\\土撥鼠大叫2.jpg\n",
      "C:\\Users\\User\\土撥鼠大叫\\土撥鼠大叫3.jpg\n",
      "C:\\Users\\User\\土撥鼠大叫\\土撥鼠大叫4.jpg\n",
      "C:\\Users\\User\\土撥鼠大叫\\土撥鼠大叫5.jpg\n",
      "C:\\Users\\User\\土撥鼠大叫\\土撥鼠大叫6.jpg\n",
      "C:\\Users\\User\\土撥鼠大叫\\土撥鼠大叫7.jpg\n",
      "C:\\Users\\User\\土撥鼠大叫\\土撥鼠大叫8.jpg\n",
      "C:\\Users\\User\\土撥鼠大叫\\土撥鼠大叫9.jpg\n",
      "C:\\Users\\User\\土撥鼠大叫\\土撥鼠大叫10.jpg\n",
      "https://www.popdaily.com.tw/u/202101/b154745a-74be-4e98-b784-455cd504313f.jpg\n",
      "C:\\Users\\User\\土撥鼠大叫\\土撥鼠大叫12.jpg\n",
      "https://static.popdaily.com.tw/u/202101/4e1bff2a-1471-405c-984b-a2137f0e1a35.jpg\n",
      "C:\\Users\\User\\土撥鼠大叫\\土撥鼠大叫14.jpg\n",
      "C:\\Users\\User\\土撥鼠大叫\\土撥鼠大叫15.jpg\n",
      "C:\\Users\\User\\土撥鼠大叫\\土撥鼠大叫16.jpg\n",
      "C:\\Users\\User\\土撥鼠大叫\\土撥鼠大叫17.jpg\n",
      "C:\\Users\\User\\土撥鼠大叫\\土撥鼠大叫18.jpg\n",
      "C:\\Users\\User\\土撥鼠大叫\\土撥鼠大叫19.jpg\n",
      "C:\\Users\\User\\土撥鼠大叫\\土撥鼠大叫20.jpg\n",
      "C:\\Users\\User\\土撥鼠大叫\\土撥鼠大叫21.jpg\n",
      "C:\\Users\\User\\土撥鼠大叫\\土撥鼠大叫22.jpg\n",
      "C:\\Users\\User\\土撥鼠大叫\\土撥鼠大叫23.jpg\n",
      "C:\\Users\\User\\土撥鼠大叫\\土撥鼠大叫24.jpg\n",
      "C:\\Users\\User\\土撥鼠大叫\\土撥鼠大叫25.jpg\n",
      "C:\\Users\\User\\土撥鼠大叫\\土撥鼠大叫26.jpg\n",
      "C:\\Users\\User\\土撥鼠大叫\\土撥鼠大叫27.jpg\n",
      "C:\\Users\\User\\土撥鼠大叫\\土撥鼠大叫28.jpg\n",
      "C:\\Users\\User\\土撥鼠大叫\\土撥鼠大叫29.jpg\n",
      "C:\\Users\\User\\土撥鼠大叫\\土撥鼠大叫30.jpg\n",
      "C:\\Users\\User\\土撥鼠大叫\\土撥鼠大叫31.jpg\n",
      "C:\\Users\\User\\土撥鼠大叫\\土撥鼠大叫32.jpg\n",
      "https://img.alicdn.com/imgextra/i4/1017365724/O1CN01WdcNyx1s9ddkltZ29_!!1017365724.jpg\n",
      "C:\\Users\\User\\土撥鼠大叫\\土撥鼠大叫34.jpg\n",
      "C:\\Users\\User\\土撥鼠大叫\\土撥鼠大叫35.jpg\n",
      "C:\\Users\\User\\土撥鼠大叫\\土撥鼠大叫36.jpg\n",
      "C:\\Users\\User\\土撥鼠大叫\\土撥鼠大叫37.jpg\n",
      "C:\\Users\\User\\土撥鼠大叫\\土撥鼠大叫38.jpg\n",
      "C:\\Users\\User\\土撥鼠大叫\\土撥鼠大叫39.jpg\n",
      "C:\\Users\\User\\土撥鼠大叫\\土撥鼠大叫40.jpg\n",
      "https://cdn2.ettoday.net/images/5002/5002738.jpg\n",
      "C:\\Users\\User\\土撥鼠大叫\\土撥鼠大叫42.jpg\n",
      "C:\\Users\\User\\土撥鼠大叫\\土撥鼠大叫43.jpg\n",
      "C:\\Users\\User\\土撥鼠大叫\\土撥鼠大叫44.jpg\n",
      "C:\\Users\\User\\土撥鼠大叫\\土撥鼠大叫45.jpg\n",
      "C:\\Users\\User\\土撥鼠大叫\\土撥鼠大叫46.jpg\n",
      "C:\\Users\\User\\土撥鼠大叫\\土撥鼠大叫47.jpg\n",
      "C:\\Users\\User\\土撥鼠大叫\\土撥鼠大叫48.jpg\n",
      "https://www.tony60533.com/wp-content/uploads/2023/06/0-10.jpg\n",
      "C:\\Users\\User\\土撥鼠大叫\\土撥鼠大叫50.jpg\n",
      "C:\\Users\\User\\土撥鼠大叫\\土撥鼠大叫51.jpg\n",
      "C:\\Users\\User\\土撥鼠大叫\\土撥鼠大叫52.jpg\n",
      "C:\\Users\\User\\土撥鼠大叫\\土撥鼠大叫53.jpg\n",
      "C:\\Users\\User\\土撥鼠大叫\\土撥鼠大叫54.jpg\n",
      "C:\\Users\\User\\土撥鼠大叫\\土撥鼠大叫55.jpg\n",
      "C:\\Users\\User\\土撥鼠大叫\\土撥鼠大叫56.jpg\n",
      "C:\\Users\\User\\土撥鼠大叫\\土撥鼠大叫57.jpg\n",
      "C:\\Users\\User\\土撥鼠大叫\\土撥鼠大叫58.jpg\n",
      "C:\\Users\\User\\土撥鼠大叫\\土撥鼠大叫59.jpg\n",
      "C:\\Users\\User\\土撥鼠大叫\\土撥鼠大叫60.jpg\n",
      "C:\\Users\\User\\土撥鼠大叫\\土撥鼠大叫61.jpg\n",
      "C:\\Users\\User\\土撥鼠大叫\\土撥鼠大叫62.jpg\n",
      "C:\\Users\\User\\土撥鼠大叫\\土撥鼠大叫63.jpg\n",
      "C:\\Users\\User\\土撥鼠大叫\\土撥鼠大叫64.jpg\n",
      "C:\\Users\\User\\土撥鼠大叫\\土撥鼠大叫65.jpg\n",
      "C:\\Users\\User\\土撥鼠大叫\\土撥鼠大叫66.jpg\n",
      "C:\\Users\\User\\土撥鼠大叫\\土撥鼠大叫67.jpg\n",
      "C:\\Users\\User\\土撥鼠大叫\\土撥鼠大叫68.jpg\n",
      "C:\\Users\\User\\土撥鼠大叫\\土撥鼠大叫69.jpg\n",
      "C:\\Users\\User\\土撥鼠大叫\\土撥鼠大叫70.jpg\n",
      "C:\\Users\\User\\土撥鼠大叫\\土撥鼠大叫71.jpg\n",
      "C:\\Users\\User\\土撥鼠大叫\\土撥鼠大叫72.jpg\n",
      "C:\\Users\\User\\土撥鼠大叫\\土撥鼠大叫73.jpg\n",
      "C:\\Users\\User\\土撥鼠大叫\\土撥鼠大叫74.jpg\n",
      "C:\\Users\\User\\土撥鼠大叫\\土撥鼠大叫75.jpg\n",
      "C:\\Users\\User\\土撥鼠大叫\\土撥鼠大叫76.jpg\n",
      "C:\\Users\\User\\土撥鼠大叫\\土撥鼠大叫77.jpg\n",
      "https://www.niusnews.com/upload/imgs/default/202108__ChocoCOCO/0830/prairiediary_109530516_3659038210790429_6501646770091230472_n.jpg\n",
      "C:\\Users\\User\\土撥鼠大叫\\土撥鼠大叫79.jpg\n",
      "C:\\Users\\User\\土撥鼠大叫\\土撥鼠大叫80.jpg\n",
      "C:\\Users\\User\\土撥鼠大叫\\土撥鼠大叫81.jpg\n",
      "C:\\Users\\User\\土撥鼠大叫\\土撥鼠大叫82.jpg\n",
      "C:\\Users\\User\\土撥鼠大叫\\土撥鼠大叫83.jpg\n",
      "C:\\Users\\User\\土撥鼠大叫\\土撥鼠大叫84.jpg\n"
     ]
    }
   ],
   "source": [
    "import wget\n",
    "n=0\n",
    "for img in srclist:\n",
    "    n+=1\n",
    "    try:\n",
    "        file=os.path.join(path,\"土撥鼠大叫%d.jpg\"%(n))\n",
    "        if os.path.exists(file):\n",
    "            os.remove(file)\n",
    "        wget.download(img,file)\n",
    "        print(file)\n",
    "    except:\n",
    "        print(img)"
   ]
  },
  {
   "cell_type": "code",
   "execution_count": 6,
   "id": "e8517685",
   "metadata": {},
   "outputs": [
    {
     "name": "stdout",
     "output_type": "stream",
     "text": [
      "{'bff_meta': None, 'error': 0, 'error_msg': None, 'data': {'items': [{'itemid': 14516237975, 'shopid': 6080099, 'modelids': [183396611680, 114392776628, 122902217849, 114392776635, 114392776632, 114392776645, 114392776634, 114392776626, 114392776651, 114392776652, 183396611681, 183396611682, 114392776646, 183396611679, 122902217856, 122902217854, 122902217850, 114392776653, 114392776654, 114392776631, 183396611683, 114392776640, 114392776639, 122902217848, 114392776641, 122902217853, 114392776627, 122902217851, 114392776629, 114392776644, 114392776650, 114392776630, 114392776633, 122902217855, 122902217859], 'promotionid': 156847579533319, 'brand_sale_brand_custom_logo': None, 'image': '1337bcda70b14a6e795ecaeb935b3960', 'raw_discount': 84, 'price_before_discount': 23900000, 'flash_sale_type': 0, 'promo_overlay_image': 'tw-50009109-c118b2bfde73d7d54deacf88c77844b7', 'promo_images': ['37cb6f766bc8a7bdc05a7506ed355726'], 'price': None, 'start_time': 1691755200, 'end_time': 1691769600, 'discount': '84%', 'flash_catid': 12, 'reference_item_id': '', 'is_shop_official': False, 'flash_sale_stock': None, 'name': '一體式保護殼 玻璃保護貼 手錶殼 適用 Apple Watch 保護殼 8 7 SE 6 5 4 45 44 41 40', 'item_type': 0, 'is_shop_preferred': True, 'promo_name': '一體式手錶殼', 'stock': 367, 'hidden_price_display': '??', 'voucher': {'min_spend': 39900000, 'discount_percentage': 0, 'coin_percentage': None, 'discount_value': 2000000, 'voucher_code': 'EASO20WN', 'reward_type': 0, 'promotionid': 644493423656960}, 'cat_label': 0, 'extra_discount_info': None, 'reminder_count': 3, 'is_mart': False, 'cats': [100013, 100075, 100288], 'is_shopee_food': None, 'shopee_food_log_id': None, 'shopee_food_trace': None, 'shopee_food_discount_id': None, 'item_rating': {'rating_star': 4.928649, 'rating_counts': [2775, 5, 4, 28, 110, 2628]}, 'shopee_food_discount_id_str': None, 'historical_sold': None, 'promo_overlay_image_desc': ''}, {'itemid': 4246870099, 'shopid': 126619837, 'modelids': [213622721108, 156858253713, 213622721122, 213622721086, 213622721113, 213622721111, 213622721102, 116797121859, 156858253711, 213622721107, 213622721091, 213622721121, 213622721096, 213622721118, 213622721097, 165889366058, 213622721114, 213622721105, 163598118273, 213622721115, 165889366053, 213622721089, 116797121860, 163598118272, 60625378495, 213622721104, 156858253710, 60625378496, 116797121861, 156858253716, 60625378492, 165889366057, 165889366054, 213622721103, 116797121858, 213622721120, 156858253712, 156858253715, 213622721101, 213622721117, 165889366052, 165889366055, 213622721092, 60625378498, 213622721116, 165889366056, 213622721090, 156858253714, 213622721106], 'promotionid': 156847579533319, 'brand_sale_brand_custom_logo': None, 'image': 'tw-11134211-7quky-lhhlpme4p58u5d', 'raw_discount': 77, 'price_before_discount': 55000000, 'flash_sale_type': 0, 'promo_overlay_image': 'tw-50009109-c6495ca9a1baca489196eb5dff8d4923', 'promo_images': ['tw-50009109-43621537e5d865a2979ebae42eb8b111'], 'price': None, 'start_time': 1691755200, 'end_time': 1691769600, 'discount': '77%', 'flash_catid': 7, 'reference_item_id': '', 'is_shop_official': False, 'flash_sale_stock': None, 'name': '現貨 不鏽鋼金屬錶帶 蘋果手錶錶帶 Apple Watch 8 錶帶 49mm 8 7 5 4 SE 44mm 45mm', 'item_type': 0, 'is_shop_preferred': True, 'promo_name': 'Apple Watch 單排鏈式不鏽鋼錶帶', 'stock': 1470, 'hidden_price_display': '???', 'voucher': {'min_spend': 4900000, 'discount_percentage': 10, 'coin_percentage': None, 'discount_value': 0, 'voucher_code': 'SVC-678699289149552', 'reward_type': 0, 'promotionid': 678699289149552}, 'cat_label': 0, 'extra_discount_info': None, 'reminder_count': 5, 'is_mart': False, 'cats': [100013, 100075, 100288], 'is_shopee_food': None, 'shopee_food_log_id': None, 'shopee_food_trace': None, 'shopee_food_discount_id': None, 'item_rating': {'rating_star': 4.86833, 'rating_counts': [13872, 101, 60, 279, 698, 12734]}, 'shopee_food_discount_id_str': None, 'historical_sold': None, 'promo_overlay_image_desc': ''}, {'itemid': 1058917442, 'shopid': 37137599, 'modelids': [1337134322, 1973240568], 'promotionid': 156847579533319, 'brand_sale_brand_custom_logo': None, 'image': 'tw-11134207-23020-5dt3qsghannvd3', 'raw_discount': 49, 'price_before_discount': 35000000, 'flash_sale_type': 0, 'promo_overlay_image': 'tw-50009109-c118b2bfde73d7d54deacf88c77844b7', 'promo_images': ['62a914af8ebec9c7b2c8941e04b84bdb'], 'price': None, 'start_time': 1691755200, 'end_time': 1691769600, 'discount': '49%', 'flash_catid': 2, 'reference_item_id': '', 'is_shop_official': True, 'flash_sale_stock': None, 'name': '韓國Enaak 小雞麵 30包/盒 (原味/香辣/綜合) 小雞點心麵 超人氣唰嘴小零嘴 現貨 蝦皮直送', 'item_type': 0, 'is_shop_preferred': False, 'promo_name': 'Enaak 小雞麵', 'stock': 100, 'hidden_price_display': '???', 'voucher': {'min_spend': 19700000, 'discount_percentage': 0, 'coin_percentage': None, 'discount_value': 19600000, 'voucher_code': '24HLFBR37', 'reward_type': 0, 'promotionid': 673549984071680}, 'cat_label': 0, 'extra_discount_info': None, 'reminder_count': 12, 'is_mart': True, 'cats': [100629, 100646, 100793], 'is_shopee_food': None, 'shopee_food_log_id': None, 'shopee_food_trace': None, 'shopee_food_discount_id': None, 'item_rating': {'rating_star': 4.963565, 'rating_counts': [35052, 60, 25, 113, 742, 34112]}, 'shopee_food_discount_id_str': None, 'historical_sold': None, 'promo_overlay_image_desc': ''}, {'itemid': 15082693079, 'shopid': 611625805, 'modelids': [106624837343, 106624837339, 106624837344, 106624837336, 106624837342, 106624837338, 106624837337, 106624837341, 106677884098, 106624837340], 'promotionid': 156847579533319, 'brand_sale_brand_custom_logo': None, 'image': 'sg-11134201-22100-4b3auft1fbjv7c', 'raw_discount': 60, 'price_before_discount': 500000, 'flash_sale_type': 0, 'promo_overlay_image': 'tw-50009109-98f6fbe29c1aabb9217df14df47e1ede', 'promo_images': ['tw-50009109-2824b58206b05ba206febd487a55445a'], 'price': None, 'start_time': 1691755200, 'end_time': 1691769600, 'discount': '60%', 'flash_catid': 11, 'reference_item_id': '', 'is_shop_official': False, 'flash_sale_stock': None, 'name': '🔥新款KF94 下殺1元 🔥在台現貨出貨 韓國明星同款 單片獨立包裝蝶形9D立體 莫蘭迪色系 韓國口罩 防飛沫 防花妝', 'item_type': 0, 'is_shop_preferred': True, 'promo_name': '9D 蝶型口罩', 'stock': 36000, 'hidden_price_display': '?', 'voucher': {'min_spend': 7500000, 'discount_percentage': 25, 'coin_percentage': None, 'discount_value': 0, 'voucher_code': 'TUOM55555', 'reward_type': 0, 'promotionid': 622687227674624}, 'cat_label': 0, 'extra_discount_info': None, 'reminder_count': 18, 'is_mart': False, 'cats': [100009, 100034, 100165], 'is_shopee_food': None, 'shopee_food_log_id': None, 'shopee_food_trace': None, 'shopee_food_discount_id': None, 'item_rating': {'rating_star': 4.930452, 'rating_counts': [144644, 257, 248, 1260, 5767, 137112]}, 'shopee_food_discount_id_str': None, 'historical_sold': None, 'promo_overlay_image_desc': ''}, {'itemid': 7834934500, 'shopid': 2576483, 'modelids': [18351757831, 18351757816, 60914953984, 60914953985, 50915044599, 18351757833, 60914953986, 62394840240, 18351757825, 70441562616, 18351757812, 50915044602, 70441562619, 50915044605, 18351757829, 18351757810, 21824294515, 50915044600, 70914884946, 18351757821, 18351757830, 18351757827, 50915044606, 18351757834, 50915044604, 18351757811, 18351757813, 60914953983, 70441562620, 36927048021, 70441562613, 70441562615, 18351757817, 70914884947, 18351757823, 70441562614, 18351757822, 18351757824, 18351757820, 18351757832, 70441562612, 18351757828, 70441562618, 18351757815, 18351757818, 18351757814, 50915044601, 60914953982, 18351757826, 18351757819], 'promotionid': 156847579533319, 'brand_sale_brand_custom_logo': None, 'image': 'e5c5e2b7945028d4584d5b1918a33567', 'raw_discount': 33, 'price_before_discount': 3900000, 'flash_sale_type': 0, 'promo_overlay_image': 'tw-50009109-c6495ca9a1baca489196eb5dff8d4923', 'promo_images': ['tw-50009109-d083fbe6b50b1a7965c63ce5c8fd622c'], 'price': None, 'start_time': 1691755200, 'end_time': 1691769600, 'discount': '33%', 'flash_catid': 9, 'reference_item_id': '', 'is_shop_official': False, 'flash_sale_stock': None, 'name': '買十送二正韓❤️賣場1 ❤️彈力髮圈 超彈力 不咬髮髮圈 韓國髮圈 彈力馬尾髮圈', 'item_type': 0, 'is_shop_preferred': False, 'promo_name': '彈力髮圈', 'stock': 498, 'hidden_price_display': '??', 'voucher': {'min_spend': None, 'discount_percentage': None, 'coin_percentage': None, 'discount_value': None, 'voucher_code': None, 'reward_type': None, 'promotionid': None}, 'cat_label': 0, 'extra_discount_info': None, 'reminder_count': 9, 'is_mart': False, 'cats': [100009, 100025, 100146], 'is_shopee_food': None, 'shopee_food_log_id': None, 'shopee_food_trace': None, 'shopee_food_discount_id': None, 'item_rating': {'rating_star': 4.922619, 'rating_counts': [2520, 19, 9, 17, 58, 2417]}, 'shopee_food_discount_id_str': None, 'historical_sold': None, 'promo_overlay_image_desc': ''}, {'itemid': 7249106007, 'shopid': 298057162, 'modelids': [192556180174, 192556180173], 'promotionid': 156847579533319, 'brand_sale_brand_custom_logo': None, 'image': 'tw-11134207-7qukz-liv0iv8qo0c4b1', 'raw_discount': 50, 'price_before_discount': 35900000, 'flash_sale_type': 0, 'promo_overlay_image': 'tw-50009109-98f6fbe29c1aabb9217df14df47e1ede', 'promo_images': ['tw-50009109-e3eb4b294635a47e9e9222ae15e54a96'], 'price': None, 'start_time': 1691755200, 'end_time': 1691769600, 'discount': '50%', 'flash_catid': 10, 'reference_item_id': '', 'is_shop_official': True, 'flash_sale_stock': None, 'name': 'Schick 舒適 舒芙 仕女除毛刀片 3入 敏感肌/乾燥肌/中性肌 【佳瑪】夏季除刀 除毛護膚', 'item_type': 0, 'is_shop_preferred': False, 'promo_name': 'Schick舒適 舒芙仕女除毛刀片 (3入)', 'stock': 200, 'hidden_price_display': '???', 'voucher': {'min_spend': 50000000, 'discount_percentage': 0, 'coin_percentage': None, 'discount_value': 5000000, 'voucher_code': 'JMAR50050', 'reward_type': 0, 'promotionid': 627140404117504}, 'cat_label': 0, 'extra_discount_info': None, 'reminder_count': 14, 'is_mart': False, 'cats': [100630, 100663, 100888], 'is_shopee_food': None, 'shopee_food_log_id': None, 'shopee_food_trace': None, 'shopee_food_discount_id': None, 'item_rating': {'rating_star': 4.978166, 'rating_counts': [2061, 3, 0, 3, 27, 2028]}, 'shopee_food_discount_id_str': None, 'historical_sold': None, 'promo_overlay_image_desc': ''}, {'itemid': 196438005, 'shopid': 16927479, 'modelids': [2564187028], 'promotionid': 156847579533319, 'brand_sale_brand_custom_logo': '4ad1217876e260d8d5b5f5ef8d1cffbd', 'image': 'eddf3b019ab29c832724e43d395d332f', 'raw_discount': 20, 'price_before_discount': 25000000, 'flash_sale_type': 0, 'promo_overlay_image': 'tw-50009109-98f6fbe29c1aabb9217df14df47e1ede', 'promo_images': ['tw-11134601-7qul3-ljqekja7nvwt06'], 'price': None, 'start_time': 1691755200, 'end_time': 1691769600, 'discount': '20%', 'flash_catid': 10, 'reference_item_id': '', 'is_shop_official': True, 'flash_sale_stock': None, 'name': '【快車肉乾】A28月見炙燒豬肉乾 - 全新升級分享包〔無添加防腐劑〕', 'item_type': 0, 'is_shop_preferred': False, 'promo_name': '快車肉乾 月見炙燒豬肉乾', 'stock': 100, 'hidden_price_display': '???', 'voucher': {'min_spend': None, 'discount_percentage': None, 'coin_percentage': None, 'discount_value': None, 'voucher_code': None, 'reward_type': None, 'promotionid': None}, 'cat_label': 0, 'extra_discount_info': None, 'reminder_count': 0, 'is_mart': False, 'cats': [100629, 100646, 100795, 101574], 'is_shopee_food': None, 'shopee_food_log_id': None, 'shopee_food_trace': None, 'shopee_food_discount_id': None, 'item_rating': {'rating_star': 4.943861, 'rating_counts': [24963, 43, 29, 180, 782, 23929]}, 'shopee_food_discount_id_str': None, 'historical_sold': None, 'promo_overlay_image_desc': ''}, {'itemid': 18217073592, 'shopid': 14210359, 'modelids': [200934327450, 200934327440, 200934327460, 200934327453, 200934327449, 200934327469, 200934327464, 200934327458, 200934327445, 200934327452, 200934327439, 200934327447, 200934327456, 200934327443, 200934327448, 200934327457, 200934327463, 200934327473, 200934327454, 200934327478, 200934327468, 200934327442, 200934327446, 200934327470, 200934327465, 200934327451, 200934327461, 200934327474, 200934327462, 200934327477, 200934327459, 200934327475, 200934327471, 200934327441, 200934327466, 200934327476, 200934327455, 200934327472], 'promotionid': 156847579533319, 'brand_sale_brand_custom_logo': None, 'image': '1c78554ba406e2ce7a87cb17f6dc1e7e', 'raw_discount': 61, 'price_before_discount': 48000000, 'flash_sale_type': 0, 'promo_overlay_image': 'tw-50009109-c118b2bfde73d7d54deacf88c77844b7', 'promo_images': ['tw-50009109-3a669e98cfad10b135ff331747fbcdd8'], 'price': None, 'start_time': 1691755200, 'end_time': 1691769600, 'discount': '61%', 'flash_catid': 9, 'reference_item_id': '', 'is_shop_official': True, 'flash_sale_stock': None, 'name': 'QIAO 韓國新貨 19色 升級細絨棉 高磅 硬挺 落肩 素面 五分袖 不會透 落肩寬T 素T 短袖 短T 落肩素T', 'item_type': 0, 'is_shop_preferred': False, 'promo_name': 'QIAO 細絨棉素T', 'stock': 380, 'hidden_price_display': '???', 'voucher': {'min_spend': 79900000, 'discount_percentage': 0, 'coin_percentage': None, 'discount_value': 2900000, 'voucher_code': '0307799K8', 'reward_type': 0, 'promotionid': 675799682596864}, 'cat_label': 0, 'extra_discount_info': None, 'reminder_count': 14, 'is_mart': False, 'cats': [100011, 100054, 100244], 'is_shopee_food': None, 'shopee_food_log_id': None, 'shopee_food_trace': None, 'shopee_food_discount_id': None, 'item_rating': {'rating_star': 4.938976, 'rating_counts': [10881, 15, 14, 88, 386, 10378]}, 'shopee_food_discount_id_str': None, 'historical_sold': None, 'promo_overlay_image_desc': ''}, {'itemid': 19353778844, 'shopid': 375486779, 'modelids': [216857518870, 216857518867, 216857518871, 216857518868, 107557209267, 107557209269, 216857518866, 165478815775, 165478815776, 165478815774, 216857518869, 216857518865, 107557209268], 'promotionid': 156847579533319, 'brand_sale_brand_custom_logo': None, 'image': 'tw-11134207-7qukw-ljf25gaqb8ea89', 'raw_discount': 30, 'price_before_discount': 39500000, 'flash_sale_type': 0, 'promo_overlay_image': 'tw-50009109-c6495ca9a1baca489196eb5dff8d4923', 'promo_images': ['tw-50009109-0eff9ca2d2b460d9855c0c0c7b9f2540'], 'price': None, 'start_time': 1691755200, 'end_time': 1691769600, 'discount': '30%', 'flash_catid': 10, 'reference_item_id': '', 'is_shop_official': True, 'flash_sale_stock': None, 'name': '【Pocky】九天玄女指定款 _ Pocky百奇 5盒組 (草莓粒粒、杏仁粒粒、極細、濃厚抹茶、椰子可可、岩鹽香草)', 'item_type': 0, 'is_shop_preferred': False, 'promo_name': 'Pocky百奇 餅乾棒系列 (5入/盒)', 'stock': 130, 'hidden_price_display': '???', 'voucher': {'min_spend': 52900000, 'discount_percentage': 0, 'coin_percentage': None, 'discount_value': 5500000, 'voucher_code': 'GLIC08529', 'reward_type': 0, 'promotionid': 672803356016640}, 'cat_label': 0, 'extra_discount_info': None, 'reminder_count': 8, 'is_mart': False, 'cats': [100629, 100646, 100786], 'is_shopee_food': None, 'shopee_food_log_id': None, 'shopee_food_trace': None, 'shopee_food_discount_id': None, 'item_rating': {'rating_star': 4.935233, 'rating_counts': [386, 2, 1, 1, 12, 370]}, 'shopee_food_discount_id_str': None, 'historical_sold': None, 'promo_overlay_image_desc': ''}, {'itemid': 18937619016, 'shopid': 55659334, 'modelids': [221545871409, 204209313997, 204209313998], 'promotionid': 156847579533319, 'brand_sale_brand_custom_logo': None, 'image': '36676f4c51a93fdd0ec865dd7590c07f', 'raw_discount': 80, 'price_before_discount': 1500000, 'flash_sale_type': 0, 'promo_overlay_image': 'tw-50009109-c118b2bfde73d7d54deacf88c77844b7', 'promo_images': ['tw-50009109-d734b5a31b4a21fd22c7a179dbbb2219'], 'price': None, 'start_time': 1691755200, 'end_time': 1691769600, 'discount': '80%', 'flash_catid': 7, 'reference_item_id': '', 'is_shop_official': False, 'flash_sale_stock': None, 'name': '純水濕紙巾 80抽 咪咪購物 擦臉巾 洗臉巾 擦手巾 溼紙巾 有蓋濕紙巾 小包迷你濕紙巾 隨身濕紙巾 濕巾 紙巾 濕紙巾', 'item_type': 0, 'is_shop_preferred': True, 'promo_name': '濕紙巾', 'stock': 5000, 'hidden_price_display': '?', 'voucher': {'min_spend': 5000000, 'discount_percentage': 0, 'coin_percentage': None, 'discount_value': 1000000, 'voucher_code': 'TAIWNEW08', 'reward_type': 0, 'promotionid': 682798113488896}, 'cat_label': 0, 'extra_discount_info': None, 'reminder_count': 26, 'is_mart': False, 'cats': [100632, 100678, 100975], 'is_shopee_food': None, 'shopee_food_log_id': None, 'shopee_food_trace': None, 'shopee_food_discount_id': None, 'item_rating': {'rating_star': 4.959832, 'rating_counts': [24318, 16, 22, 99, 647, 23534]}, 'shopee_food_discount_id_str': None, 'historical_sold': None, 'promo_overlay_image_desc': ''}, {'itemid': 19161601768, 'shopid': 611625805, 'modelids': [127425003532, 146230261858, 146230261860, 146230261857, 146230261859, 146230261856], 'promotionid': 156847579533319, 'brand_sale_brand_custom_logo': None, 'image': 'sg-11134201-22110-uqtomacifqjv50', 'raw_discount': 66, 'price_before_discount': 20000000, 'flash_sale_type': 0, 'promo_overlay_image': 'tw-50009109-98f6fbe29c1aabb9217df14df47e1ede', 'promo_images': ['tw-50009109-70c31c2e66e54ebca50b89d6f267de3c'], 'price': None, 'start_time': 1691755200, 'end_time': 1691769600, 'discount': '66%', 'flash_catid': 11, 'reference_item_id': '', 'is_shop_official': False, 'flash_sale_stock': None, 'name': '🔥莫蘭迪色系50入盒裝下殺79🔥台灣醫療 莫蘭迪色系 雙鋼印 醫療防護口罩  透氣口罩 醫療口罩 台灣製醫用口罩', 'item_type': 0, 'is_shop_preferred': True, 'promo_name': '群越 全版莫蘭迪醫療口罩 (50入)', 'stock': 300, 'hidden_price_display': '??', 'voucher': {'min_spend': 7500000, 'discount_percentage': 25, 'coin_percentage': None, 'discount_value': 0, 'voucher_code': 'TUOM55555', 'reward_type': 0, 'promotionid': 622687227674624}, 'cat_label': 0, 'extra_discount_info': None, 'reminder_count': 10, 'is_mart': False, 'cats': [100001, 100018, 100128], 'is_shopee_food': None, 'shopee_food_log_id': None, 'shopee_food_trace': None, 'shopee_food_discount_id': None, 'item_rating': {'rating_star': 4.910785, 'rating_counts': [8586, 27, 24, 96, 394, 8045]}, 'shopee_food_discount_id_str': None, 'historical_sold': None, 'promo_overlay_image_desc': ''}, {'itemid': 9611679501, 'shopid': 16349054, 'modelids': [33561755104, 33561755103], 'promotionid': 156847579533319, 'brand_sale_brand_custom_logo': None, 'image': '3bba841626c49687b5f57843c1527e8e', 'raw_discount': 90, 'price_before_discount': 75000000, 'flash_sale_type': 0, 'promo_overlay_image': 'tw-50009109-c118b2bfde73d7d54deacf88c77844b7', 'promo_images': ['tw-50009109-a8571a53a20ea290641dba60a567800f'], 'price': None, 'start_time': 1691755200, 'end_time': 1691769600, 'discount': '90%', 'flash_catid': 45, 'reference_item_id': '', 'is_shop_official': False, 'flash_sale_stock': None, 'name': '【免運-現貨bld】 鐵粉去除劑 500ml 拔除劑 軟化劑 輪圈清潔 汽車美容 除鐵粉 洗車 輪框清洗劑 鍍膜劑 洗車', 'item_type': 0, 'is_shop_preferred': True, 'promo_name': 'bld鐵粉去除劑 500ml', 'stock': 300, 'hidden_price_display': '??', 'voucher': {'min_spend': 99900000, 'discount_percentage': 0, 'coin_percentage': None, 'discount_value': 3000000, 'voucher_code': 'I36433333', 'reward_type': 0, 'promotionid': 677245585326080}, 'cat_label': 0, 'extra_discount_info': None, 'reminder_count': 3, 'is_mart': False, 'cats': [100640, 100751, 101461], 'is_shopee_food': None, 'shopee_food_log_id': None, 'shopee_food_trace': None, 'shopee_food_discount_id': None, 'item_rating': {'rating_star': 4.923965, 'rating_counts': [2946, 2, 8, 31, 130, 2775]}, 'shopee_food_discount_id_str': None, 'historical_sold': None, 'promo_overlay_image_desc': ''}, {'itemid': 5218720870, 'shopid': 37137599, 'modelids': [14150957765, 14150957766, 14150957764, 45879503831, 45879503832, 50371689091, 98420054500], 'promotionid': 156847579533319, 'brand_sale_brand_custom_logo': None, 'image': '6988a5dda5ff3a237ba0ddd4d50da551', 'raw_discount': 51, 'price_before_discount': 24500000, 'flash_sale_type': 0, 'promo_overlay_image': 'tw-50009109-c118b2bfde73d7d54deacf88c77844b7', 'promo_images': ['01cce6001cb67d4448dadb49fd43a400'], 'price': None, 'start_time': 1691755200, 'end_time': 1691769600, 'discount': '51%', 'flash_catid': 2, 'reference_item_id': '', 'is_shop_official': True, 'flash_sale_stock': None, 'name': '韓國農心 辛拉麵/海鮮烏龍/安城/辛辣白菜/激辣/浣熊炸醬麵/農心石鍋烤肉5包入超值袋 韓國泡麵 蝦皮直送', 'item_type': 0, 'is_shop_preferred': False, 'promo_name': '農心 辛拉麵 / 海鮮烏龍 / 安城 / 辛辣白菜 / 激辣 / 浣熊炸醬麵 / 農心石鍋烤肉', 'stock': 250, 'hidden_price_display': '???', 'voucher': {'min_spend': 19700000, 'discount_percentage': 0, 'coin_percentage': None, 'discount_value': 19600000, 'voucher_code': '24HLFBR37', 'reward_type': 0, 'promotionid': 673549984071680}, 'cat_label': 0, 'extra_discount_info': None, 'reminder_count': 14, 'is_mart': True, 'cats': [100629, 100645, 100784], 'is_shopee_food': None, 'shopee_food_log_id': None, 'shopee_food_trace': None, 'shopee_food_discount_id': None, 'item_rating': {'rating_star': 4.973425, 'rating_counts': [13100, 19, 9, 19, 224, 12829]}, 'shopee_food_discount_id_str': None, 'historical_sold': None, 'promo_overlay_image_desc': ''}, {'itemid': 19019205598, 'shopid': 116309859, 'modelids': [155063262234], 'promotionid': 156847579533319, 'brand_sale_brand_custom_logo': None, 'image': '5b828bd273f673db6e7b668c201d52dc', 'raw_discount': 26, 'price_before_discount': 48800000, 'flash_sale_type': 0, 'promo_overlay_image': 'tw-50009109-c6495ca9a1baca489196eb5dff8d4923', 'promo_images': ['d5531cf3ee6fd409c364c616f48fff6c'], 'price': None, 'start_time': 1691755200, 'end_time': 1691769600, 'discount': '26%', 'flash_catid': 2, 'reference_item_id': '', 'is_shop_official': True, 'flash_sale_stock': None, 'name': 'PHILIPS 飛利浦 全金屬迷你車充車用轉接(DLP3520N) 現貨 蝦皮直送', 'item_type': 0, 'is_shop_preferred': False, 'promo_name': 'PHILIPS飛利浦 全金屬迷你車用轉接', 'stock': 50, 'hidden_price_display': '???', 'voucher': {'min_spend': 100000, 'discount_percentage': 10, 'coin_percentage': None, 'discount_value': 0, 'voucher_code': '24HE803', 'reward_type': 0, 'promotionid': 678497634926592}, 'cat_label': 0, 'extra_discount_info': None, 'reminder_count': 3, 'is_mart': False, 'cats': [100013, 100075, 100291], 'is_shopee_food': None, 'shopee_food_log_id': None, 'shopee_food_trace': None, 'shopee_food_discount_id': None, 'item_rating': {'rating_star': 4.979592, 'rating_counts': [245, 0, 0, 1, 3, 241]}, 'shopee_food_discount_id_str': None, 'historical_sold': None, 'promo_overlay_image_desc': ''}, {'itemid': 2395975530, 'shopid': 64611424, 'modelids': [165454805140], 'promotionid': 156847579533319, 'brand_sale_brand_custom_logo': None, 'image': '30d028ed0dfc1c4179c1dadbe8ec47e6', 'raw_discount': 23, 'price_before_discount': 180000000, 'flash_sale_type': 0, 'promo_overlay_image': 'tw-50009109-1651396d953cdabf290f1e8827d24575', 'promo_images': ['b9c9a66e1ad8036e190e482bb92dd6a4'], 'price': None, 'start_time': 1691755200, 'end_time': 1691769600, 'discount': '23%', 'flash_catid': 13, 'reference_item_id': '', 'is_shop_official': True, 'flash_sale_stock': None, 'name': 'FUJIFILM 富士 instax mini 空白底片 拍立得底片 60張優惠組 預購', 'item_type': 0, 'is_shop_preferred': False, 'promo_name': '富士 mini 空白底片 (6盒)', 'stock': 20, 'hidden_price_display': '?,???', 'voucher': {'min_spend': 200000000, 'discount_percentage': 0, 'coin_percentage': None, 'discount_value': 30000000, 'voucher_code': 'INST11', 'reward_type': 0, 'promotionid': 683023532376064}, 'cat_label': 0, 'extra_discount_info': None, 'reminder_count': 59, 'is_mart': False, 'cats': [100635, 100703, 101114], 'is_shopee_food': None, 'shopee_food_log_id': None, 'shopee_food_trace': None, 'shopee_food_discount_id': None, 'item_rating': {'rating_star': 4.958388, 'rating_counts': [3079, 6, 5, 14, 64, 2990]}, 'shopee_food_discount_id_str': None, 'historical_sold': None, 'promo_overlay_image_desc': ''}, {'itemid': 226450219, 'shopid': 5944302, 'modelids': [50164564071, 21148379409, 40164065757, 174595977995, 174595977992, 174595980005, 50164564069, 174595977999, 40164065750, 174595977998, 40164065756, 40164065760, 50164564063, 40164065749, 40164065751, 40164065755, 21148379407, 174595980001, 50164564070, 21148379408, 50164564073, 50164564066, 50164564068, 174595977996, 70164517643, 174595980003, 16150367951, 50164564065, 70164517642, 40164065754, 70164517641, 50164564064, 174595980004, 174595977997, 50164564072, 40164065753, 40164065752, 40164065748, 40164065759, 40164065761, 174595977993, 174595977994, 174595980002, 174595980000, 50164564067, 40164065758], 'promotionid': 156847579533319, 'brand_sale_brand_custom_logo': None, 'image': '59e1798c1aa5aada8e38f7b2637f69b0', 'raw_discount': 32, 'price_before_discount': 25000000, 'flash_sale_type': 0, 'promo_overlay_image': 'tw-50009109-c118b2bfde73d7d54deacf88c77844b7', 'promo_images': ['tw-50009109-60ca525051ed8d9af93f834bcf36b670'], 'price': None, 'start_time': 1691755200, 'end_time': 1691769600, 'discount': '32%', 'flash_catid': 11, 'reference_item_id': '', 'is_shop_official': False, 'flash_sale_stock': None, 'name': '工廠直售台灣製 3M專利100%防水保潔墊 透氣防螨保潔墊 超透氣防水床單 /單人/雙人/加大/ 床包式防水保潔墊', 'item_type': 0, 'is_shop_preferred': True, 'promo_name': '3M吸濕排汗100%防水保潔墊', 'stock': 640, 'hidden_price_display': '???', 'voucher': {'min_spend': 99900000, 'discount_percentage': 0, 'coin_percentage': None, 'discount_value': 10000000, 'voucher_code': 'BAN10811', 'reward_type': 0, 'promotionid': 644352855670784}, 'cat_label': 0, 'extra_discount_info': None, 'reminder_count': 39, 'is_mart': False, 'cats': [100636, 100710, 101145], 'is_shopee_food': None, 'shopee_food_log_id': None, 'shopee_food_trace': None, 'shopee_food_discount_id': None, 'item_rating': {'rating_star': 4.949961, 'rating_counts': [135359, 123, 77, 754, 4544, 129861]}, 'shopee_food_discount_id_str': None, 'historical_sold': None, 'promo_overlay_image_desc': ''}]}}\n"
     ]
    }
   ],
   "source": [
    "import requests\n",
    "import json\n",
    "payload=json.loads('{\"promotionid\":156847579533319,\"categoryid\":0,\"itemids\":[14516237975,4246870099,1058917442,15082693079,7834934500,7249106007,196438005,18217073592,19353778844,18937619016,19161601768,9611679501,5218720870,19019205598,2395975530,226450219],\"limit\":16,\"with_dp_items\":true}')\n",
    "req=requests.post(\"https://shopee.tw/api/v4/flash_sale/flash_sale_batch_get_items\",json=payload)\n",
    "jd=json.loads(req.text)\n",
    "print(jd)"
   ]
  },
  {
   "cell_type": "code",
   "execution_count": null,
   "id": "8d10b62f",
   "metadata": {},
   "outputs": [],
   "source": []
  }
 ],
 "metadata": {
  "kernelspec": {
   "display_name": "Python 3 (ipykernel)",
   "language": "python",
   "name": "python3"
  },
  "language_info": {
   "codemirror_mode": {
    "name": "ipython",
    "version": 3
   },
   "file_extension": ".py",
   "mimetype": "text/x-python",
   "name": "python",
   "nbconvert_exporter": "python",
   "pygments_lexer": "ipython3",
   "version": "3.11.4"
  }
 },
 "nbformat": 4,
 "nbformat_minor": 5
}
